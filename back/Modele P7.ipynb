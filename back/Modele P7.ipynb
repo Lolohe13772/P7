{
 "cells": [
  {
   "cell_type": "code",
   "execution_count": 1,
   "id": "1793a1e4",
   "metadata": {},
   "outputs": [
    {
     "name": "stderr",
     "output_type": "stream",
     "text": [
      "/opt/anaconda3/lib/python3.9/site-packages/sklearn/experimental/enable_hist_gradient_boosting.py:16: UserWarning: Since version 1.0, it is not needed to import enable_hist_gradient_boosting anymore. HistGradientBoostingClassifier and HistGradientBoostingRegressor are now stable and can be normally imported from sklearn.ensemble.\n",
      "  warnings.warn(\n"
     ]
    }
   ],
   "source": [
    "import numpy as np\n",
    "import pandas as pd\n",
    "import seaborn as sns\n",
    "from sklearn import datasets, preprocessing, model_selection, ensemble, pipeline\n",
    "from sklearn.experimental import enable_hist_gradient_boosting\n",
    "from sklearn.linear_model import LogisticRegression\n",
    "from sklearn.tree import DecisionTreeClassifier\n",
    "from sklearn.ensemble import RandomForestClassifier\n",
    "from sklearn.metrics import accuracy_score\n",
    "from sklearn.model_selection import cross_val_score\n",
    "from sklearn.metrics import classification_report, confusion_matrix, roc_curve\n",
    "from sklearn.model_selection import train_test_split, StratifiedKFold\n",
    "from imblearn.over_sampling import SMOTE\n",
    "from sklearn.metrics import accuracy_score, roc_auc_score, f1_score, precision_score, recall_score \n",
    "from imblearn.pipeline import make_pipeline, Pipeline\n",
    "from sklearn.model_selection import cross_val_predict, cross_val_score, learning_curve, cross_validate\n",
    "from sklearn.preprocessing import StandardScaler\n",
    "from sklearn.ensemble import RandomForestClassifier\n",
    "from sklearn.preprocessing import StandardScaler\n",
    "from sklearn.model_selection import train_test_split\n",
    "from sklearn.metrics import accuracy_score\n",
    "from xgboost import XGBClassifier\n",
    "from sklearn.svm import SVC\n",
    "from sklearn.metrics import precision_recall_fscore_support"
   ]
  },
  {
   "cell_type": "code",
   "execution_count": 2,
   "id": "fd8d1282",
   "metadata": {},
   "outputs": [
    {
     "data": {
      "text/html": [
       "<div>\n",
       "<style scoped>\n",
       "    .dataframe tbody tr th:only-of-type {\n",
       "        vertical-align: middle;\n",
       "    }\n",
       "\n",
       "    .dataframe tbody tr th {\n",
       "        vertical-align: top;\n",
       "    }\n",
       "\n",
       "    .dataframe thead th {\n",
       "        text-align: right;\n",
       "    }\n",
       "</style>\n",
       "<table border=\"1\" class=\"dataframe\">\n",
       "  <thead>\n",
       "    <tr style=\"text-align: right;\">\n",
       "      <th></th>\n",
       "      <th>Unnamed: 0</th>\n",
       "      <th>index</th>\n",
       "      <th>SK_ID_CURR</th>\n",
       "      <th>TARGET</th>\n",
       "      <th>CODE_GENDER</th>\n",
       "      <th>FLAG_OWN_CAR</th>\n",
       "      <th>FLAG_OWN_REALTY</th>\n",
       "      <th>CNT_CHILDREN</th>\n",
       "      <th>AMT_INCOME_TOTAL</th>\n",
       "      <th>AMT_CREDIT</th>\n",
       "      <th>...</th>\n",
       "      <th>CC_NAME_CONTRACT_STATUS_Signed_MAX</th>\n",
       "      <th>CC_NAME_CONTRACT_STATUS_Signed_MEAN</th>\n",
       "      <th>CC_NAME_CONTRACT_STATUS_Signed_SUM</th>\n",
       "      <th>CC_NAME_CONTRACT_STATUS_Signed_VAR</th>\n",
       "      <th>CC_NAME_CONTRACT_STATUS_nan_MIN</th>\n",
       "      <th>CC_NAME_CONTRACT_STATUS_nan_MAX</th>\n",
       "      <th>CC_NAME_CONTRACT_STATUS_nan_MEAN</th>\n",
       "      <th>CC_NAME_CONTRACT_STATUS_nan_SUM</th>\n",
       "      <th>CC_NAME_CONTRACT_STATUS_nan_VAR</th>\n",
       "      <th>CC_COUNT</th>\n",
       "    </tr>\n",
       "  </thead>\n",
       "  <tbody>\n",
       "    <tr>\n",
       "      <th>0</th>\n",
       "      <td>0</td>\n",
       "      <td>0</td>\n",
       "      <td>100002</td>\n",
       "      <td>1.0</td>\n",
       "      <td>0</td>\n",
       "      <td>0</td>\n",
       "      <td>0</td>\n",
       "      <td>0</td>\n",
       "      <td>202500.0</td>\n",
       "      <td>406597.5</td>\n",
       "      <td>...</td>\n",
       "      <td>NaN</td>\n",
       "      <td>NaN</td>\n",
       "      <td>NaN</td>\n",
       "      <td>NaN</td>\n",
       "      <td>NaN</td>\n",
       "      <td>NaN</td>\n",
       "      <td>NaN</td>\n",
       "      <td>NaN</td>\n",
       "      <td>NaN</td>\n",
       "      <td>NaN</td>\n",
       "    </tr>\n",
       "    <tr>\n",
       "      <th>1</th>\n",
       "      <td>1</td>\n",
       "      <td>1</td>\n",
       "      <td>100003</td>\n",
       "      <td>0.0</td>\n",
       "      <td>1</td>\n",
       "      <td>0</td>\n",
       "      <td>1</td>\n",
       "      <td>0</td>\n",
       "      <td>270000.0</td>\n",
       "      <td>1293502.5</td>\n",
       "      <td>...</td>\n",
       "      <td>NaN</td>\n",
       "      <td>NaN</td>\n",
       "      <td>NaN</td>\n",
       "      <td>NaN</td>\n",
       "      <td>NaN</td>\n",
       "      <td>NaN</td>\n",
       "      <td>NaN</td>\n",
       "      <td>NaN</td>\n",
       "      <td>NaN</td>\n",
       "      <td>NaN</td>\n",
       "    </tr>\n",
       "    <tr>\n",
       "      <th>2</th>\n",
       "      <td>2</td>\n",
       "      <td>2</td>\n",
       "      <td>100004</td>\n",
       "      <td>0.0</td>\n",
       "      <td>0</td>\n",
       "      <td>1</td>\n",
       "      <td>0</td>\n",
       "      <td>0</td>\n",
       "      <td>67500.0</td>\n",
       "      <td>135000.0</td>\n",
       "      <td>...</td>\n",
       "      <td>NaN</td>\n",
       "      <td>NaN</td>\n",
       "      <td>NaN</td>\n",
       "      <td>NaN</td>\n",
       "      <td>NaN</td>\n",
       "      <td>NaN</td>\n",
       "      <td>NaN</td>\n",
       "      <td>NaN</td>\n",
       "      <td>NaN</td>\n",
       "      <td>NaN</td>\n",
       "    </tr>\n",
       "    <tr>\n",
       "      <th>3</th>\n",
       "      <td>3</td>\n",
       "      <td>3</td>\n",
       "      <td>100006</td>\n",
       "      <td>0.0</td>\n",
       "      <td>1</td>\n",
       "      <td>0</td>\n",
       "      <td>0</td>\n",
       "      <td>0</td>\n",
       "      <td>135000.0</td>\n",
       "      <td>312682.5</td>\n",
       "      <td>...</td>\n",
       "      <td>0.0</td>\n",
       "      <td>0.0</td>\n",
       "      <td>0.0</td>\n",
       "      <td>0.0</td>\n",
       "      <td>0.0</td>\n",
       "      <td>0.0</td>\n",
       "      <td>0.0</td>\n",
       "      <td>0.0</td>\n",
       "      <td>0.0</td>\n",
       "      <td>6.0</td>\n",
       "    </tr>\n",
       "    <tr>\n",
       "      <th>4</th>\n",
       "      <td>4</td>\n",
       "      <td>4</td>\n",
       "      <td>100007</td>\n",
       "      <td>0.0</td>\n",
       "      <td>0</td>\n",
       "      <td>0</td>\n",
       "      <td>0</td>\n",
       "      <td>0</td>\n",
       "      <td>121500.0</td>\n",
       "      <td>513000.0</td>\n",
       "      <td>...</td>\n",
       "      <td>NaN</td>\n",
       "      <td>NaN</td>\n",
       "      <td>NaN</td>\n",
       "      <td>NaN</td>\n",
       "      <td>NaN</td>\n",
       "      <td>NaN</td>\n",
       "      <td>NaN</td>\n",
       "      <td>NaN</td>\n",
       "      <td>NaN</td>\n",
       "      <td>NaN</td>\n",
       "    </tr>\n",
       "  </tbody>\n",
       "</table>\n",
       "<p>5 rows × 799 columns</p>\n",
       "</div>"
      ],
      "text/plain": [
       "   Unnamed: 0  index  SK_ID_CURR  TARGET  CODE_GENDER  FLAG_OWN_CAR  \\\n",
       "0           0      0      100002     1.0            0             0   \n",
       "1           1      1      100003     0.0            1             0   \n",
       "2           2      2      100004     0.0            0             1   \n",
       "3           3      3      100006     0.0            1             0   \n",
       "4           4      4      100007     0.0            0             0   \n",
       "\n",
       "   FLAG_OWN_REALTY  CNT_CHILDREN  AMT_INCOME_TOTAL  AMT_CREDIT  ...  \\\n",
       "0                0             0          202500.0    406597.5  ...   \n",
       "1                1             0          270000.0   1293502.5  ...   \n",
       "2                0             0           67500.0    135000.0  ...   \n",
       "3                0             0          135000.0    312682.5  ...   \n",
       "4                0             0          121500.0    513000.0  ...   \n",
       "\n",
       "   CC_NAME_CONTRACT_STATUS_Signed_MAX  CC_NAME_CONTRACT_STATUS_Signed_MEAN  \\\n",
       "0                                 NaN                                  NaN   \n",
       "1                                 NaN                                  NaN   \n",
       "2                                 NaN                                  NaN   \n",
       "3                                 0.0                                  0.0   \n",
       "4                                 NaN                                  NaN   \n",
       "\n",
       "   CC_NAME_CONTRACT_STATUS_Signed_SUM  CC_NAME_CONTRACT_STATUS_Signed_VAR  \\\n",
       "0                                 NaN                                 NaN   \n",
       "1                                 NaN                                 NaN   \n",
       "2                                 NaN                                 NaN   \n",
       "3                                 0.0                                 0.0   \n",
       "4                                 NaN                                 NaN   \n",
       "\n",
       "   CC_NAME_CONTRACT_STATUS_nan_MIN  CC_NAME_CONTRACT_STATUS_nan_MAX  \\\n",
       "0                              NaN                              NaN   \n",
       "1                              NaN                              NaN   \n",
       "2                              NaN                              NaN   \n",
       "3                              0.0                              0.0   \n",
       "4                              NaN                              NaN   \n",
       "\n",
       "   CC_NAME_CONTRACT_STATUS_nan_MEAN  CC_NAME_CONTRACT_STATUS_nan_SUM  \\\n",
       "0                               NaN                              NaN   \n",
       "1                               NaN                              NaN   \n",
       "2                               NaN                              NaN   \n",
       "3                               0.0                              0.0   \n",
       "4                               NaN                              NaN   \n",
       "\n",
       "   CC_NAME_CONTRACT_STATUS_nan_VAR  CC_COUNT  \n",
       "0                              NaN       NaN  \n",
       "1                              NaN       NaN  \n",
       "2                              NaN       NaN  \n",
       "3                              0.0       6.0  \n",
       "4                              NaN       NaN  \n",
       "\n",
       "[5 rows x 799 columns]"
      ]
     },
     "execution_count": 2,
     "metadata": {},
     "output_type": "execute_result"
    }
   ],
   "source": [
    "import pandas as pd\n",
    "df=pd.read_csv(\"df_scoring.csv\")\n",
    "df.head()"
   ]
  },
  {
   "cell_type": "code",
   "execution_count": 3,
   "id": "7e6ffb62",
   "metadata": {},
   "outputs": [],
   "source": [
    "df_sample=df.sample(300)"
   ]
  },
  {
   "cell_type": "code",
   "execution_count": 4,
   "id": "f8bc6975",
   "metadata": {},
   "outputs": [],
   "source": [
    "# Isolement des 20 premières colonnes ayant le plus fort taux de corrélation"
   ]
  },
  {
   "cell_type": "code",
   "execution_count": 5,
   "id": "e52361f4",
   "metadata": {},
   "outputs": [
    {
     "data": {
      "text/plain": [
       "TARGET                              1.000000\n",
       "CC_AMT_BALANCE_MEAN                 0.416629\n",
       "CC_AMT_RECIVABLE_MEAN               0.415743\n",
       "CC_AMT_TOTAL_RECEIVABLE_MEAN        0.415742\n",
       "CC_AMT_RECEIVABLE_PRINCIPAL_MEAN    0.413889\n",
       "BURO_STATUS_1_MEAN_MEAN             0.411951\n",
       "CC_AMT_BALANCE_SUM                  0.410587\n",
       "CC_AMT_RECIVABLE_SUM                0.410108\n",
       "CC_AMT_TOTAL_RECEIVABLE_SUM         0.410103\n",
       "CC_AMT_RECEIVABLE_PRINCIPAL_SUM     0.409260\n",
       "CC_AMT_INST_MIN_REGULARITY_MEAN     0.401854\n",
       "CC_AMT_DRAWINGS_CURRENT_VAR         0.397496\n",
       "CC_AMT_INST_MIN_REGULARITY_VAR      0.396763\n",
       "CC_AMT_INST_MIN_REGULARITY_SUM      0.369794\n",
       "CC_AMT_DRAWINGS_CURRENT_MAX         0.360673\n",
       "CLOSED_AMT_ANNUITY_MEAN             0.348782\n",
       "CC_AMT_DRAWINGS_POS_CURRENT_VAR     0.334793\n",
       "CC_AMT_INST_MIN_REGULARITY_MAX      0.331149\n",
       "CC_AMT_BALANCE_MAX                  0.330913\n",
       "CC_AMT_RECIVABLE_MAX                0.329631\n",
       "Name: TARGET, dtype: float64"
      ]
     },
     "execution_count": 5,
     "metadata": {},
     "output_type": "execute_result"
    }
   ],
   "source": [
    "corr_matrix=df_sample.corr()\n",
    "corr_matrix[\"TARGET\"].sort_values(ascending=False)[:20]"
   ]
  },
  {
   "cell_type": "code",
   "execution_count": 6,
   "id": "ec88309a",
   "metadata": {},
   "outputs": [],
   "source": [
    "col_list = ['TARGET', 'CC_CNT_DRAWINGS_CURRENT_MIN', 'CC_AMT_DRAWINGS_POS_CURRENT_VAR', 'CC_CNT_DRAWINGS_POS_CURRENT_MEAN', 'ACTIVE_AMT_ANNUITY_MEAN', 'CC_CNT_DRAWINGS_POS_CURRENT_MIN', 'CLOSED_AMT_ANNUITY_MEAN', 'CLOSED_AMT_ANNUITY_MAX', 'BURO_STATUS_0_MEAN_MEAN', 'ACTIVE_AMT_ANNUITY_MAX', 'BURO_AMT_ANNUITY_MAX', 'BURO_AMT_ANNUITY_MEAN','CC_AMT_DRAWINGS_CURRENT_VAR', 'CC_AMT_DRAWINGS_POS_CURRENT_MAX','CC_AMT_DRAWINGS_CURRENT_MEAN','BURO_CREDIT_TYPE_Another type of loan_MEAN', 'PREV_CODE_REJECT_REASON_VERIF_MEAN', 'PREV_CODE_REJECT_REASON_VERIF_MEAN', 'PREV_NAME_CASH_LOAN_PURPOSE_Purchase of electronic equipment_MEAN', 'CC_CNT_DRAWINGS_POS_CURRENT_MEAN', 'NAME_TYPE_SUITE_Group of people']"
   ]
  },
  {
   "cell_type": "code",
   "execution_count": 7,
   "id": "8e07bc7d",
   "metadata": {},
   "outputs": [],
   "source": [
    "df=df_sample[col_list]"
   ]
  },
  {
   "cell_type": "code",
   "execution_count": 8,
   "id": "a3107bce",
   "metadata": {},
   "outputs": [],
   "source": [
    "df= df[df['TARGET'].notna()]"
   ]
  },
  {
   "cell_type": "code",
   "execution_count": 9,
   "id": "bb11106f",
   "metadata": {},
   "outputs": [
    {
     "data": {
      "text/html": [
       "<div>\n",
       "<style scoped>\n",
       "    .dataframe tbody tr th:only-of-type {\n",
       "        vertical-align: middle;\n",
       "    }\n",
       "\n",
       "    .dataframe tbody tr th {\n",
       "        vertical-align: top;\n",
       "    }\n",
       "\n",
       "    .dataframe thead th {\n",
       "        text-align: right;\n",
       "    }\n",
       "</style>\n",
       "<table border=\"1\" class=\"dataframe\">\n",
       "  <thead>\n",
       "    <tr style=\"text-align: right;\">\n",
       "      <th></th>\n",
       "      <th>TARGET</th>\n",
       "      <th>CC_CNT_DRAWINGS_CURRENT_MIN</th>\n",
       "      <th>CC_AMT_DRAWINGS_POS_CURRENT_VAR</th>\n",
       "      <th>CC_CNT_DRAWINGS_POS_CURRENT_MEAN</th>\n",
       "      <th>ACTIVE_AMT_ANNUITY_MEAN</th>\n",
       "      <th>CC_CNT_DRAWINGS_POS_CURRENT_MIN</th>\n",
       "      <th>CLOSED_AMT_ANNUITY_MEAN</th>\n",
       "      <th>CLOSED_AMT_ANNUITY_MAX</th>\n",
       "      <th>BURO_STATUS_0_MEAN_MEAN</th>\n",
       "      <th>ACTIVE_AMT_ANNUITY_MAX</th>\n",
       "      <th>...</th>\n",
       "      <th>BURO_AMT_ANNUITY_MEAN</th>\n",
       "      <th>CC_AMT_DRAWINGS_CURRENT_VAR</th>\n",
       "      <th>CC_AMT_DRAWINGS_POS_CURRENT_MAX</th>\n",
       "      <th>CC_AMT_DRAWINGS_CURRENT_MEAN</th>\n",
       "      <th>BURO_CREDIT_TYPE_Another type of loan_MEAN</th>\n",
       "      <th>PREV_CODE_REJECT_REASON_VERIF_MEAN</th>\n",
       "      <th>PREV_CODE_REJECT_REASON_VERIF_MEAN</th>\n",
       "      <th>PREV_NAME_CASH_LOAN_PURPOSE_Purchase of electronic equipment_MEAN</th>\n",
       "      <th>CC_CNT_DRAWINGS_POS_CURRENT_MEAN</th>\n",
       "      <th>NAME_TYPE_SUITE_Group of people</th>\n",
       "    </tr>\n",
       "  </thead>\n",
       "  <tbody>\n",
       "    <tr>\n",
       "      <th>232215</th>\n",
       "      <td>1.0</td>\n",
       "      <td>0.0</td>\n",
       "      <td>1.644599e+06</td>\n",
       "      <td>0.145833</td>\n",
       "      <td>18000.0</td>\n",
       "      <td>0.0</td>\n",
       "      <td>20853.0</td>\n",
       "      <td>35194.5</td>\n",
       "      <td>0.747789</td>\n",
       "      <td>18000.0</td>\n",
       "      <td>...</td>\n",
       "      <td>19902.0</td>\n",
       "      <td>9.334380e+08</td>\n",
       "      <td>8847.45</td>\n",
       "      <td>7608.159375</td>\n",
       "      <td>0.0</td>\n",
       "      <td>0.0</td>\n",
       "      <td>0.0</td>\n",
       "      <td>0.0</td>\n",
       "      <td>0.145833</td>\n",
       "      <td>0</td>\n",
       "    </tr>\n",
       "    <tr>\n",
       "      <th>92892</th>\n",
       "      <td>1.0</td>\n",
       "      <td>NaN</td>\n",
       "      <td>NaN</td>\n",
       "      <td>NaN</td>\n",
       "      <td>NaN</td>\n",
       "      <td>NaN</td>\n",
       "      <td>NaN</td>\n",
       "      <td>NaN</td>\n",
       "      <td>NaN</td>\n",
       "      <td>NaN</td>\n",
       "      <td>...</td>\n",
       "      <td>NaN</td>\n",
       "      <td>NaN</td>\n",
       "      <td>NaN</td>\n",
       "      <td>NaN</td>\n",
       "      <td>0.0</td>\n",
       "      <td>0.0</td>\n",
       "      <td>0.0</td>\n",
       "      <td>0.0</td>\n",
       "      <td>NaN</td>\n",
       "      <td>0</td>\n",
       "    </tr>\n",
       "    <tr>\n",
       "      <th>111796</th>\n",
       "      <td>0.0</td>\n",
       "      <td>0.0</td>\n",
       "      <td>0.000000e+00</td>\n",
       "      <td>0.000000</td>\n",
       "      <td>NaN</td>\n",
       "      <td>0.0</td>\n",
       "      <td>NaN</td>\n",
       "      <td>NaN</td>\n",
       "      <td>NaN</td>\n",
       "      <td>NaN</td>\n",
       "      <td>...</td>\n",
       "      <td>NaN</td>\n",
       "      <td>0.000000e+00</td>\n",
       "      <td>0.00</td>\n",
       "      <td>0.000000</td>\n",
       "      <td>0.0</td>\n",
       "      <td>0.0</td>\n",
       "      <td>0.0</td>\n",
       "      <td>0.0</td>\n",
       "      <td>0.000000</td>\n",
       "      <td>0</td>\n",
       "    </tr>\n",
       "    <tr>\n",
       "      <th>196942</th>\n",
       "      <td>0.0</td>\n",
       "      <td>0.0</td>\n",
       "      <td>NaN</td>\n",
       "      <td>NaN</td>\n",
       "      <td>NaN</td>\n",
       "      <td>NaN</td>\n",
       "      <td>NaN</td>\n",
       "      <td>NaN</td>\n",
       "      <td>NaN</td>\n",
       "      <td>NaN</td>\n",
       "      <td>...</td>\n",
       "      <td>NaN</td>\n",
       "      <td>0.000000e+00</td>\n",
       "      <td>NaN</td>\n",
       "      <td>0.000000</td>\n",
       "      <td>0.0</td>\n",
       "      <td>0.0</td>\n",
       "      <td>0.0</td>\n",
       "      <td>0.0</td>\n",
       "      <td>NaN</td>\n",
       "      <td>0</td>\n",
       "    </tr>\n",
       "    <tr>\n",
       "      <th>221300</th>\n",
       "      <td>0.0</td>\n",
       "      <td>NaN</td>\n",
       "      <td>NaN</td>\n",
       "      <td>NaN</td>\n",
       "      <td>NaN</td>\n",
       "      <td>NaN</td>\n",
       "      <td>NaN</td>\n",
       "      <td>NaN</td>\n",
       "      <td>NaN</td>\n",
       "      <td>NaN</td>\n",
       "      <td>...</td>\n",
       "      <td>NaN</td>\n",
       "      <td>NaN</td>\n",
       "      <td>NaN</td>\n",
       "      <td>NaN</td>\n",
       "      <td>0.0</td>\n",
       "      <td>0.0</td>\n",
       "      <td>0.0</td>\n",
       "      <td>0.0</td>\n",
       "      <td>NaN</td>\n",
       "      <td>0</td>\n",
       "    </tr>\n",
       "  </tbody>\n",
       "</table>\n",
       "<p>5 rows × 21 columns</p>\n",
       "</div>"
      ],
      "text/plain": [
       "        TARGET  CC_CNT_DRAWINGS_CURRENT_MIN  CC_AMT_DRAWINGS_POS_CURRENT_VAR  \\\n",
       "232215     1.0                          0.0                     1.644599e+06   \n",
       "92892      1.0                          NaN                              NaN   \n",
       "111796     0.0                          0.0                     0.000000e+00   \n",
       "196942     0.0                          0.0                              NaN   \n",
       "221300     0.0                          NaN                              NaN   \n",
       "\n",
       "        CC_CNT_DRAWINGS_POS_CURRENT_MEAN  ACTIVE_AMT_ANNUITY_MEAN  \\\n",
       "232215                          0.145833                  18000.0   \n",
       "92892                                NaN                      NaN   \n",
       "111796                          0.000000                      NaN   \n",
       "196942                               NaN                      NaN   \n",
       "221300                               NaN                      NaN   \n",
       "\n",
       "        CC_CNT_DRAWINGS_POS_CURRENT_MIN  CLOSED_AMT_ANNUITY_MEAN  \\\n",
       "232215                              0.0                  20853.0   \n",
       "92892                               NaN                      NaN   \n",
       "111796                              0.0                      NaN   \n",
       "196942                              NaN                      NaN   \n",
       "221300                              NaN                      NaN   \n",
       "\n",
       "        CLOSED_AMT_ANNUITY_MAX  BURO_STATUS_0_MEAN_MEAN  \\\n",
       "232215                 35194.5                 0.747789   \n",
       "92892                      NaN                      NaN   \n",
       "111796                     NaN                      NaN   \n",
       "196942                     NaN                      NaN   \n",
       "221300                     NaN                      NaN   \n",
       "\n",
       "        ACTIVE_AMT_ANNUITY_MAX  ...  BURO_AMT_ANNUITY_MEAN  \\\n",
       "232215                 18000.0  ...                19902.0   \n",
       "92892                      NaN  ...                    NaN   \n",
       "111796                     NaN  ...                    NaN   \n",
       "196942                     NaN  ...                    NaN   \n",
       "221300                     NaN  ...                    NaN   \n",
       "\n",
       "        CC_AMT_DRAWINGS_CURRENT_VAR  CC_AMT_DRAWINGS_POS_CURRENT_MAX  \\\n",
       "232215                 9.334380e+08                          8847.45   \n",
       "92892                           NaN                              NaN   \n",
       "111796                 0.000000e+00                             0.00   \n",
       "196942                 0.000000e+00                              NaN   \n",
       "221300                          NaN                              NaN   \n",
       "\n",
       "        CC_AMT_DRAWINGS_CURRENT_MEAN  \\\n",
       "232215                   7608.159375   \n",
       "92892                            NaN   \n",
       "111796                      0.000000   \n",
       "196942                      0.000000   \n",
       "221300                           NaN   \n",
       "\n",
       "        BURO_CREDIT_TYPE_Another type of loan_MEAN  \\\n",
       "232215                                         0.0   \n",
       "92892                                          0.0   \n",
       "111796                                         0.0   \n",
       "196942                                         0.0   \n",
       "221300                                         0.0   \n",
       "\n",
       "        PREV_CODE_REJECT_REASON_VERIF_MEAN  \\\n",
       "232215                                 0.0   \n",
       "92892                                  0.0   \n",
       "111796                                 0.0   \n",
       "196942                                 0.0   \n",
       "221300                                 0.0   \n",
       "\n",
       "        PREV_CODE_REJECT_REASON_VERIF_MEAN  \\\n",
       "232215                                 0.0   \n",
       "92892                                  0.0   \n",
       "111796                                 0.0   \n",
       "196942                                 0.0   \n",
       "221300                                 0.0   \n",
       "\n",
       "        PREV_NAME_CASH_LOAN_PURPOSE_Purchase of electronic equipment_MEAN  \\\n",
       "232215                                                0.0                   \n",
       "92892                                                 0.0                   \n",
       "111796                                                0.0                   \n",
       "196942                                                0.0                   \n",
       "221300                                                0.0                   \n",
       "\n",
       "        CC_CNT_DRAWINGS_POS_CURRENT_MEAN  NAME_TYPE_SUITE_Group of people  \n",
       "232215                          0.145833                                0  \n",
       "92892                                NaN                                0  \n",
       "111796                          0.000000                                0  \n",
       "196942                               NaN                                0  \n",
       "221300                               NaN                                0  \n",
       "\n",
       "[5 rows x 21 columns]"
      ]
     },
     "execution_count": 9,
     "metadata": {},
     "output_type": "execute_result"
    }
   ],
   "source": [
    "df.head()"
   ]
  },
  {
   "cell_type": "code",
   "execution_count": 10,
   "id": "73bec7e8",
   "metadata": {},
   "outputs": [],
   "source": [
    "# Remplacer les valeurs manquantes dans toutes les colonnes sauf la première\n",
    "df.iloc[:, 1:] = df.iloc[:, 1:].fillna(df.iloc[:, 1:].mean())"
   ]
  },
  {
   "cell_type": "code",
   "execution_count": 11,
   "id": "0b2d2cbe",
   "metadata": {},
   "outputs": [
    {
     "data": {
      "text/html": [
       "<div>\n",
       "<style scoped>\n",
       "    .dataframe tbody tr th:only-of-type {\n",
       "        vertical-align: middle;\n",
       "    }\n",
       "\n",
       "    .dataframe tbody tr th {\n",
       "        vertical-align: top;\n",
       "    }\n",
       "\n",
       "    .dataframe thead th {\n",
       "        text-align: right;\n",
       "    }\n",
       "</style>\n",
       "<table border=\"1\" class=\"dataframe\">\n",
       "  <thead>\n",
       "    <tr style=\"text-align: right;\">\n",
       "      <th></th>\n",
       "      <th>TARGET</th>\n",
       "      <th>CC_CNT_DRAWINGS_CURRENT_MIN</th>\n",
       "      <th>CC_AMT_DRAWINGS_POS_CURRENT_VAR</th>\n",
       "      <th>CC_CNT_DRAWINGS_POS_CURRENT_MEAN</th>\n",
       "      <th>ACTIVE_AMT_ANNUITY_MEAN</th>\n",
       "      <th>CC_CNT_DRAWINGS_POS_CURRENT_MIN</th>\n",
       "      <th>CLOSED_AMT_ANNUITY_MEAN</th>\n",
       "      <th>CLOSED_AMT_ANNUITY_MAX</th>\n",
       "      <th>BURO_STATUS_0_MEAN_MEAN</th>\n",
       "      <th>ACTIVE_AMT_ANNUITY_MAX</th>\n",
       "      <th>...</th>\n",
       "      <th>BURO_AMT_ANNUITY_MEAN</th>\n",
       "      <th>CC_AMT_DRAWINGS_CURRENT_VAR</th>\n",
       "      <th>CC_AMT_DRAWINGS_POS_CURRENT_MAX</th>\n",
       "      <th>CC_AMT_DRAWINGS_CURRENT_MEAN</th>\n",
       "      <th>BURO_CREDIT_TYPE_Another type of loan_MEAN</th>\n",
       "      <th>PREV_CODE_REJECT_REASON_VERIF_MEAN</th>\n",
       "      <th>PREV_CODE_REJECT_REASON_VERIF_MEAN</th>\n",
       "      <th>PREV_NAME_CASH_LOAN_PURPOSE_Purchase of electronic equipment_MEAN</th>\n",
       "      <th>CC_CNT_DRAWINGS_POS_CURRENT_MEAN</th>\n",
       "      <th>NAME_TYPE_SUITE_Group of people</th>\n",
       "    </tr>\n",
       "  </thead>\n",
       "  <tbody>\n",
       "    <tr>\n",
       "      <th>232215</th>\n",
       "      <td>1.0</td>\n",
       "      <td>0.000000</td>\n",
       "      <td>1.644599e+06</td>\n",
       "      <td>0.145833</td>\n",
       "      <td>18000.000000</td>\n",
       "      <td>0.000000</td>\n",
       "      <td>20853.000000</td>\n",
       "      <td>35194.500000</td>\n",
       "      <td>0.747789</td>\n",
       "      <td>18000.000000</td>\n",
       "      <td>...</td>\n",
       "      <td>19902.000000</td>\n",
       "      <td>9.334380e+08</td>\n",
       "      <td>8847.450000</td>\n",
       "      <td>7608.159375</td>\n",
       "      <td>0.0</td>\n",
       "      <td>0.0</td>\n",
       "      <td>0.0</td>\n",
       "      <td>0.0</td>\n",
       "      <td>0.145833</td>\n",
       "      <td>0</td>\n",
       "    </tr>\n",
       "    <tr>\n",
       "      <th>92892</th>\n",
       "      <td>1.0</td>\n",
       "      <td>0.065789</td>\n",
       "      <td>6.161416e+08</td>\n",
       "      <td>1.096847</td>\n",
       "      <td>13651.456867</td>\n",
       "      <td>0.115385</td>\n",
       "      <td>6577.477961</td>\n",
       "      <td>9704.169167</td>\n",
       "      <td>0.456575</td>\n",
       "      <td>19127.506224</td>\n",
       "      <td>...</td>\n",
       "      <td>11561.887872</td>\n",
       "      <td>2.032604e+09</td>\n",
       "      <td>43973.084423</td>\n",
       "      <td>14180.855698</td>\n",
       "      <td>0.0</td>\n",
       "      <td>0.0</td>\n",
       "      <td>0.0</td>\n",
       "      <td>0.0</td>\n",
       "      <td>1.096847</td>\n",
       "      <td>0</td>\n",
       "    </tr>\n",
       "    <tr>\n",
       "      <th>111796</th>\n",
       "      <td>0.0</td>\n",
       "      <td>0.000000</td>\n",
       "      <td>0.000000e+00</td>\n",
       "      <td>0.000000</td>\n",
       "      <td>13651.456867</td>\n",
       "      <td>0.000000</td>\n",
       "      <td>6577.477961</td>\n",
       "      <td>9704.169167</td>\n",
       "      <td>0.456575</td>\n",
       "      <td>19127.506224</td>\n",
       "      <td>...</td>\n",
       "      <td>11561.887872</td>\n",
       "      <td>0.000000e+00</td>\n",
       "      <td>0.000000</td>\n",
       "      <td>0.000000</td>\n",
       "      <td>0.0</td>\n",
       "      <td>0.0</td>\n",
       "      <td>0.0</td>\n",
       "      <td>0.0</td>\n",
       "      <td>0.000000</td>\n",
       "      <td>0</td>\n",
       "    </tr>\n",
       "    <tr>\n",
       "      <th>196942</th>\n",
       "      <td>0.0</td>\n",
       "      <td>0.000000</td>\n",
       "      <td>6.161416e+08</td>\n",
       "      <td>1.096847</td>\n",
       "      <td>13651.456867</td>\n",
       "      <td>0.115385</td>\n",
       "      <td>6577.477961</td>\n",
       "      <td>9704.169167</td>\n",
       "      <td>0.456575</td>\n",
       "      <td>19127.506224</td>\n",
       "      <td>...</td>\n",
       "      <td>11561.887872</td>\n",
       "      <td>0.000000e+00</td>\n",
       "      <td>43973.084423</td>\n",
       "      <td>0.000000</td>\n",
       "      <td>0.0</td>\n",
       "      <td>0.0</td>\n",
       "      <td>0.0</td>\n",
       "      <td>0.0</td>\n",
       "      <td>1.096847</td>\n",
       "      <td>0</td>\n",
       "    </tr>\n",
       "    <tr>\n",
       "      <th>221300</th>\n",
       "      <td>0.0</td>\n",
       "      <td>0.065789</td>\n",
       "      <td>6.161416e+08</td>\n",
       "      <td>1.096847</td>\n",
       "      <td>13651.456867</td>\n",
       "      <td>0.115385</td>\n",
       "      <td>6577.477961</td>\n",
       "      <td>9704.169167</td>\n",
       "      <td>0.456575</td>\n",
       "      <td>19127.506224</td>\n",
       "      <td>...</td>\n",
       "      <td>11561.887872</td>\n",
       "      <td>2.032604e+09</td>\n",
       "      <td>43973.084423</td>\n",
       "      <td>14180.855698</td>\n",
       "      <td>0.0</td>\n",
       "      <td>0.0</td>\n",
       "      <td>0.0</td>\n",
       "      <td>0.0</td>\n",
       "      <td>1.096847</td>\n",
       "      <td>0</td>\n",
       "    </tr>\n",
       "  </tbody>\n",
       "</table>\n",
       "<p>5 rows × 21 columns</p>\n",
       "</div>"
      ],
      "text/plain": [
       "        TARGET  CC_CNT_DRAWINGS_CURRENT_MIN  CC_AMT_DRAWINGS_POS_CURRENT_VAR  \\\n",
       "232215     1.0                     0.000000                     1.644599e+06   \n",
       "92892      1.0                     0.065789                     6.161416e+08   \n",
       "111796     0.0                     0.000000                     0.000000e+00   \n",
       "196942     0.0                     0.000000                     6.161416e+08   \n",
       "221300     0.0                     0.065789                     6.161416e+08   \n",
       "\n",
       "        CC_CNT_DRAWINGS_POS_CURRENT_MEAN  ACTIVE_AMT_ANNUITY_MEAN  \\\n",
       "232215                          0.145833             18000.000000   \n",
       "92892                           1.096847             13651.456867   \n",
       "111796                          0.000000             13651.456867   \n",
       "196942                          1.096847             13651.456867   \n",
       "221300                          1.096847             13651.456867   \n",
       "\n",
       "        CC_CNT_DRAWINGS_POS_CURRENT_MIN  CLOSED_AMT_ANNUITY_MEAN  \\\n",
       "232215                         0.000000             20853.000000   \n",
       "92892                          0.115385              6577.477961   \n",
       "111796                         0.000000              6577.477961   \n",
       "196942                         0.115385              6577.477961   \n",
       "221300                         0.115385              6577.477961   \n",
       "\n",
       "        CLOSED_AMT_ANNUITY_MAX  BURO_STATUS_0_MEAN_MEAN  \\\n",
       "232215            35194.500000                 0.747789   \n",
       "92892              9704.169167                 0.456575   \n",
       "111796             9704.169167                 0.456575   \n",
       "196942             9704.169167                 0.456575   \n",
       "221300             9704.169167                 0.456575   \n",
       "\n",
       "        ACTIVE_AMT_ANNUITY_MAX  ...  BURO_AMT_ANNUITY_MEAN  \\\n",
       "232215            18000.000000  ...           19902.000000   \n",
       "92892             19127.506224  ...           11561.887872   \n",
       "111796            19127.506224  ...           11561.887872   \n",
       "196942            19127.506224  ...           11561.887872   \n",
       "221300            19127.506224  ...           11561.887872   \n",
       "\n",
       "        CC_AMT_DRAWINGS_CURRENT_VAR  CC_AMT_DRAWINGS_POS_CURRENT_MAX  \\\n",
       "232215                 9.334380e+08                      8847.450000   \n",
       "92892                  2.032604e+09                     43973.084423   \n",
       "111796                 0.000000e+00                         0.000000   \n",
       "196942                 0.000000e+00                     43973.084423   \n",
       "221300                 2.032604e+09                     43973.084423   \n",
       "\n",
       "        CC_AMT_DRAWINGS_CURRENT_MEAN  \\\n",
       "232215                   7608.159375   \n",
       "92892                   14180.855698   \n",
       "111796                      0.000000   \n",
       "196942                      0.000000   \n",
       "221300                  14180.855698   \n",
       "\n",
       "        BURO_CREDIT_TYPE_Another type of loan_MEAN  \\\n",
       "232215                                         0.0   \n",
       "92892                                          0.0   \n",
       "111796                                         0.0   \n",
       "196942                                         0.0   \n",
       "221300                                         0.0   \n",
       "\n",
       "        PREV_CODE_REJECT_REASON_VERIF_MEAN  \\\n",
       "232215                                 0.0   \n",
       "92892                                  0.0   \n",
       "111796                                 0.0   \n",
       "196942                                 0.0   \n",
       "221300                                 0.0   \n",
       "\n",
       "        PREV_CODE_REJECT_REASON_VERIF_MEAN  \\\n",
       "232215                                 0.0   \n",
       "92892                                  0.0   \n",
       "111796                                 0.0   \n",
       "196942                                 0.0   \n",
       "221300                                 0.0   \n",
       "\n",
       "        PREV_NAME_CASH_LOAN_PURPOSE_Purchase of electronic equipment_MEAN  \\\n",
       "232215                                                0.0                   \n",
       "92892                                                 0.0                   \n",
       "111796                                                0.0                   \n",
       "196942                                                0.0                   \n",
       "221300                                                0.0                   \n",
       "\n",
       "        CC_CNT_DRAWINGS_POS_CURRENT_MEAN  NAME_TYPE_SUITE_Group of people  \n",
       "232215                          0.145833                                0  \n",
       "92892                           1.096847                                0  \n",
       "111796                          0.000000                                0  \n",
       "196942                          1.096847                                0  \n",
       "221300                          1.096847                                0  \n",
       "\n",
       "[5 rows x 21 columns]"
      ]
     },
     "execution_count": 11,
     "metadata": {},
     "output_type": "execute_result"
    }
   ],
   "source": [
    "df.head()"
   ]
  },
  {
   "cell_type": "code",
   "execution_count": 12,
   "id": "560f7f1b",
   "metadata": {},
   "outputs": [],
   "source": [
    "df['TARGET'] = df['TARGET'].astype(int)"
   ]
  },
  {
   "cell_type": "code",
   "execution_count": null,
   "id": "22c661e5",
   "metadata": {},
   "outputs": [],
   "source": []
  },
  {
   "cell_type": "code",
   "execution_count": 13,
   "id": "c28e0d7c",
   "metadata": {},
   "outputs": [
    {
     "name": "stdout",
     "output_type": "stream",
     "text": [
      "Valeurs manquantes dans la colonne TARGET ? : False\n"
     ]
    }
   ],
   "source": [
    "# Vérifier s'il y a des valeurs manquantes dans la première colonne\n",
    "missing_values = df['TARGET'].isna().any()\n",
    "\n",
    "# Afficher le résultat\n",
    "print('Valeurs manquantes dans la colonne TARGET ? :', missing_values)"
   ]
  },
  {
   "cell_type": "code",
   "execution_count": 14,
   "id": "89cc24a9",
   "metadata": {},
   "outputs": [
    {
     "data": {
      "text/plain": [
       "array([1, 0])"
      ]
     },
     "execution_count": 14,
     "metadata": {},
     "output_type": "execute_result"
    }
   ],
   "source": [
    "# Spécificité des valeurs comprises dans la colonne TARGET\n",
    "df['TARGET'].unique()"
   ]
  },
  {
   "cell_type": "markdown",
   "id": "7b162031",
   "metadata": {},
   "source": [
    "# Séparation des données"
   ]
  },
  {
   "cell_type": "code",
   "execution_count": 15,
   "id": "8b0d8f3d",
   "metadata": {},
   "outputs": [],
   "source": [
    "from sklearn.model_selection import train_test_split\n",
    "\n",
    "# Extraire la variable cible\n",
    "y = df.iloc[:, 0] # la première colonne est la variable cible\n",
    "\n",
    "# Extraire les variables explicatives\n",
    "X = df.iloc[:, 1:] # toutes les colonnes sauf la première sont les variables explicatives\n",
    "\n",
    "# Diviser les données en ensemble d'entraînement et ensemble de test\n",
    "X_train, X_test, y_train, y_test = train_test_split(X, y, test_size=0.2, random_state=42)"
   ]
  },
  {
   "cell_type": "code",
   "execution_count": 16,
   "id": "95a6d184",
   "metadata": {},
   "outputs": [
    {
     "name": "stdout",
     "output_type": "stream",
     "text": [
      "Taille de X_train : (208, 20)\n",
      "Taille de X_test : (53, 20)\n",
      "Taille de y_train : (208,)\n",
      "Taille de y_test : (53,)\n"
     ]
    }
   ],
   "source": [
    "# Afficher la taille des ensembles de données\n",
    "print(\"Taille de X_train :\", X_train.shape)\n",
    "print(\"Taille de X_test :\", X_test.shape)\n",
    "print(\"Taille de y_train :\", y_train.shape)\n",
    "print(\"Taille de y_test :\", y_test.shape)"
   ]
  },
  {
   "cell_type": "markdown",
   "id": "8d3d0d38",
   "metadata": {},
   "source": [
    "# Egalisation des labels 1 et 0 de la TARGET"
   ]
  },
  {
   "cell_type": "code",
   "execution_count": 17,
   "id": "ba3a1af7",
   "metadata": {},
   "outputs": [
    {
     "name": "stdout",
     "output_type": "stream",
     "text": [
      "Label 1, Avant utilisation RandomOverSampling: 22 \n",
      "Label 0, Après utilisation RandomOverSampling: 186 \n"
     ]
    }
   ],
   "source": [
    "print(\"Label 1, Avant utilisation RandomOverSampling: {} \".format(sum(y_train==1)))\n",
    "print(\"Label 0, Après utilisation RandomOverSampling: {} \".format(sum(y_train==0)))"
   ]
  },
  {
   "cell_type": "code",
   "execution_count": 18,
   "id": "d155cb4c",
   "metadata": {},
   "outputs": [],
   "source": [
    "# Utiliser la technique de sur-échantillonnage aléatoire pour équilibrer les classes\n",
    "from imblearn.over_sampling import RandomOverSampler\n",
    "ros = RandomOverSampler(random_state=0)\n",
    "X_train_resampled, y_train_resampled = ros.fit_resample(X_train, y_train)"
   ]
  },
  {
   "cell_type": "code",
   "execution_count": 19,
   "id": "541dd799",
   "metadata": {},
   "outputs": [
    {
     "name": "stdout",
     "output_type": "stream",
     "text": [
      "Avant RandomOverSampling :\n",
      "0    186\n",
      "1     22\n",
      "Name: TARGET, dtype: int64\n",
      "\n",
      "Après RandomOverSampling :\n",
      "0    186\n",
      "1    186\n",
      "Name: TARGET, dtype: int64\n"
     ]
    }
   ],
   "source": [
    "# Afficher le nombre d'échantillons dans chaque classe avant et après RandomOverSampling\n",
    "print(\"Avant RandomOverSampling :\")\n",
    "print(y_train.value_counts())\n",
    "print(\"\\nAprès RandomOverSampling :\")\n",
    "print(y_train_resampled.value_counts())"
   ]
  },
  {
   "cell_type": "code",
   "execution_count": 20,
   "id": "ea85311e",
   "metadata": {},
   "outputs": [
    {
     "data": {
      "text/plain": [
       "array([1, 0])"
      ]
     },
     "execution_count": 20,
     "metadata": {},
     "output_type": "execute_result"
    }
   ],
   "source": [
    "# Spécificité des valeurs comprises dans la colonne TARGET\n",
    "df['TARGET'].unique()"
   ]
  },
  {
   "cell_type": "code",
   "execution_count": 21,
   "id": "24ca8e10",
   "metadata": {},
   "outputs": [],
   "source": [
    "X_train=X_train_resampled\n",
    "y_train=y_train_resampled"
   ]
  },
  {
   "cell_type": "code",
   "execution_count": 22,
   "id": "2808aea5",
   "metadata": {},
   "outputs": [
    {
     "data": {
      "text/plain": [
       "(372, 20)"
      ]
     },
     "execution_count": 22,
     "metadata": {},
     "output_type": "execute_result"
    }
   ],
   "source": [
    "X_train.shape"
   ]
  },
  {
   "cell_type": "code",
   "execution_count": 23,
   "id": "fe218298",
   "metadata": {},
   "outputs": [
    {
     "data": {
      "text/plain": [
       "(372,)"
      ]
     },
     "execution_count": 23,
     "metadata": {},
     "output_type": "execute_result"
    }
   ],
   "source": [
    "y_train.shape"
   ]
  },
  {
   "cell_type": "markdown",
   "id": "6210f293",
   "metadata": {},
   "source": [
    "# Préprocessing des données"
   ]
  },
  {
   "cell_type": "markdown",
   "id": "e776b31d",
   "metadata": {},
   "source": [
    "#### Phase de standardisation des variables X_train et X_test"
   ]
  },
  {
   "cell_type": "code",
   "execution_count": 24,
   "id": "12fadbc8",
   "metadata": {},
   "outputs": [],
   "source": [
    "scaler = preprocessing.StandardScaler()\n",
    "X_train_scaled = scaler.fit_transform(X_train)\n",
    "X_test_scaled = scaler.transform(X_test)"
   ]
  },
  {
   "cell_type": "markdown",
   "id": "47261ca6",
   "metadata": {},
   "source": [
    "# Application d'une régression logistique"
   ]
  },
  {
   "cell_type": "code",
   "execution_count": 25,
   "id": "e8271e00",
   "metadata": {},
   "outputs": [
    {
     "name": "stdout",
     "output_type": "stream",
     "text": [
      "Accuracy :  0.8113207547169812\n"
     ]
    }
   ],
   "source": [
    "lr = LogisticRegression()\n",
    "\n",
    "# Entraîner le classifieur sur les données d'entraînement\n",
    "lr.fit(X_train_scaled, y_train)\n",
    "\n",
    "# Faire des prédictions sur les données de test\n",
    "y_pred = lr.predict(X_test_scaled)\n",
    "\n",
    "# Calculer l'accuracy des prédictions\n",
    "accuracy_lr = accuracy_score(y_test, y_pred)\n",
    "print(\"Accuracy : \", accuracy_lr)"
   ]
  },
  {
   "cell_type": "code",
   "execution_count": 26,
   "id": "171f8aca",
   "metadata": {},
   "outputs": [
    {
     "name": "stdout",
     "output_type": "stream",
     "text": [
      "Régression logistique - Précision : 0.17, Rappel : 1.00, F1-score : 0.29\n"
     ]
    }
   ],
   "source": [
    "# Calculer les scores pour la régression logistique\n",
    "y_pred = lr.predict(X_test_scaled)\n",
    "precision_logreg, recall_logreg, f1_score_logreg, _ = precision_recall_fscore_support(y_test, y_pred, average='binary')\n",
    "print(\"Régression logistique - Précision : {:.2f}, Rappel : {:.2f}, F1-score : {:.2f}\".format(precision_logreg, recall_logreg, f1_score_logreg))"
   ]
  },
  {
   "cell_type": "markdown",
   "id": "cb7620da",
   "metadata": {},
   "source": [
    "#### Validation croisée"
   ]
  },
  {
   "cell_type": "code",
   "execution_count": 27,
   "id": "aad1931e",
   "metadata": {},
   "outputs": [
    {
     "name": "stdout",
     "output_type": "stream",
     "text": [
      "Meilleurs paramètres :  {'C': 10, 'penalty': 'l2'}\n",
      "Meilleure précision de validation croisée :  0.5645765765765767\n",
      "Précision :  0.8113207547169812\n"
     ]
    },
    {
     "name": "stderr",
     "output_type": "stream",
     "text": [
      "/opt/anaconda3/lib/python3.9/site-packages/sklearn/linear_model/_logistic.py:458: ConvergenceWarning: lbfgs failed to converge (status=1):\n",
      "STOP: TOTAL NO. of ITERATIONS REACHED LIMIT.\n",
      "\n",
      "Increase the number of iterations (max_iter) or scale the data as shown in:\n",
      "    https://scikit-learn.org/stable/modules/preprocessing.html\n",
      "Please also refer to the documentation for alternative solver options:\n",
      "    https://scikit-learn.org/stable/modules/linear_model.html#logistic-regression\n",
      "  n_iter_i = _check_optimize_result(\n",
      "/opt/anaconda3/lib/python3.9/site-packages/sklearn/linear_model/_logistic.py:458: ConvergenceWarning: lbfgs failed to converge (status=1):\n",
      "STOP: TOTAL NO. of ITERATIONS REACHED LIMIT.\n",
      "\n",
      "Increase the number of iterations (max_iter) or scale the data as shown in:\n",
      "    https://scikit-learn.org/stable/modules/preprocessing.html\n",
      "Please also refer to the documentation for alternative solver options:\n",
      "    https://scikit-learn.org/stable/modules/linear_model.html#logistic-regression\n",
      "  n_iter_i = _check_optimize_result(\n",
      "/opt/anaconda3/lib/python3.9/site-packages/sklearn/model_selection/_validation.py:378: FitFailedWarning: \n",
      "25 fits failed out of a total of 50.\n",
      "The score on these train-test partitions for these parameters will be set to nan.\n",
      "If these failures are not expected, you can try to debug them by setting error_score='raise'.\n",
      "\n",
      "Below are more details about the failures:\n",
      "--------------------------------------------------------------------------------\n",
      "25 fits failed with the following error:\n",
      "Traceback (most recent call last):\n",
      "  File \"/opt/anaconda3/lib/python3.9/site-packages/sklearn/model_selection/_validation.py\", line 686, in _fit_and_score\n",
      "    estimator.fit(X_train, y_train, **fit_params)\n",
      "  File \"/opt/anaconda3/lib/python3.9/site-packages/sklearn/linear_model/_logistic.py\", line 1162, in fit\n",
      "    solver = _check_solver(self.solver, self.penalty, self.dual)\n",
      "  File \"/opt/anaconda3/lib/python3.9/site-packages/sklearn/linear_model/_logistic.py\", line 54, in _check_solver\n",
      "    raise ValueError(\n",
      "ValueError: Solver lbfgs supports only 'l2' or 'none' penalties, got l1 penalty.\n",
      "\n",
      "  warnings.warn(some_fits_failed_message, FitFailedWarning)\n",
      "/opt/anaconda3/lib/python3.9/site-packages/sklearn/model_selection/_search.py:952: UserWarning: One or more of the test scores are non-finite: [       nan 0.55657658        nan 0.55387387        nan 0.55113514\n",
      "        nan 0.56457658        nan 0.56187387]\n",
      "  warnings.warn(\n"
     ]
    }
   ],
   "source": [
    "from sklearn.model_selection import GridSearchCV\n",
    "\n",
    "# Créer un objet GridSearchCV pour la régression logistique en utilisant une grille de paramètres à tester\n",
    "param_grid = {'C': [0.01, 0.1, 1, 10, 100],\n",
    "              'penalty': ['l1', 'l2']}\n",
    "grid_search = GridSearchCV(LogisticRegression(), param_grid, cv=5)\n",
    "\n",
    "# Adapter le modèle sur les données d'apprentissage et évaluer sa performance en utilisant la validation croisée\n",
    "grid_search.fit(X_train_scaled, y_train)\n",
    "print(\"Meilleurs paramètres : \", grid_search.best_params_)\n",
    "print(\"Meilleure précision de validation croisée : \", grid_search.best_score_)\n",
    "\n",
    "# Utiliser le modèle pour prédire les valeurs de la variable cible dans l'ensemble de test\n",
    "y_pred = grid_search.predict(X_test_scaled)\n",
    "\n",
    "# Évaluer la performance du modèle en utilisant la précision et la matrice de confusion\n",
    "accuracy = accuracy_score(y_test, y_pred)\n",
    "confusion_mat = confusion_matrix(y_test, y_pred)\n",
    "\n",
    "print(\"Précision : \", accuracy)"
   ]
  },
  {
   "cell_type": "markdown",
   "id": "014e524b",
   "metadata": {},
   "source": [
    "#### Classification Report"
   ]
  },
  {
   "cell_type": "code",
   "execution_count": 28,
   "id": "e444fa88",
   "metadata": {},
   "outputs": [
    {
     "name": "stdout",
     "output_type": "stream",
     "text": [
      "              precision    recall  f1-score   support\n",
      "\n",
      "           0       1.00      0.80      0.89        51\n",
      "           1       0.17      1.00      0.29         2\n",
      "\n",
      "    accuracy                           0.81        53\n",
      "   macro avg       0.58      0.90      0.59        53\n",
      "weighted avg       0.97      0.81      0.87        53\n",
      "\n"
     ]
    }
   ],
   "source": [
    "from sklearn.metrics import classification_report\n",
    "\n",
    "# Afficher le rapport de classification\n",
    "print(classification_report(y_test, y_pred))"
   ]
  },
  {
   "cell_type": "code",
   "execution_count": 29,
   "id": "e3c2ad44",
   "metadata": {},
   "outputs": [
    {
     "data": {
      "image/png": "[encoded data removed]",
      "text/plain": [
       "<Figure size 640x480 with 1 Axes>"
      ]
     },
     "metadata": {},
     "output_type": "display_data"
    }
   ],
   "source": [
    "from sklearn.metrics import roc_curve, auc\n",
    "import matplotlib.pyplot as plt\n",
    "\n",
    "# Calculer la probabilité des prédictions pour les données de test\n",
    "y_prob = grid_search.predict_proba(X_test_scaled)[:,1]\n",
    "\n",
    "# Calculer la courbe ROC et l'aire sous la courbe (AUC)\n",
    "fpr, tpr, thresholds = roc_curve(y_test, y_prob)\n",
    "roc_auc = auc(fpr, tpr)\n",
    "\n",
    "# Afficher la courbe ROC\n",
    "plt.plot(fpr, tpr, color='darkorange', lw=2, label='Courbe ROC (AUC = %0.2f)' % roc_auc)\n",
    "plt.plot([0, 1], [0, 1], color='navy', lw=2, linestyle='--')\n",
    "plt.xlim([0.0, 1.0])\n",
    "plt.ylim([0.0, 1.05])\n",
    "plt.xlabel('Taux de faux positifs')\n",
    "plt.ylabel('Taux de vrais positifs')\n",
    "plt.title('Courbe ROC pour la régression logistique')\n",
    "plt.legend(loc=\"lower right\")\n",
    "plt.show()"
   ]
  },
  {
   "cell_type": "code",
   "execution_count": 30,
   "id": "6be27204",
   "metadata": {},
   "outputs": [
    {
     "name": "stdout",
     "output_type": "stream",
     "text": [
      "Vrai négatif (TN) :  41\n",
      "Faux positif (FP) :  10\n",
      "Faux négatif (FN) :  0\n",
      "Vrai positif (TP) :  2\n",
      "Matrice de confusion:\n",
      " [[41 10]\n",
      " [ 0  2]]\n"
     ]
    },
    {
     "data": {
      "image/png": "[encoded data removed]",
      "text/plain": [
       "<Figure size 640x480 with 2 Axes>"
      ]
     },
     "metadata": {},
     "output_type": "display_data"
    }
   ],
   "source": [
    "# supposons que y_true est la variable contenant les vraies étiquettes et y_pred est la variable contenant les prédictions du modèle\n",
    "tn, fp, fn, tp = confusion_matrix(y_test, y_pred).ravel()\n",
    "\n",
    "# affichage des résultats\n",
    "print(\"Vrai négatif (TN) : \", tn)\n",
    "print(\"Faux positif (FP) : \", fp)\n",
    "print(\"Faux négatif (FN) : \", fn)\n",
    "print(\"Vrai positif (TP) : \", tp)\n",
    "\n",
    "# calcul de la matrice de confusion\n",
    "cm = confusion_matrix(y_test, y_pred)\n",
    "\n",
    "# affichage de la matrice de confusion\n",
    "print('Matrice de confusion:\\n', cm)\n",
    "\n",
    "# création de la heatmap avec Seaborn\n",
    "sns.heatmap(cm, annot=True, fmt='g', cmap='Blues')\n",
    "\n",
    "# personnalisation des labels des axes x et y\n",
    "plt.xlabel('Prédictions')\n",
    "plt.ylabel('Valeurs réelles')\n",
    "\n",
    "# affichage de la figure\n",
    "plt.show()"
   ]
  },
  {
   "cell_type": "markdown",
   "id": "a4662f17",
   "metadata": {},
   "source": [
    "### Approche métier"
   ]
  },
  {
   "cell_type": "code",
   "execution_count": 31,
   "id": "49164693",
   "metadata": {},
   "outputs": [
    {
     "name": "stdout",
     "output_type": "stream",
     "text": [
      "10\n"
     ]
    }
   ],
   "source": [
    "def cost_function(y_test, y_pred):\n",
    "    # Calcul du nombre de faux positifs et de faux négatifs\n",
    "    fp = ((y_test == 0) & (y_pred == 1)).sum()\n",
    "    fn = ((y_test == 1) & (y_pred == 0)).sum()\n",
    "\n",
    "    # Calcul du coût en fonction du nombre de faux positifs et de faux négatifs\n",
    "    cost = fp + 10 * fn\n",
    "\n",
    "    return cost\n",
    "\n",
    "import numpy as np\n",
    "\n",
    "#y_test = np.array([0, 1, 0, 1, 0])\n",
    "#y_pred = np.array([1, 1, 0, 0, 1])\n",
    "\n",
    "cost_lr = cost_function(y_test, y_pred)\n",
    "print(cost_lr)"
   ]
  },
  {
   "cell_type": "markdown",
   "id": "b87327a6",
   "metadata": {},
   "source": [
    "# Application d'une méthode par arbre de décision"
   ]
  },
  {
   "cell_type": "code",
   "execution_count": 32,
   "id": "a436e56b",
   "metadata": {},
   "outputs": [
    {
     "name": "stdout",
     "output_type": "stream",
     "text": [
      "Accuracy : 0.49056603773584906\n"
     ]
    }
   ],
   "source": [
    "# Création de l'objet DecisionTreeClassifier et ajustement aux données d'entraînement\n",
    "tree = DecisionTreeClassifier()\n",
    "tree.fit(X_train_scaled, y_train)\n",
    "\n",
    "# Prédictions sur les données de test\n",
    "y_pred = tree.predict(X_test_scaled)\n",
    "\n",
    "# Calcul de l'accuracy\n",
    "acc = accuracy_score(y_test, y_pred)\n",
    "print(\"Accuracy :\", acc)"
   ]
  },
  {
   "cell_type": "markdown",
   "id": "2928d22a",
   "metadata": {},
   "source": [
    "#### Validation croisée"
   ]
  },
  {
   "cell_type": "code",
   "execution_count": 33,
   "id": "0e5f572e",
   "metadata": {},
   "outputs": [
    {
     "name": "stdout",
     "output_type": "stream",
     "text": [
      "Meilleurs paramètres :  {'max_depth': 5, 'min_samples_leaf': 1, 'min_samples_split': 5}\n",
      "Meilleure précision de validation croisée :  0.6531891891891892\n",
      "Précision :  0.37735849056603776\n"
     ]
    }
   ],
   "source": [
    "# Définir les paramètres à tester pour l'arbre de décision\n",
    "param_grid = {'max_depth': [1, 2, 3, 4, 5],\n",
    "              'min_samples_split': [2, 3, 4, 5],\n",
    "              'min_samples_leaf': [1, 2, 3, 4, 5]}\n",
    "\n",
    "# Créer un objet GridSearchCV pour l'arbre de décision en utilisant une grille de paramètres à tester\n",
    "grid_search = GridSearchCV(DecisionTreeClassifier(), param_grid, cv=5)\n",
    "\n",
    "# Adapter le modèle sur les données d'apprentissage et évaluer sa performance en utilisant la validation croisée\n",
    "grid_search.fit(X_train_scaled, y_train)\n",
    "print(\"Meilleurs paramètres : \", grid_search.best_params_)\n",
    "print(\"Meilleure précision de validation croisée : \", grid_search.best_score_)\n",
    "\n",
    "# Utiliser le modèle pour prédire les valeurs de la variable cible dans l'ensemble de test\n",
    "y_pred = grid_search.predict(X_test_scaled)\n",
    "\n",
    "# Évaluer la performance du modèle en utilisant la précision et la matrice de confusion\n",
    "accuracy = accuracy_score(y_test, y_pred)\n",
    "confusion_mat = confusion_matrix(y_test, y_pred)\n",
    "\n",
    "print(\"Précision : \", accuracy)"
   ]
  },
  {
   "cell_type": "markdown",
   "id": "68750e4f",
   "metadata": {},
   "source": [
    "#### Classification Report"
   ]
  },
  {
   "cell_type": "code",
   "execution_count": 34,
   "id": "9c670f51",
   "metadata": {},
   "outputs": [
    {
     "name": "stdout",
     "output_type": "stream",
     "text": [
      "              precision    recall  f1-score   support\n",
      "\n",
      "           0       0.95      0.37      0.54        51\n",
      "           1       0.03      0.50      0.06         2\n",
      "\n",
      "    accuracy                           0.38        53\n",
      "   macro avg       0.49      0.44      0.30        53\n",
      "weighted avg       0.92      0.38      0.52        53\n",
      "\n"
     ]
    }
   ],
   "source": [
    "from sklearn.metrics import classification_report\n",
    "\n",
    "# Afficher le rapport de classification\n",
    "print(classification_report(y_test, y_pred))"
   ]
  },
  {
   "cell_type": "markdown",
   "id": "4599f918",
   "metadata": {},
   "source": [
    "#### Représentation graphique de l'AUC"
   ]
  },
  {
   "cell_type": "code",
   "execution_count": 35,
   "id": "a4dc9ddd",
   "metadata": {},
   "outputs": [
    {
     "data": {
      "image/png": "[encoded data removed]",
      "text/plain": [
       "<Figure size 640x480 with 1 Axes>"
      ]
     },
     "metadata": {},
     "output_type": "display_data"
    }
   ],
   "source": [
    "# Calculer les probabilités prédites pour l'ensemble de test\n",
    "y_proba = tree.predict_proba(X_test_scaled)[:, 1]\n",
    "\n",
    "# Calculer la courbe ROC et l'AUC\n",
    "fpr, tpr, thresholds = roc_curve(y_test, y_proba)\n",
    "roc_auc = auc(fpr, tpr)\n",
    "\n",
    "# Afficher la courbe ROC\n",
    "plt.figure()\n",
    "lw = 2\n",
    "plt.plot(fpr, tpr, color='darkorange', lw=lw, label='Courbe ROC (AUC = %0.2f)' % roc_auc)\n",
    "plt.plot([0, 1], [0, 1], color='navy', lw=lw, linestyle='--')\n",
    "plt.xlim([0.0, 1.0])\n",
    "plt.ylim([0.0, 1.05])\n",
    "plt.xlabel('Taux de faux positifs')\n",
    "plt.ylabel('Taux de vrais positifs')\n",
    "plt.title('Courbe ROC')\n",
    "plt.legend(loc=\"lower right\")\n",
    "plt.show()"
   ]
  },
  {
   "cell_type": "code",
   "execution_count": 36,
   "id": "6811f4eb",
   "metadata": {},
   "outputs": [
    {
     "name": "stdout",
     "output_type": "stream",
     "text": [
      "Vrai négatif (TN) :  19\n",
      "Faux positif (FP) :  32\n",
      "Faux négatif (FN) :  1\n",
      "Vrai positif (TP) :  1\n",
      "Matrice de confusion:\n",
      " [[19 32]\n",
      " [ 1  1]]\n"
     ]
    },
    {
     "data": {
      "image/png": "[encoded data removed]",
      "text/plain": [
       "<Figure size 640x480 with 2 Axes>"
      ]
     },
     "metadata": {},
     "output_type": "display_data"
    }
   ],
   "source": [
    "# supposons que y_true est la variable contenant les vraies étiquettes et y_pred est la variable contenant les prédictions du modèle\n",
    "tn, fp, fn, tp = confusion_matrix(y_test, y_pred).ravel()\n",
    "\n",
    "# affichage des résultats\n",
    "print(\"Vrai négatif (TN) : \", tn)\n",
    "print(\"Faux positif (FP) : \", fp)\n",
    "print(\"Faux négatif (FN) : \", fn)\n",
    "print(\"Vrai positif (TP) : \", tp)\n",
    "\n",
    "# calcul de la matrice de confusion\n",
    "cm = confusion_matrix(y_test, y_pred)\n",
    "\n",
    "# affichage de la matrice de confusion\n",
    "print('Matrice de confusion:\\n', cm)\n",
    "\n",
    "# création de la heatmap avec Seaborn\n",
    "sns.heatmap(cm, annot=True, fmt='g', cmap='Blues')\n",
    "\n",
    "# personnalisation des labels des axes x et y\n",
    "plt.xlabel('Prédictions')\n",
    "plt.ylabel('Valeurs réelles')\n",
    "\n",
    "# affichage de la figure\n",
    "plt.show()"
   ]
  },
  {
   "cell_type": "code",
   "execution_count": 37,
   "id": "99ce8ce8",
   "metadata": {},
   "outputs": [
    {
     "name": "stdout",
     "output_type": "stream",
     "text": [
      "Vrai négatif (TN) :  19\n",
      "Faux positif (FP) :  32\n",
      "Faux négatif (FN) :  1\n",
      "Vrai positif (TP) :  1\n"
     ]
    }
   ],
   "source": [
    "# supposons que y_true est la variable contenant les vraies étiquettes et y_pred est la variable contenant les prédictions du modèle\n",
    "tn, fp, fn, tp = confusion_matrix(y_test, y_pred).ravel()\n",
    "\n",
    "# affichage des résultats\n",
    "print(\"Vrai négatif (TN) : \", tn)\n",
    "print(\"Faux positif (FP) : \", fp)\n",
    "print(\"Faux négatif (FN) : \", fn)\n",
    "print(\"Vrai positif (TP) : \", tp)"
   ]
  },
  {
   "cell_type": "markdown",
   "id": "d9bffc15",
   "metadata": {},
   "source": [
    "### Approche métier"
   ]
  },
  {
   "cell_type": "code",
   "execution_count": 38,
   "id": "401690ae",
   "metadata": {},
   "outputs": [
    {
     "name": "stdout",
     "output_type": "stream",
     "text": [
      "42\n"
     ]
    }
   ],
   "source": [
    "def cost_function(y_test, y_pred):\n",
    "    # Calcul du nombre de faux positifs et de faux négatifs\n",
    "    fp = ((y_test == 0) & (y_pred == 1)).sum()\n",
    "    fn = ((y_test == 1) & (y_pred == 0)).sum()\n",
    "\n",
    "    # Calcul du coût en fonction du nombre de faux positifs et de faux négatifs\n",
    "    cost = fp + 10 * fn\n",
    "\n",
    "    return cost\n",
    "\n",
    "import numpy as np\n",
    "\n",
    "#y_test = np.array([0, 1, 0, 1, 0])\n",
    "#y_pred = np.array([1, 1, 0, 0, 1])\n",
    "\n",
    "cost_dt = cost_function(y_test, y_pred)\n",
    "print(cost_dt)"
   ]
  },
  {
   "cell_type": "markdown",
   "id": "32b95286",
   "metadata": {},
   "source": [
    "# Application d'une méthode par forêt aléatoire"
   ]
  },
  {
   "cell_type": "code",
   "execution_count": 39,
   "id": "a244d57e",
   "metadata": {},
   "outputs": [
    {
     "name": "stdout",
     "output_type": "stream",
     "text": [
      "Accuracy :  0.49056603773584906\n",
      "              precision    recall  f1-score   support\n",
      "\n",
      "           0       0.93      0.51      0.66        51\n",
      "           1       0.00      0.00      0.00         2\n",
      "\n",
      "    accuracy                           0.49        53\n",
      "   macro avg       0.46      0.25      0.33        53\n",
      "weighted avg       0.89      0.49      0.63        53\n",
      "\n",
      "AUC : 0.3137\n"
     ]
    }
   ],
   "source": [
    "# Créer et ajuster le modèle de classification\n",
    "rf = RandomForestClassifier()\n",
    "rf.fit(X_train_scaled, y_train)\n",
    "\n",
    "# Faire des prédictions sur les données de test\n",
    "y_pred = rf.predict(X_test_scaled)\n",
    "\n",
    "# Calculer l'accuracy des prédictions\n",
    "accuracy = accuracy_score(y_test, y_pred)\n",
    "# Évaluation du modèle\n",
    "print(\"Accuracy : \", accuracy_score(y_test, y_pred))\n",
    "print(classification_report(y_test, y_pred))\n",
    "roc_auc = roc_auc_score(y_test, rf.predict_proba(X_test_scaled)[:,1])\n",
    "print('AUC : %0.4f' %roc_auc)"
   ]
  },
  {
   "cell_type": "markdown",
   "id": "1428e2e4",
   "metadata": {},
   "source": [
    "#### Validation croisée"
   ]
  },
  {
   "cell_type": "code",
   "execution_count": 40,
   "id": "125210d8",
   "metadata": {},
   "outputs": [
    {
     "name": "stdout",
     "output_type": "stream",
     "text": [
      "Précision :  0.49056603773584906\n"
     ]
    }
   ],
   "source": [
    "# Créer le modèle de classification\n",
    "rf = RandomForestClassifier()\n",
    "\n",
    "# Effectuer une validation croisée sur le modèle\n",
    "scores = cross_val_score(rf, X_train_scaled, y_train, cv=5)\n",
    "\n",
    "# Évaluer la performance du modèle en utilisant la précision et la matrice de confusion\n",
    "accuracy = accuracy_score(y_test, y_pred)\n",
    "confusion_mat = confusion_matrix(y_test, y_pred)\n",
    "\n",
    "print(\"Précision : \", accuracy)\n",
    "# Évaluer la performance du modèle en utilisant la précision et la matrice de confusion\n",
    "accuracy = accuracy_score(y_test, y_pred)\n",
    "confusion_mat = confusion_matrix(y_test, y_pred)"
   ]
  },
  {
   "cell_type": "markdown",
   "id": "72aa33a4",
   "metadata": {},
   "source": [
    "#### Classification report"
   ]
  },
  {
   "cell_type": "code",
   "execution_count": 41,
   "id": "ed94e062",
   "metadata": {},
   "outputs": [
    {
     "name": "stdout",
     "output_type": "stream",
     "text": [
      "              precision    recall  f1-score   support\n",
      "\n",
      "           0       0.93      0.51      0.66        51\n",
      "           1       0.00      0.00      0.00         2\n",
      "\n",
      "    accuracy                           0.49        53\n",
      "   macro avg       0.46      0.25      0.33        53\n",
      "weighted avg       0.89      0.49      0.63        53\n",
      "\n"
     ]
    }
   ],
   "source": [
    "from sklearn.metrics import classification_report\n",
    "\n",
    "# Afficher le rapport de classification\n",
    "print(classification_report(y_test, y_pred))"
   ]
  },
  {
   "cell_type": "markdown",
   "id": "c6d7f5df",
   "metadata": {},
   "source": [
    "#### Représentation graphique de l'AUC"
   ]
  },
  {
   "cell_type": "code",
   "execution_count": 42,
   "id": "d3d2a5d8",
   "metadata": {},
   "outputs": [
    {
     "data": {
      "image/png": "[encoded data removed]",
      "text/plain": [
       "<Figure size 800x600 with 1 Axes>"
      ]
     },
     "metadata": {},
     "output_type": "display_data"
    }
   ],
   "source": [
    "# Créer et ajuster le modèle de classification\n",
    "rf = RandomForestClassifier()\n",
    "rf.fit(X_train_scaled, y_train)\n",
    "\n",
    "# Faire des prédictions sur les données de test\n",
    "y_pred_proba = rf.predict_proba(X_test_scaled)[:,1]\n",
    "\n",
    "# Calculer la courbe ROC et l'aire sous la courbe (AUC)\n",
    "fpr, tpr, _ = roc_curve(y_test, y_pred_proba)\n",
    "roc_auc = auc(fpr, tpr)\n",
    "\n",
    "# Afficher la courbe ROC\n",
    "plt.figure(figsize=(8,6))\n",
    "plt.plot(fpr, tpr, color='darkorange', lw=2, label='Courbe ROC (AUC = %0.2f)' % roc_auc)\n",
    "plt.plot([0, 1], [0, 1], color='navy', lw=2, linestyle='--')\n",
    "plt.xlabel('Taux de faux positifs')\n",
    "plt.ylabel('Taux de vrais positifs')\n",
    "plt.title('Courbe ROC pour le modèle Random Forest Classifier')\n",
    "plt.legend(loc=\"lower right\")\n",
    "plt.show()"
   ]
  },
  {
   "cell_type": "code",
   "execution_count": 43,
   "id": "6d06b835",
   "metadata": {},
   "outputs": [
    {
     "name": "stdout",
     "output_type": "stream",
     "text": [
      "Vrai négatif (TN) :  26\n",
      "Faux positif (FP) :  25\n",
      "Faux négatif (FN) :  2\n",
      "Vrai positif (TP) :  0\n",
      "Matrice de confusion:\n",
      " [[26 25]\n",
      " [ 2  0]]\n"
     ]
    },
    {
     "data": {
      "image/png": "[encoded data removed]",
      "text/plain": [
       "<Figure size 640x480 with 2 Axes>"
      ]
     },
     "metadata": {},
     "output_type": "display_data"
    }
   ],
   "source": [
    "# supposons que y_true est la variable contenant les vraies étiquettes et y_pred est la variable contenant les prédictions du modèle\n",
    "tn, fp, fn, tp = confusion_matrix(y_test, y_pred).ravel()\n",
    "\n",
    "# affichage des résultats\n",
    "print(\"Vrai négatif (TN) : \", tn)\n",
    "print(\"Faux positif (FP) : \", fp)\n",
    "print(\"Faux négatif (FN) : \", fn)\n",
    "print(\"Vrai positif (TP) : \", tp)\n",
    "\n",
    "# calcul de la matrice de confusion\n",
    "cm = confusion_matrix(y_test, y_pred)\n",
    "\n",
    "# affichage de la matrice de confusion\n",
    "print('Matrice de confusion:\\n', cm)\n",
    "\n",
    "# création de la heatmap avec Seaborn\n",
    "sns.heatmap(cm, annot=True, fmt='g', cmap='Blues')\n",
    "\n",
    "# personnalisation des labels des axes x et y\n",
    "plt.xlabel('Prédictions')\n",
    "plt.ylabel('Valeurs réelles')\n",
    "\n",
    "# affichage de la figure\n",
    "plt.show()"
   ]
  },
  {
   "cell_type": "markdown",
   "id": "a4ce2790",
   "metadata": {},
   "source": [
    "### Approche métier"
   ]
  },
  {
   "cell_type": "code",
   "execution_count": 44,
   "id": "1f1f8246",
   "metadata": {},
   "outputs": [
    {
     "name": "stdout",
     "output_type": "stream",
     "text": [
      "45\n"
     ]
    }
   ],
   "source": [
    "def cost_function(y_test, y_pred):\n",
    "    # Calcul du nombre de faux positifs et de faux négatifs\n",
    "    fp = ((y_test == 0) & (y_pred == 1)).sum()\n",
    "    fn = ((y_test == 1) & (y_pred == 0)).sum()\n",
    "\n",
    "    # Calcul du coût en fonction du nombre de faux positifs et de faux négatifs\n",
    "    cost = fp + 10 * fn\n",
    "\n",
    "    return cost\n",
    "\n",
    "import numpy as np\n",
    "\n",
    "#y_test = np.array([0, 1, 0, 1, 0])\n",
    "#y_pred = np.array([1, 1, 0, 0, 1])\n",
    "\n",
    "cost_rf = cost_function(y_test, y_pred)\n",
    "print(cost_rf)"
   ]
  },
  {
   "cell_type": "markdown",
   "id": "495fd86d",
   "metadata": {},
   "source": [
    "# Application d'une méthode par XGBoost"
   ]
  },
  {
   "cell_type": "code",
   "execution_count": 45,
   "id": "1c4af410",
   "metadata": {},
   "outputs": [
    {
     "name": "stdout",
     "output_type": "stream",
     "text": [
      "Accuracy :  0.49056603773584906\n"
     ]
    }
   ],
   "source": [
    "# Instancier un classifieur XGBoost\n",
    "xgb = XGBClassifier()\n",
    "\n",
    "# Entraîner le classifieur sur les données d'entraînement\n",
    "xgb.fit(X_train_scaled, y_train)\n",
    "\n",
    "# Faire des prédictions sur les données de test\n",
    "y_pred = xgb.predict(X_test_scaled)\n",
    "\n",
    "# Calculer l'accuracy des prédictions\n",
    "accuracy = accuracy_score(y_test, y_pred)\n",
    "print(\"Accuracy : \", accuracy)"
   ]
  },
  {
   "cell_type": "markdown",
   "id": "04a588c1",
   "metadata": {},
   "source": [
    "#### Classification Report"
   ]
  },
  {
   "cell_type": "code",
   "execution_count": 46,
   "id": "b1179c3c",
   "metadata": {},
   "outputs": [
    {
     "name": "stdout",
     "output_type": "stream",
     "text": [
      "              precision    recall  f1-score   support\n",
      "\n",
      "           0       0.96      0.49      0.65        51\n",
      "           1       0.04      0.50      0.07         2\n",
      "\n",
      "    accuracy                           0.49        53\n",
      "   macro avg       0.50      0.50      0.36        53\n",
      "weighted avg       0.93      0.49      0.63        53\n",
      "\n"
     ]
    }
   ],
   "source": [
    "# Afficher le classification report\n",
    "print(classification_report(y_test, y_pred))"
   ]
  },
  {
   "cell_type": "markdown",
   "id": "39e9f9b8",
   "metadata": {},
   "source": [
    "#### Validation croisée"
   ]
  },
  {
   "cell_type": "code",
   "execution_count": 47,
   "id": "4898cb19",
   "metadata": {},
   "outputs": [
    {
     "name": "stdout",
     "output_type": "stream",
     "text": [
      "Meilleurs paramètres :  {'learning_rate': 0.3, 'max_depth': 3}\n",
      "Meilleur score :  0.7179819819819819\n",
      "Précision :  0.49056603773584906\n"
     ]
    }
   ],
   "source": [
    "params = {'learning_rate': [0.1, 0.2, 0.3], 'max_depth': [3, 4, 5]}\n",
    "grid_search = GridSearchCV(xgb, params, cv=5)\n",
    "grid_search.fit(X_train_scaled, y_train)\n",
    "print(\"Meilleurs paramètres : \", grid_search.best_params_)\n",
    "print(\"Meilleur score : \", grid_search.best_score_)\n",
    "print(\"Précision : \", accuracy)"
   ]
  },
  {
   "cell_type": "code",
   "execution_count": 48,
   "id": "71d10b87",
   "metadata": {},
   "outputs": [
    {
     "data": {
      "image/png": "[encoded data removed]",
      "text/plain": [
       "<Figure size 800x600 with 1 Axes>"
      ]
     },
     "metadata": {},
     "output_type": "display_data"
    }
   ],
   "source": [
    "# Faire des prédictions sur les données de test\n",
    "y_pred_proba = xgb.predict_proba(X_test_scaled)[:,1]\n",
    "\n",
    "# Calculer la courbe ROC et l'aire sous la courbe (AUC)\n",
    "fpr, tpr, _ = roc_curve(y_test, y_pred_proba)\n",
    "roc_auc = auc(fpr, tpr)\n",
    "\n",
    "# Afficher la courbe ROC\n",
    "plt.figure(figsize=(8,6))\n",
    "plt.plot(fpr, tpr, color='darkorange', lw=2, label='Courbe ROC (AUC = %0.2f)' % roc_auc)\n",
    "plt.plot([0, 1], [0, 1], color='navy', lw=2, linestyle='--')\n",
    "plt.xlabel('Taux de faux positifs')\n",
    "plt.ylabel('Taux de vrais positifs')\n",
    "plt.title('Courbe ROC pour le modèle XGBoost ')\n",
    "plt.legend(loc=\"lower right\")\n",
    "plt.show()"
   ]
  },
  {
   "cell_type": "markdown",
   "id": "b7c9bb0e",
   "metadata": {},
   "source": [
    "#### Matrice de confusion"
   ]
  },
  {
   "cell_type": "code",
   "execution_count": 49,
   "id": "c18921d9",
   "metadata": {},
   "outputs": [
    {
     "name": "stdout",
     "output_type": "stream",
     "text": [
      "Vrai négatif (TN) :  25\n",
      "Faux positif (FP) :  26\n",
      "Faux négatif (FN) :  1\n",
      "Vrai positif (TP) :  1\n",
      "Matrice de confusion:\n",
      " [[25 26]\n",
      " [ 1  1]]\n"
     ]
    },
    {
     "data": {
      "image/png": "[encoded data removed]",
      "text/plain": [
       "<Figure size 640x480 with 2 Axes>"
      ]
     },
     "metadata": {},
     "output_type": "display_data"
    }
   ],
   "source": [
    "# supposons que y_true est la variable contenant les vraies étiquettes et y_pred est la variable contenant les prédictions du modèle\n",
    "tn, fp, fn, tp = confusion_matrix(y_test, y_pred).ravel()\n",
    "\n",
    "# affichage des résultats\n",
    "print(\"Vrai négatif (TN) : \", tn)\n",
    "print(\"Faux positif (FP) : \", fp)\n",
    "print(\"Faux négatif (FN) : \", fn)\n",
    "print(\"Vrai positif (TP) : \", tp)\n",
    "\n",
    "# calcul de la matrice de confusion\n",
    "cm = confusion_matrix(y_test, y_pred)\n",
    "\n",
    "# affichage de la matrice de confusion\n",
    "print('Matrice de confusion:\\n', cm)\n",
    "\n",
    "# création de la heatmap avec Seaborn\n",
    "sns.heatmap(cm, annot=True, fmt='g', cmap='Blues')\n",
    "\n",
    "# personnalisation des labels des axes x et y\n",
    "plt.xlabel('Prédictions')\n",
    "plt.ylabel('Valeurs réelles')\n",
    "\n",
    "# affichage de la figure\n",
    "plt.show()"
   ]
  },
  {
   "cell_type": "markdown",
   "id": "6c588ed9",
   "metadata": {},
   "source": [
    "### Approche métier"
   ]
  },
  {
   "cell_type": "code",
   "execution_count": 50,
   "id": "4ea93327",
   "metadata": {},
   "outputs": [
    {
     "name": "stdout",
     "output_type": "stream",
     "text": [
      "36\n"
     ]
    }
   ],
   "source": [
    "def cost_function(y_test, y_pred):\n",
    "    # Calcul du nombre de faux positifs et de faux négatifs\n",
    "    fp = ((y_test == 0) & (y_pred == 1)).sum()\n",
    "    fn = ((y_test == 1) & (y_pred == 0)).sum()\n",
    "\n",
    "    # Calcul du coût en fonction du nombre de faux positifs et de faux négatifs\n",
    "    cost = fp + 10 * fn\n",
    "\n",
    "    return cost\n",
    "\n",
    "import numpy as np\n",
    "\n",
    "#y_test = np.array([0, 1, 0, 1, 0])\n",
    "#y_pred = np.array([1, 1, 0, 0, 1])\n",
    "\n",
    "cost_xgb = cost_function(y_test, y_pred)\n",
    "print(cost_xgb)"
   ]
  },
  {
   "cell_type": "markdown",
   "id": "b138b525",
   "metadata": {},
   "source": [
    "# Application d'une méthode par SVC"
   ]
  },
  {
   "cell_type": "code",
   "execution_count": 51,
   "id": "4277df3f",
   "metadata": {},
   "outputs": [
    {
     "name": "stdout",
     "output_type": "stream",
     "text": [
      "Accuracy :  0.8490566037735849\n"
     ]
    }
   ],
   "source": [
    "# Créer un modèle SVM\n",
    "svc = SVC(kernel='linear', C=1, probability=True, random_state=42)\n",
    "\n",
    "# Entraîner le modèle sur les données d'entraînement\n",
    "svc.fit(X_train_scaled, y_train)\n",
    "\n",
    "# Faire des prédictions sur les données de test\n",
    "y_pred = svc.predict(X_test_scaled)\n",
    "\n",
    "# Calculer l'accuracy des prédictions\n",
    "accuracy = accuracy_score(y_test, y_pred)\n",
    "print(\"Accuracy : \", accuracy)"
   ]
  },
  {
   "cell_type": "markdown",
   "id": "bc823500",
   "metadata": {},
   "source": [
    "#### Classification report"
   ]
  },
  {
   "cell_type": "code",
   "execution_count": 52,
   "id": "b5375723",
   "metadata": {},
   "outputs": [
    {
     "name": "stdout",
     "output_type": "stream",
     "text": [
      "              precision    recall  f1-score   support\n",
      "\n",
      "           0       1.00      0.84      0.91        51\n",
      "           1       0.20      1.00      0.33         2\n",
      "\n",
      "    accuracy                           0.85        53\n",
      "   macro avg       0.60      0.92      0.62        53\n",
      "weighted avg       0.97      0.85      0.89        53\n",
      "\n"
     ]
    }
   ],
   "source": [
    "# Afficher le classification report\n",
    "print(classification_report(y_test, y_pred))"
   ]
  },
  {
   "cell_type": "code",
   "execution_count": 53,
   "id": "83288afe",
   "metadata": {},
   "outputs": [
    {
     "data": {
      "image/png": "[encoded data removed]",
      "text/plain": [
       "<Figure size 800x600 with 1 Axes>"
      ]
     },
     "metadata": {},
     "output_type": "display_data"
    }
   ],
   "source": [
    "# Créer et ajuster le modèle de classification\n",
    "svc = SVC(kernel='linear', C=1, probability=True, random_state=42)\n",
    "svc.fit(X_train_scaled, y_train)\n",
    "\n",
    "# Faire des prédictions sur les données de test\n",
    "y_pred_proba = svc.predict_proba(X_test_scaled)[:,1]\n",
    "\n",
    "# Calculer la courbe ROC et l'aire sous la courbe (AUC)\n",
    "fpr, tpr, _ = roc_curve(y_test, y_pred_proba)\n",
    "roc_auc = auc(fpr, tpr)\n",
    "\n",
    "# Afficher la courbe ROC\n",
    "plt.figure(figsize=(8,6))\n",
    "plt.plot(fpr, tpr, color='darkorange', lw=2, label='Courbe ROC (AUC = %0.2f)' % roc_auc)\n",
    "plt.plot([0, 1], [0, 1], color='navy', lw=2, linestyle='--')\n",
    "plt.xlabel('Taux de faux positifs')\n",
    "plt.ylabel('Taux de vrais positifs')\n",
    "plt.title('Courbe ROC pour le modèle Random Forest Classifier')\n",
    "plt.legend(loc=\"lower right\")\n",
    "plt.show()"
   ]
  },
  {
   "cell_type": "code",
   "execution_count": null,
   "id": "c57f50e7",
   "metadata": {},
   "outputs": [],
   "source": []
  },
  {
   "cell_type": "markdown",
   "id": "24b976cf",
   "metadata": {},
   "source": [
    "# Evaluation des modèles"
   ]
  },
  {
   "cell_type": "code",
   "execution_count": 54,
   "id": "6f3206f2",
   "metadata": {},
   "outputs": [
    {
     "name": "stdout",
     "output_type": "stream",
     "text": [
      "Régression Logistique:\n",
      "Accuracy :  0.8113207547169812\n",
      "Précision :  0.16666666666666666\n",
      "Rappel :  1.0\n",
      "F1-Score :  0.2857142857142857\n",
      "\n",
      "Arbre de Décision:\n",
      "Accuracy :  0.5094339622641509\n",
      "Précision :  0.038461538461538464\n",
      "Rappel :  0.5\n",
      "F1-Score :  0.07142857142857144\n",
      "\n",
      "Forêt Aléatoire:\n",
      "Accuracy :  0.49056603773584906\n",
      "Précision :  0.0\n",
      "Rappel :  0.0\n",
      "F1-Score :  0.0\n",
      "\n",
      "XGBoost:\n",
      "Accuracy :  0.49056603773584906\n",
      "Précision :  0.037037037037037035\n",
      "Rappel :  0.5\n",
      "F1-Score :  0.06896551724137931\n",
      "\n",
      "SVC:\n",
      "Accuracy :  0.41509433962264153\n",
      "Précision :  0.0\n",
      "Rappel :  0.0\n",
      "F1-Score :  0.0\n"
     ]
    }
   ],
   "source": [
    "# Régression Logistique\n",
    "lr = LogisticRegression(random_state=42)\n",
    "lr.fit(X_train_scaled, y_train)\n",
    "y_pred_lr = lr.predict(X_test_scaled)\n",
    "accuracy_lr = accuracy_score(y_test, y_pred_lr)\n",
    "precision_lr = precision_score(y_test, y_pred_lr)\n",
    "recall_lr = recall_score(y_test, y_pred_lr)\n",
    "f1_lr = f1_score(y_test, y_pred_lr)\n",
    "\n",
    "# Arbre de Décision\n",
    "dt = DecisionTreeClassifier(random_state=42)\n",
    "dt.fit(X_train_scaled, y_train)\n",
    "y_pred_dt = dt.predict(X_test_scaled)\n",
    "accuracy_dt = accuracy_score(y_test, y_pred_dt)\n",
    "precision_dt = precision_score(y_test, y_pred_dt)\n",
    "recall_dt = recall_score(y_test, y_pred_dt)\n",
    "f1_dt = f1_score(y_test, y_pred_dt)\n",
    "\n",
    "# Forêt Aléatoire\n",
    "rf = RandomForestClassifier(random_state=42)\n",
    "rf.fit(X_train_scaled, y_train)\n",
    "y_pred_rf = rf.predict(X_test_scaled)\n",
    "accuracy_rf = accuracy_score(y_test, y_pred_rf)\n",
    "precision_rf = precision_score(y_test, y_pred_rf)\n",
    "recall_rf = recall_score(y_test, y_pred_rf)\n",
    "f1_rf = f1_score(y_test, y_pred_rf)\n",
    "\n",
    "# XGBoost\n",
    "xgb = XGBClassifier(random_state=42)\n",
    "xgb.fit(X_train_scaled, y_train)\n",
    "y_pred_xgb = xgb.predict(X_test_scaled)\n",
    "accuracy_xgb = accuracy_score(y_test, y_pred_xgb)\n",
    "precision_xgb = precision_score(y_test, y_pred_xgb)\n",
    "recall_xgb = recall_score(y_test, y_pred_xgb)\n",
    "f1_xgb = f1_score(y_test, y_pred_xgb)\n",
    "\n",
    "# SVC\n",
    "svc = SVC(random_state=42, probability=True)\n",
    "svc.fit(X_train_scaled, y_train)\n",
    "y_pred_svc = svc.predict(X_test_scaled)\n",
    "accuracy_svc = accuracy_score(y_test, y_pred_svc)\n",
    "precision_svc = precision_score(y_test, y_pred_svc)\n",
    "recall_svc = recall_score(y_test, y_pred_svc)\n",
    "f1_svc = f1_score(y_test, y_pred_svc)\n",
    "\n",
    "# Afficher les résultats\n",
    "print(\"Régression Logistique:\")\n",
    "print(\"Accuracy : \", accuracy_lr)\n",
    "print(\"Précision : \", precision_lr)\n",
    "print(\"Rappel : \", recall_lr)\n",
    "print(\"F1-Score : \", f1_lr)\n",
    "print()\n",
    "print(\"Arbre de Décision:\")\n",
    "print(\"Accuracy : \", accuracy_dt)\n",
    "print(\"Précision : \", precision_dt)\n",
    "print(\"Rappel : \", recall_dt)\n",
    "print(\"F1-Score : \", f1_dt)\n",
    "print()\n",
    "print(\"Forêt Aléatoire:\")\n",
    "print(\"Accuracy : \", accuracy_rf)\n",
    "print(\"Précision : \", precision_rf)\n",
    "print(\"Rappel : \", recall_rf)\n",
    "print(\"F1-Score : \", f1_rf)\n",
    "print()\n",
    "print(\"XGBoost:\")\n",
    "print(\"Accuracy : \", accuracy_xgb)\n",
    "print(\"Précision : \", precision_xgb)\n",
    "print(\"Rappel : \", recall_xgb)\n",
    "print(\"F1-Score : \", f1_xgb)\n",
    "print()\n",
    "print(\"SVC:\")\n",
    "print(\"Accuracy : \", accuracy_svc)\n",
    "print(\"Précision : \", precision_svc)\n",
    "print(\"Rappel : \", recall_svc)\n",
    "print(\"F1-Score : \", f1_svc)"
   ]
  },
  {
   "cell_type": "code",
   "execution_count": null,
   "id": "f2c28a4f",
   "metadata": {},
   "outputs": [],
   "source": []
  },
  {
   "cell_type": "code",
   "execution_count": 55,
   "id": "0e813240",
   "metadata": {},
   "outputs": [
    {
     "name": "stdout",
     "output_type": "stream",
     "text": [
      "                   Modèle  Accuracy  Précision  Rappel  F1-Score  Coût risqué\n",
      "0   Régression Logistique  0.811321   0.000000     1.0  0.285714         10.0\n",
      "1  DecisionTreeClassifier  0.509434   0.038462     0.5  0.071429         42.0\n",
      "2  RandomForestClassifier  0.490566   0.000000     0.0  0.000000         45.0\n",
      "3                 XGBoost  0.490566   0.037037     0.5  0.068966         36.0\n",
      "4                     SVC  0.415094   0.000000     0.0  0.000000          NaN\n"
     ]
    }
   ],
   "source": [
    "import pandas as pd\n",
    "\n",
    "# Création d'un dictionnaire de données avec 6 colonnes\n",
    "data = {\n",
    "        'Modèle': ['Régression Logistique', 'DecisionTreeClassifier', 'RandomForestClassifier', 'XGBoost', 'SVC'],\n",
    "        'Accuracy': [accuracy_lr, accuracy_dt, accuracy_rf, accuracy_xgb, accuracy_svc],\n",
    "        'Précision': [precision_rf, precision_dt, precision_rf, precision_xgb, precision_svc],\n",
    "        'Rappel': [recall_lr, recall_dt, recall_rf, recall_xgb, recall_svc],\n",
    "        'F1-Score': [f1_lr, f1_dt, f1_rf, f1_xgb, f1_svc],\n",
    "        'Coût risqué': [cost_lr, cost_dt, cost_rf, cost_xgb, np.nan]\n",
    "       }\n",
    "\n",
    "# Création du DataFrame à partir du dictionnaire de données\n",
    "df = pd.DataFrame(data)\n",
    "\n",
    "# Affichage du DataFrame\n",
    "print(df)"
   ]
  },
  {
   "cell_type": "code",
   "execution_count": 56,
   "id": "6719d0f5",
   "metadata": {},
   "outputs": [
    {
     "data": {
      "text/html": [
       "<div>\n",
       "<style scoped>\n",
       "    .dataframe tbody tr th:only-of-type {\n",
       "        vertical-align: middle;\n",
       "    }\n",
       "\n",
       "    .dataframe tbody tr th {\n",
       "        vertical-align: top;\n",
       "    }\n",
       "\n",
       "    .dataframe thead th {\n",
       "        text-align: right;\n",
       "    }\n",
       "</style>\n",
       "<table border=\"1\" class=\"dataframe\">\n",
       "  <thead>\n",
       "    <tr style=\"text-align: right;\">\n",
       "      <th></th>\n",
       "      <th>Modèle</th>\n",
       "      <th>Accuracy</th>\n",
       "      <th>Précision</th>\n",
       "      <th>Rappel</th>\n",
       "      <th>F1-Score</th>\n",
       "      <th>Coût risqué</th>\n",
       "    </tr>\n",
       "  </thead>\n",
       "  <tbody>\n",
       "    <tr>\n",
       "      <th>0</th>\n",
       "      <td>Régression Logistique</td>\n",
       "      <td>0.811321</td>\n",
       "      <td>0.000000</td>\n",
       "      <td>1.0</td>\n",
       "      <td>0.285714</td>\n",
       "      <td>10.0</td>\n",
       "    </tr>\n",
       "    <tr>\n",
       "      <th>1</th>\n",
       "      <td>DecisionTreeClassifier</td>\n",
       "      <td>0.509434</td>\n",
       "      <td>0.038462</td>\n",
       "      <td>0.5</td>\n",
       "      <td>0.071429</td>\n",
       "      <td>42.0</td>\n",
       "    </tr>\n",
       "    <tr>\n",
       "      <th>2</th>\n",
       "      <td>RandomForestClassifier</td>\n",
       "      <td>0.490566</td>\n",
       "      <td>0.000000</td>\n",
       "      <td>0.0</td>\n",
       "      <td>0.000000</td>\n",
       "      <td>45.0</td>\n",
       "    </tr>\n",
       "    <tr>\n",
       "      <th>3</th>\n",
       "      <td>XGBoost</td>\n",
       "      <td>0.490566</td>\n",
       "      <td>0.037037</td>\n",
       "      <td>0.5</td>\n",
       "      <td>0.068966</td>\n",
       "      <td>36.0</td>\n",
       "    </tr>\n",
       "    <tr>\n",
       "      <th>4</th>\n",
       "      <td>SVC</td>\n",
       "      <td>0.415094</td>\n",
       "      <td>0.000000</td>\n",
       "      <td>0.0</td>\n",
       "      <td>0.000000</td>\n",
       "      <td>NaN</td>\n",
       "    </tr>\n",
       "  </tbody>\n",
       "</table>\n",
       "</div>"
      ],
      "text/plain": [
       "                   Modèle  Accuracy  Précision  Rappel  F1-Score  Coût risqué\n",
       "0   Régression Logistique  0.811321   0.000000     1.0  0.285714         10.0\n",
       "1  DecisionTreeClassifier  0.509434   0.038462     0.5  0.071429         42.0\n",
       "2  RandomForestClassifier  0.490566   0.000000     0.0  0.000000         45.0\n",
       "3                 XGBoost  0.490566   0.037037     0.5  0.068966         36.0\n",
       "4                     SVC  0.415094   0.000000     0.0  0.000000          NaN"
      ]
     },
     "execution_count": 56,
     "metadata": {},
     "output_type": "execute_result"
    }
   ],
   "source": [
    "df.head()"
   ]
  },
  {
   "cell_type": "code",
   "execution_count": 57,
   "id": "ad04b1c3",
   "metadata": {},
   "outputs": [
    {
     "data": {
      "image/png": "[encoded data removed]",
      "text/plain": [
       "<Figure size 640x480 with 1 Axes>"
      ]
     },
     "metadata": {},
     "output_type": "display_data"
    }
   ],
   "source": [
    "# Tracé d'un graphique à barres\n",
    "plt.bar(df['Modèle'], df['Coût risqué'])\n",
    "plt.title('Représentation des coûts en risque pour chaque modèle')\n",
    "plt.xlabel('Modèle')\n",
    "plt.ylabel('Coût risqué')\n",
    "plt.xticks(rotation=90)\n",
    "plt.show()"
   ]
  },
  {
   "cell_type": "code",
   "execution_count": 58,
   "id": "22cc27f2",
   "metadata": {},
   "outputs": [],
   "source": [
    "from pickle import dump, load\n",
    "with open(\"model.pickle\", \"wb\") as file:\n",
    "    dump(svc,file)"
   ]
  },
  {
   "cell_type": "code",
   "execution_count": 60,
   "id": "bf92eb91",
   "metadata": {},
   "outputs": [],
   "source": [
    "with open(\"model.pickle\", \"rb\") as file:\n",
    "    model=load(file)"
   ]
  },
  {
   "cell_type": "code",
   "execution_count": null,
   "id": "4e68c3d3",
   "metadata": {},
   "outputs": [],
   "source": []
  },
  {
   "cell_type": "code",
   "execution_count": null,
   "id": "0e09867b",
   "metadata": {},
   "outputs": [],
   "source": []
  },
  {
   "cell_type": "code",
   "execution_count": null,
   "id": "81f52615",
   "metadata": {},
   "outputs": [],
   "source": []
  },
  {
   "cell_type": "code",
   "execution_count": 62,
   "id": "3bde4398",
   "metadata": {},
   "outputs": [],
   "source": [
    "import requests"
   ]
  },
  {
   "cell_type": "code",
   "execution_count": null,
   "id": "e481eb1d",
   "metadata": {},
   "outputs": [],
   "source": []
  }
 ],
 "metadata": {
  "kernelspec": {
   "display_name": "Python 3 (ipykernel)",
   "language": "python",
   "name": "python3"
  },
  "language_info": {
   "codemirror_mode": {
    "name": "ipython",
    "version": 3
   },
   "file_extension": ".py",
   "mimetype": "text/x-python",
   "name": "python",
   "nbconvert_exporter": "python",
   "pygments_lexer": "ipython3",
   "version": "3.9.16"
  }
 },
 "nbformat": 4,
 "nbformat_minor": 5
}
