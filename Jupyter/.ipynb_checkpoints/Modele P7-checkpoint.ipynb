{
 "cells": [
  {
   "cell_type": "code",
   "execution_count": 1,
   "id": "1793a1e4",
   "metadata": {},
   "outputs": [
    {
     "name": "stderr",
     "output_type": "stream",
     "text": [
      "/opt/anaconda3/lib/python3.9/site-packages/sklearn/experimental/enable_hist_gradient_boosting.py:16: UserWarning: Since version 1.0, it is not needed to import enable_hist_gradient_boosting anymore. HistGradientBoostingClassifier and HistGradientBoostingRegressor are now stable and can be normally imported from sklearn.ensemble.\n",
      "  warnings.warn(\n"
     ]
    }
   ],
   "source": [
    "import numpy as np\n",
    "import pandas as pd\n",
    "import seaborn as sns\n",
    "from sklearn import datasets, preprocessing, model_selection, ensemble, pipeline\n",
    "from sklearn.experimental import enable_hist_gradient_boosting\n",
    "from sklearn.linear_model import LogisticRegression\n",
    "from sklearn.tree import DecisionTreeClassifier\n",
    "from sklearn.ensemble import RandomForestClassifier\n",
    "from sklearn.metrics import accuracy_score\n",
    "from sklearn.model_selection import cross_val_score\n",
    "from sklearn.metrics import classification_report, confusion_matrix, roc_curve\n",
    "from sklearn.model_selection import train_test_split, StratifiedKFold\n",
    "from imblearn.over_sampling import SMOTE\n",
    "from sklearn.metrics import accuracy_score, roc_auc_score, f1_score, precision_score, recall_score \n",
    "from imblearn.pipeline import make_pipeline, Pipeline\n",
    "from sklearn.model_selection import cross_val_predict, cross_val_score, learning_curve, cross_validate\n",
    "from sklearn.preprocessing import StandardScaler\n",
    "from sklearn.ensemble import RandomForestClassifier\n",
    "from sklearn.preprocessing import StandardScaler\n",
    "from sklearn.model_selection import train_test_split\n",
    "from sklearn.metrics import accuracy_score\n",
    "from xgboost import XGBClassifier\n",
    "from sklearn.svm import SVC\n",
    "from sklearn.metrics import precision_recall_fscore_support\n",
    "#from evidently.dashboard import Dashboard\n",
    "#from evidently.tabs import ClassificationPerformanceTab\n",
    "#from evidently.tabs import DataDriftTab\n",
    "from sklearn.impute import KNNImputer\n",
    "import matplotlib.pyplot as plt\n",
    "from sklearn.model_selection import GridSearchCV\n",
    "from sklearn.dummy import DummyClassifier\n",
    "from sklearn.metrics import roc_curve, auc\n",
    "from imblearn.under_sampling import RandomUnderSampler"
   ]
  },
  {
   "cell_type": "code",
   "execution_count": 3,
   "id": "1f8d13f0",
   "metadata": {},
   "outputs": [],
   "source": [
    "import mlflow\n",
    "from mlflow import MlflowClient\n",
    "mlflow.sklearn.autolog()"
   ]
  },
  {
   "cell_type": "code",
   "execution_count": null,
   "id": "4f8c4ce3",
   "metadata": {},
   "outputs": [],
   "source": []
  },
  {
   "cell_type": "code",
   "execution_count": 4,
   "id": "fd8d1282",
   "metadata": {},
   "outputs": [
    {
     "data": {
      "text/html": [
       "<div>\n",
       "<style scoped>\n",
       "    .dataframe tbody tr th:only-of-type {\n",
       "        vertical-align: middle;\n",
       "    }\n",
       "\n",
       "    .dataframe tbody tr th {\n",
       "        vertical-align: top;\n",
       "    }\n",
       "\n",
       "    .dataframe thead th {\n",
       "        text-align: right;\n",
       "    }\n",
       "</style>\n",
       "<table border=\"1\" class=\"dataframe\">\n",
       "  <thead>\n",
       "    <tr style=\"text-align: right;\">\n",
       "      <th></th>\n",
       "      <th>Unnamed: 0</th>\n",
       "      <th>index</th>\n",
       "      <th>SK_ID_CURR</th>\n",
       "      <th>TARGET</th>\n",
       "      <th>CODE_GENDER</th>\n",
       "      <th>FLAG_OWN_CAR</th>\n",
       "      <th>FLAG_OWN_REALTY</th>\n",
       "      <th>CNT_CHILDREN</th>\n",
       "      <th>AMT_INCOME_TOTAL</th>\n",
       "      <th>AMT_CREDIT</th>\n",
       "      <th>...</th>\n",
       "      <th>CC_NAME_CONTRACT_STATUS_Signed_MAX</th>\n",
       "      <th>CC_NAME_CONTRACT_STATUS_Signed_MEAN</th>\n",
       "      <th>CC_NAME_CONTRACT_STATUS_Signed_SUM</th>\n",
       "      <th>CC_NAME_CONTRACT_STATUS_Signed_VAR</th>\n",
       "      <th>CC_NAME_CONTRACT_STATUS_nan_MIN</th>\n",
       "      <th>CC_NAME_CONTRACT_STATUS_nan_MAX</th>\n",
       "      <th>CC_NAME_CONTRACT_STATUS_nan_MEAN</th>\n",
       "      <th>CC_NAME_CONTRACT_STATUS_nan_SUM</th>\n",
       "      <th>CC_NAME_CONTRACT_STATUS_nan_VAR</th>\n",
       "      <th>CC_COUNT</th>\n",
       "    </tr>\n",
       "  </thead>\n",
       "  <tbody>\n",
       "    <tr>\n",
       "      <th>0</th>\n",
       "      <td>0</td>\n",
       "      <td>0</td>\n",
       "      <td>100002</td>\n",
       "      <td>1.0</td>\n",
       "      <td>0</td>\n",
       "      <td>0</td>\n",
       "      <td>0</td>\n",
       "      <td>0</td>\n",
       "      <td>202500.0</td>\n",
       "      <td>406597.5</td>\n",
       "      <td>...</td>\n",
       "      <td>NaN</td>\n",
       "      <td>NaN</td>\n",
       "      <td>NaN</td>\n",
       "      <td>NaN</td>\n",
       "      <td>NaN</td>\n",
       "      <td>NaN</td>\n",
       "      <td>NaN</td>\n",
       "      <td>NaN</td>\n",
       "      <td>NaN</td>\n",
       "      <td>NaN</td>\n",
       "    </tr>\n",
       "    <tr>\n",
       "      <th>1</th>\n",
       "      <td>1</td>\n",
       "      <td>1</td>\n",
       "      <td>100003</td>\n",
       "      <td>0.0</td>\n",
       "      <td>1</td>\n",
       "      <td>0</td>\n",
       "      <td>1</td>\n",
       "      <td>0</td>\n",
       "      <td>270000.0</td>\n",
       "      <td>1293502.5</td>\n",
       "      <td>...</td>\n",
       "      <td>NaN</td>\n",
       "      <td>NaN</td>\n",
       "      <td>NaN</td>\n",
       "      <td>NaN</td>\n",
       "      <td>NaN</td>\n",
       "      <td>NaN</td>\n",
       "      <td>NaN</td>\n",
       "      <td>NaN</td>\n",
       "      <td>NaN</td>\n",
       "      <td>NaN</td>\n",
       "    </tr>\n",
       "    <tr>\n",
       "      <th>2</th>\n",
       "      <td>2</td>\n",
       "      <td>2</td>\n",
       "      <td>100004</td>\n",
       "      <td>0.0</td>\n",
       "      <td>0</td>\n",
       "      <td>1</td>\n",
       "      <td>0</td>\n",
       "      <td>0</td>\n",
       "      <td>67500.0</td>\n",
       "      <td>135000.0</td>\n",
       "      <td>...</td>\n",
       "      <td>NaN</td>\n",
       "      <td>NaN</td>\n",
       "      <td>NaN</td>\n",
       "      <td>NaN</td>\n",
       "      <td>NaN</td>\n",
       "      <td>NaN</td>\n",
       "      <td>NaN</td>\n",
       "      <td>NaN</td>\n",
       "      <td>NaN</td>\n",
       "      <td>NaN</td>\n",
       "    </tr>\n",
       "    <tr>\n",
       "      <th>3</th>\n",
       "      <td>3</td>\n",
       "      <td>3</td>\n",
       "      <td>100006</td>\n",
       "      <td>0.0</td>\n",
       "      <td>1</td>\n",
       "      <td>0</td>\n",
       "      <td>0</td>\n",
       "      <td>0</td>\n",
       "      <td>135000.0</td>\n",
       "      <td>312682.5</td>\n",
       "      <td>...</td>\n",
       "      <td>0.0</td>\n",
       "      <td>0.0</td>\n",
       "      <td>0.0</td>\n",
       "      <td>0.0</td>\n",
       "      <td>0.0</td>\n",
       "      <td>0.0</td>\n",
       "      <td>0.0</td>\n",
       "      <td>0.0</td>\n",
       "      <td>0.0</td>\n",
       "      <td>6.0</td>\n",
       "    </tr>\n",
       "    <tr>\n",
       "      <th>4</th>\n",
       "      <td>4</td>\n",
       "      <td>4</td>\n",
       "      <td>100007</td>\n",
       "      <td>0.0</td>\n",
       "      <td>0</td>\n",
       "      <td>0</td>\n",
       "      <td>0</td>\n",
       "      <td>0</td>\n",
       "      <td>121500.0</td>\n",
       "      <td>513000.0</td>\n",
       "      <td>...</td>\n",
       "      <td>NaN</td>\n",
       "      <td>NaN</td>\n",
       "      <td>NaN</td>\n",
       "      <td>NaN</td>\n",
       "      <td>NaN</td>\n",
       "      <td>NaN</td>\n",
       "      <td>NaN</td>\n",
       "      <td>NaN</td>\n",
       "      <td>NaN</td>\n",
       "      <td>NaN</td>\n",
       "    </tr>\n",
       "  </tbody>\n",
       "</table>\n",
       "<p>5 rows × 799 columns</p>\n",
       "</div>"
      ],
      "text/plain": [
       "   Unnamed: 0  index  SK_ID_CURR  TARGET  CODE_GENDER  FLAG_OWN_CAR  \\\n",
       "0           0      0      100002     1.0            0             0   \n",
       "1           1      1      100003     0.0            1             0   \n",
       "2           2      2      100004     0.0            0             1   \n",
       "3           3      3      100006     0.0            1             0   \n",
       "4           4      4      100007     0.0            0             0   \n",
       "\n",
       "   FLAG_OWN_REALTY  CNT_CHILDREN  AMT_INCOME_TOTAL  AMT_CREDIT  ...  \\\n",
       "0                0             0          202500.0    406597.5  ...   \n",
       "1                1             0          270000.0   1293502.5  ...   \n",
       "2                0             0           67500.0    135000.0  ...   \n",
       "3                0             0          135000.0    312682.5  ...   \n",
       "4                0             0          121500.0    513000.0  ...   \n",
       "\n",
       "   CC_NAME_CONTRACT_STATUS_Signed_MAX  CC_NAME_CONTRACT_STATUS_Signed_MEAN  \\\n",
       "0                                 NaN                                  NaN   \n",
       "1                                 NaN                                  NaN   \n",
       "2                                 NaN                                  NaN   \n",
       "3                                 0.0                                  0.0   \n",
       "4                                 NaN                                  NaN   \n",
       "\n",
       "   CC_NAME_CONTRACT_STATUS_Signed_SUM  CC_NAME_CONTRACT_STATUS_Signed_VAR  \\\n",
       "0                                 NaN                                 NaN   \n",
       "1                                 NaN                                 NaN   \n",
       "2                                 NaN                                 NaN   \n",
       "3                                 0.0                                 0.0   \n",
       "4                                 NaN                                 NaN   \n",
       "\n",
       "   CC_NAME_CONTRACT_STATUS_nan_MIN  CC_NAME_CONTRACT_STATUS_nan_MAX  \\\n",
       "0                              NaN                              NaN   \n",
       "1                              NaN                              NaN   \n",
       "2                              NaN                              NaN   \n",
       "3                              0.0                              0.0   \n",
       "4                              NaN                              NaN   \n",
       "\n",
       "   CC_NAME_CONTRACT_STATUS_nan_MEAN  CC_NAME_CONTRACT_STATUS_nan_SUM  \\\n",
       "0                               NaN                              NaN   \n",
       "1                               NaN                              NaN   \n",
       "2                               NaN                              NaN   \n",
       "3                               0.0                              0.0   \n",
       "4                               NaN                              NaN   \n",
       "\n",
       "   CC_NAME_CONTRACT_STATUS_nan_VAR  CC_COUNT  \n",
       "0                              NaN       NaN  \n",
       "1                              NaN       NaN  \n",
       "2                              NaN       NaN  \n",
       "3                              0.0       6.0  \n",
       "4                              NaN       NaN  \n",
       "\n",
       "[5 rows x 799 columns]"
      ]
     },
     "execution_count": 4,
     "metadata": {},
     "output_type": "execute_result"
    }
   ],
   "source": [
    "import pandas as pd\n",
    "df0=pd.read_csv(\"df_scoring.csv\")\n",
    "df0.head()"
   ]
  },
  {
   "cell_type": "code",
   "execution_count": 5,
   "id": "14daa3ba",
   "metadata": {},
   "outputs": [
    {
     "data": {
      "text/plain": [
       "array([False, False, False, False, False, False, False, False, False,\n",
       "       False, False, False, False, False, False, False, False, False,\n",
       "       False, False, False, False, False, False, False, False, False,\n",
       "       False, False, False, False, False, False, False, False, False,\n",
       "       False, False, False, False, False, False, False, False, False,\n",
       "       False, False, False, False, False, False, False, False, False,\n",
       "       False, False, False, False, False, False, False, False, False,\n",
       "       False, False, False, False, False, False, False, False, False,\n",
       "       False, False, False, False, False, False, False, False, False,\n",
       "       False, False, False, False, False, False, False, False, False,\n",
       "       False, False, False, False, False, False, False, False, False,\n",
       "       False, False, False, False, False, False, False, False, False,\n",
       "       False, False, False, False, False, False, False, False, False,\n",
       "       False, False, False, False, False, False, False, False, False,\n",
       "       False, False, False, False, False, False, False, False, False,\n",
       "       False, False, False, False, False, False, False, False, False,\n",
       "       False, False, False, False, False, False, False, False, False,\n",
       "       False, False, False, False, False, False, False, False, False,\n",
       "       False, False, False, False, False, False, False, False, False,\n",
       "       False, False, False, False, False, False, False, False, False,\n",
       "       False, False, False, False, False, False, False, False, False,\n",
       "       False, False, False, False, False, False, False, False, False,\n",
       "       False, False, False, False, False, False, False, False, False,\n",
       "       False, False, False, False, False, False, False, False, False,\n",
       "       False, False, False, False, False, False, False, False, False,\n",
       "       False, False, False, False, False, False, False, False, False,\n",
       "       False, False, False, False, False, False, False, False, False,\n",
       "       False, False, False, False, False, False, False, False, False,\n",
       "       False, False, False, False, False, False, False, False, False,\n",
       "       False, False, False, False, False, False, False, False, False,\n",
       "       False, False, False, False, False, False, False, False, False,\n",
       "       False, False, False, False, False, False, False, False, False,\n",
       "       False, False, False, False, False, False, False, False, False,\n",
       "       False, False, False, False, False, False, False, False, False,\n",
       "       False, False, False, False, False, False, False, False, False,\n",
       "       False, False, False, False, False, False, False, False, False,\n",
       "       False, False, False, False, False, False, False, False, False,\n",
       "       False, False, False, False, False, False, False, False, False,\n",
       "       False, False, False, False, False, False, False, False, False,\n",
       "       False, False, False, False, False, False, False, False, False,\n",
       "       False, False, False, False, False, False, False, False, False,\n",
       "       False, False, False, False, False, False, False, False, False,\n",
       "       False, False, False, False, False, False, False, False, False,\n",
       "       False, False, False, False, False, False, False, False, False,\n",
       "       False, False, False, False, False, False, False, False, False,\n",
       "       False, False, False, False, False, False, False, False, False,\n",
       "       False, False, False, False, False, False, False, False, False,\n",
       "       False, False, False, False, False, False, False, False, False,\n",
       "       False, False, False, False, False, False, False, False, False,\n",
       "       False, False, False, False, False, False, False, False, False,\n",
       "       False, False, False, False, False, False, False, False, False,\n",
       "       False, False, False, False, False, False, False, False, False,\n",
       "       False, False, False, False, False, False, False, False, False,\n",
       "       False, False, False, False, False, False, False, False, False,\n",
       "       False, False, False, False, False, False, False, False, False,\n",
       "       False, False, False, False, False, False, False, False, False,\n",
       "       False, False, False, False, False, False, False, False, False,\n",
       "       False, False, False, False, False, False, False, False, False,\n",
       "       False, False, False, False, False, False, False, False, False,\n",
       "       False, False, False, False, False, False, False, False, False,\n",
       "       False, False, False, False, False, False, False, False, False,\n",
       "       False, False, False, False, False, False, False, False, False,\n",
       "       False, False, False, False, False, False, False, False, False,\n",
       "       False, False, False, False, False, False, False, False, False,\n",
       "       False, False, False, False, False, False, False, False, False,\n",
       "       False, False, False, False, False, False, False, False, False,\n",
       "       False, False, False, False, False, False, False, False, False,\n",
       "       False, False, False, False, False, False, False, False, False,\n",
       "       False, False, False, False, False, False, False, False, False,\n",
       "       False, False, False, False, False, False, False, False, False,\n",
       "       False, False, False, False, False, False, False, False, False,\n",
       "       False, False, False, False, False, False, False, False, False,\n",
       "       False, False, False, False, False, False, False, False, False,\n",
       "       False, False, False, False, False, False, False, False, False,\n",
       "       False, False, False, False, False, False, False, False, False,\n",
       "       False, False, False, False, False, False, False, False, False,\n",
       "       False, False, False, False, False, False, False, False, False,\n",
       "       False, False, False, False, False, False, False, False, False,\n",
       "       False, False, False, False, False, False, False, False, False,\n",
       "       False, False, False, False, False, False, False, False, False,\n",
       "       False, False, False, False, False, False, False, False, False,\n",
       "       False, False, False, False, False, False, False, False, False,\n",
       "       False, False, False, False, False, False, False, False, False,\n",
       "       False, False, False, False, False, False, False, False, False,\n",
       "       False, False, False, False, False, False, False, False, False,\n",
       "       False, False, False, False, False, False, False, False, False,\n",
       "       False, False, False, False, False, False, False, False, False,\n",
       "       False, False, False, False, False, False, False, False, False,\n",
       "       False, False, False, False, False, False, False])"
      ]
     },
     "execution_count": 5,
     "metadata": {},
     "output_type": "execute_result"
    }
   ],
   "source": [
    "df0.columns.isnull()"
   ]
  },
  {
   "cell_type": "code",
   "execution_count": 6,
   "id": "45490530",
   "metadata": {},
   "outputs": [],
   "source": [
    "df0=df0.sample(10000)"
   ]
  },
  {
   "cell_type": "code",
   "execution_count": 7,
   "id": "427ccfe9",
   "metadata": {},
   "outputs": [],
   "source": [
    "df0.to_csv(\"df_sample.csv\")"
   ]
  },
  {
   "cell_type": "markdown",
   "id": "a5b51df5",
   "metadata": {},
   "source": [
    "# Appropriation du Dataframe par nettoyage"
   ]
  },
  {
   "cell_type": "markdown",
   "id": "a99c9206",
   "metadata": {},
   "source": [
    "#### Pourcentage de valeurs manquantes"
   ]
  },
  {
   "cell_type": "code",
   "execution_count": 8,
   "id": "cef1d733",
   "metadata": {},
   "outputs": [
    {
     "name": "stdout",
     "output_type": "stream",
     "text": [
      "Unnamed: 0                           0.00\n",
      "index                                0.00\n",
      "SK_ID_CURR                           0.00\n",
      "TARGET                              13.62\n",
      "CODE_GENDER                          0.00\n",
      "                                    ...  \n",
      "CC_NAME_CONTRACT_STATUS_nan_MAX     70.58\n",
      "CC_NAME_CONTRACT_STATUS_nan_MEAN    70.58\n",
      "CC_NAME_CONTRACT_STATUS_nan_SUM     70.58\n",
      "CC_NAME_CONTRACT_STATUS_nan_VAR     70.81\n",
      "CC_COUNT                            70.58\n",
      "Length: 799, dtype: float64\n"
     ]
    }
   ],
   "source": [
    "pourcentage_valeurs_manquantes = df0.isna().mean() * 100\n",
    "\n",
    "print(pourcentage_valeurs_manquantes)"
   ]
  },
  {
   "cell_type": "markdown",
   "id": "6bf6d345",
   "metadata": {},
   "source": [
    "#### Remplacement de valeurs infinies par des valeurs finies"
   ]
  },
  {
   "cell_type": "code",
   "execution_count": 9,
   "id": "cf79254b",
   "metadata": {},
   "outputs": [
    {
     "data": {
      "text/html": [
       "<div>\n",
       "<style scoped>\n",
       "    .dataframe tbody tr th:only-of-type {\n",
       "        vertical-align: middle;\n",
       "    }\n",
       "\n",
       "    .dataframe tbody tr th {\n",
       "        vertical-align: top;\n",
       "    }\n",
       "\n",
       "    .dataframe thead th {\n",
       "        text-align: right;\n",
       "    }\n",
       "</style>\n",
       "<table border=\"1\" class=\"dataframe\">\n",
       "  <thead>\n",
       "    <tr style=\"text-align: right;\">\n",
       "      <th></th>\n",
       "      <th>Unnamed: 0</th>\n",
       "      <th>index</th>\n",
       "      <th>SK_ID_CURR</th>\n",
       "      <th>TARGET</th>\n",
       "      <th>CODE_GENDER</th>\n",
       "      <th>FLAG_OWN_CAR</th>\n",
       "      <th>FLAG_OWN_REALTY</th>\n",
       "      <th>CNT_CHILDREN</th>\n",
       "      <th>AMT_INCOME_TOTAL</th>\n",
       "      <th>AMT_CREDIT</th>\n",
       "      <th>...</th>\n",
       "      <th>CC_NAME_CONTRACT_STATUS_Signed_MAX</th>\n",
       "      <th>CC_NAME_CONTRACT_STATUS_Signed_MEAN</th>\n",
       "      <th>CC_NAME_CONTRACT_STATUS_Signed_SUM</th>\n",
       "      <th>CC_NAME_CONTRACT_STATUS_Signed_VAR</th>\n",
       "      <th>CC_NAME_CONTRACT_STATUS_nan_MIN</th>\n",
       "      <th>CC_NAME_CONTRACT_STATUS_nan_MAX</th>\n",
       "      <th>CC_NAME_CONTRACT_STATUS_nan_MEAN</th>\n",
       "      <th>CC_NAME_CONTRACT_STATUS_nan_SUM</th>\n",
       "      <th>CC_NAME_CONTRACT_STATUS_nan_VAR</th>\n",
       "      <th>CC_COUNT</th>\n",
       "    </tr>\n",
       "  </thead>\n",
       "  <tbody>\n",
       "    <tr>\n",
       "      <th>0</th>\n",
       "      <td>225602.0</td>\n",
       "      <td>225602.0</td>\n",
       "      <td>361312.0</td>\n",
       "      <td>0.0</td>\n",
       "      <td>1.0</td>\n",
       "      <td>0.0</td>\n",
       "      <td>1.0</td>\n",
       "      <td>0.0</td>\n",
       "      <td>157500.0</td>\n",
       "      <td>327024.0</td>\n",
       "      <td>...</td>\n",
       "      <td>0.0</td>\n",
       "      <td>0.0</td>\n",
       "      <td>0.0</td>\n",
       "      <td>0.0</td>\n",
       "      <td>0.0</td>\n",
       "      <td>0.0</td>\n",
       "      <td>0.0</td>\n",
       "      <td>0.0</td>\n",
       "      <td>0.0</td>\n",
       "      <td>0.0</td>\n",
       "    </tr>\n",
       "    <tr>\n",
       "      <th>1</th>\n",
       "      <td>199147.0</td>\n",
       "      <td>199147.0</td>\n",
       "      <td>330877.0</td>\n",
       "      <td>0.0</td>\n",
       "      <td>0.0</td>\n",
       "      <td>1.0</td>\n",
       "      <td>0.0</td>\n",
       "      <td>0.0</td>\n",
       "      <td>135000.0</td>\n",
       "      <td>552555.0</td>\n",
       "      <td>...</td>\n",
       "      <td>0.0</td>\n",
       "      <td>0.0</td>\n",
       "      <td>0.0</td>\n",
       "      <td>0.0</td>\n",
       "      <td>0.0</td>\n",
       "      <td>0.0</td>\n",
       "      <td>0.0</td>\n",
       "      <td>0.0</td>\n",
       "      <td>0.0</td>\n",
       "      <td>0.0</td>\n",
       "    </tr>\n",
       "    <tr>\n",
       "      <th>2</th>\n",
       "      <td>227344.0</td>\n",
       "      <td>227344.0</td>\n",
       "      <td>363335.0</td>\n",
       "      <td>0.0</td>\n",
       "      <td>1.0</td>\n",
       "      <td>0.0</td>\n",
       "      <td>0.0</td>\n",
       "      <td>0.0</td>\n",
       "      <td>112500.0</td>\n",
       "      <td>510102.0</td>\n",
       "      <td>...</td>\n",
       "      <td>0.0</td>\n",
       "      <td>0.0</td>\n",
       "      <td>0.0</td>\n",
       "      <td>0.0</td>\n",
       "      <td>0.0</td>\n",
       "      <td>0.0</td>\n",
       "      <td>0.0</td>\n",
       "      <td>0.0</td>\n",
       "      <td>0.0</td>\n",
       "      <td>0.0</td>\n",
       "    </tr>\n",
       "    <tr>\n",
       "      <th>3</th>\n",
       "      <td>44029.0</td>\n",
       "      <td>44029.0</td>\n",
       "      <td>150991.0</td>\n",
       "      <td>0.0</td>\n",
       "      <td>1.0</td>\n",
       "      <td>0.0</td>\n",
       "      <td>0.0</td>\n",
       "      <td>0.0</td>\n",
       "      <td>135000.0</td>\n",
       "      <td>585000.0</td>\n",
       "      <td>...</td>\n",
       "      <td>0.0</td>\n",
       "      <td>0.0</td>\n",
       "      <td>0.0</td>\n",
       "      <td>0.0</td>\n",
       "      <td>0.0</td>\n",
       "      <td>0.0</td>\n",
       "      <td>0.0</td>\n",
       "      <td>0.0</td>\n",
       "      <td>0.0</td>\n",
       "      <td>0.0</td>\n",
       "    </tr>\n",
       "    <tr>\n",
       "      <th>4</th>\n",
       "      <td>86877.0</td>\n",
       "      <td>86877.0</td>\n",
       "      <td>200831.0</td>\n",
       "      <td>0.0</td>\n",
       "      <td>1.0</td>\n",
       "      <td>1.0</td>\n",
       "      <td>0.0</td>\n",
       "      <td>0.0</td>\n",
       "      <td>135000.0</td>\n",
       "      <td>270000.0</td>\n",
       "      <td>...</td>\n",
       "      <td>0.0</td>\n",
       "      <td>0.0</td>\n",
       "      <td>0.0</td>\n",
       "      <td>0.0</td>\n",
       "      <td>0.0</td>\n",
       "      <td>0.0</td>\n",
       "      <td>0.0</td>\n",
       "      <td>0.0</td>\n",
       "      <td>0.0</td>\n",
       "      <td>0.0</td>\n",
       "    </tr>\n",
       "  </tbody>\n",
       "</table>\n",
       "<p>5 rows × 799 columns</p>\n",
       "</div>"
      ],
      "text/plain": [
       "   Unnamed: 0     index  SK_ID_CURR  TARGET  CODE_GENDER  FLAG_OWN_CAR  \\\n",
       "0    225602.0  225602.0    361312.0     0.0          1.0           0.0   \n",
       "1    199147.0  199147.0    330877.0     0.0          0.0           1.0   \n",
       "2    227344.0  227344.0    363335.0     0.0          1.0           0.0   \n",
       "3     44029.0   44029.0    150991.0     0.0          1.0           0.0   \n",
       "4     86877.0   86877.0    200831.0     0.0          1.0           1.0   \n",
       "\n",
       "   FLAG_OWN_REALTY  CNT_CHILDREN  AMT_INCOME_TOTAL  AMT_CREDIT  ...  \\\n",
       "0              1.0           0.0          157500.0    327024.0  ...   \n",
       "1              0.0           0.0          135000.0    552555.0  ...   \n",
       "2              0.0           0.0          112500.0    510102.0  ...   \n",
       "3              0.0           0.0          135000.0    585000.0  ...   \n",
       "4              0.0           0.0          135000.0    270000.0  ...   \n",
       "\n",
       "   CC_NAME_CONTRACT_STATUS_Signed_MAX  CC_NAME_CONTRACT_STATUS_Signed_MEAN  \\\n",
       "0                                 0.0                                  0.0   \n",
       "1                                 0.0                                  0.0   \n",
       "2                                 0.0                                  0.0   \n",
       "3                                 0.0                                  0.0   \n",
       "4                                 0.0                                  0.0   \n",
       "\n",
       "   CC_NAME_CONTRACT_STATUS_Signed_SUM  CC_NAME_CONTRACT_STATUS_Signed_VAR  \\\n",
       "0                                 0.0                                 0.0   \n",
       "1                                 0.0                                 0.0   \n",
       "2                                 0.0                                 0.0   \n",
       "3                                 0.0                                 0.0   \n",
       "4                                 0.0                                 0.0   \n",
       "\n",
       "   CC_NAME_CONTRACT_STATUS_nan_MIN  CC_NAME_CONTRACT_STATUS_nan_MAX  \\\n",
       "0                              0.0                              0.0   \n",
       "1                              0.0                              0.0   \n",
       "2                              0.0                              0.0   \n",
       "3                              0.0                              0.0   \n",
       "4                              0.0                              0.0   \n",
       "\n",
       "   CC_NAME_CONTRACT_STATUS_nan_MEAN  CC_NAME_CONTRACT_STATUS_nan_SUM  \\\n",
       "0                               0.0                              0.0   \n",
       "1                               0.0                              0.0   \n",
       "2                               0.0                              0.0   \n",
       "3                               0.0                              0.0   \n",
       "4                               0.0                              0.0   \n",
       "\n",
       "   CC_NAME_CONTRACT_STATUS_nan_VAR  CC_COUNT  \n",
       "0                              0.0       0.0  \n",
       "1                              0.0       0.0  \n",
       "2                              0.0       0.0  \n",
       "3                              0.0       0.0  \n",
       "4                              0.0       0.0  \n",
       "\n",
       "[5 rows x 799 columns]"
      ]
     },
     "execution_count": 9,
     "metadata": {},
     "output_type": "execute_result"
    }
   ],
   "source": [
    "df0 = pd.DataFrame(np.nan_to_num(df0), columns=df0.columns)\n",
    "df0.head()"
   ]
  },
  {
   "cell_type": "markdown",
   "id": "5d03c245",
   "metadata": {},
   "source": [
    "#### Imputation par K plus proches voisins et remplacements des valeurs manquantes"
   ]
  },
  {
   "cell_type": "code",
   "execution_count": 10,
   "id": "8c335a65",
   "metadata": {},
   "outputs": [],
   "source": [
    "imputer = KNNImputer(n_neighbors=5)\n",
    "df = pd.DataFrame(imputer.fit_transform(df0), columns=df0.columns)"
   ]
  },
  {
   "cell_type": "markdown",
   "id": "d1f88b92",
   "metadata": {},
   "source": [
    "#### Vérification de la binarité parfaite des valeurs de la Target"
   ]
  },
  {
   "cell_type": "code",
   "execution_count": 11,
   "id": "5d077656",
   "metadata": {},
   "outputs": [
    {
     "data": {
      "text/plain": [
       "array([0., 1.])"
      ]
     },
     "execution_count": 11,
     "metadata": {},
     "output_type": "execute_result"
    }
   ],
   "source": [
    "df['TARGET'].unique()"
   ]
  },
  {
   "cell_type": "code",
   "execution_count": 12,
   "id": "b76063e6",
   "metadata": {},
   "outputs": [
    {
     "data": {
      "text/html": [
       "<div>\n",
       "<style scoped>\n",
       "    .dataframe tbody tr th:only-of-type {\n",
       "        vertical-align: middle;\n",
       "    }\n",
       "\n",
       "    .dataframe tbody tr th {\n",
       "        vertical-align: top;\n",
       "    }\n",
       "\n",
       "    .dataframe thead th {\n",
       "        text-align: right;\n",
       "    }\n",
       "</style>\n",
       "<table border=\"1\" class=\"dataframe\">\n",
       "  <thead>\n",
       "    <tr style=\"text-align: right;\">\n",
       "      <th></th>\n",
       "      <th>Unnamed: 0</th>\n",
       "      <th>index</th>\n",
       "      <th>SK_ID_CURR</th>\n",
       "      <th>TARGET</th>\n",
       "      <th>CODE_GENDER</th>\n",
       "      <th>FLAG_OWN_CAR</th>\n",
       "      <th>FLAG_OWN_REALTY</th>\n",
       "      <th>CNT_CHILDREN</th>\n",
       "      <th>AMT_INCOME_TOTAL</th>\n",
       "      <th>AMT_CREDIT</th>\n",
       "      <th>...</th>\n",
       "      <th>CC_NAME_CONTRACT_STATUS_Signed_MAX</th>\n",
       "      <th>CC_NAME_CONTRACT_STATUS_Signed_MEAN</th>\n",
       "      <th>CC_NAME_CONTRACT_STATUS_Signed_SUM</th>\n",
       "      <th>CC_NAME_CONTRACT_STATUS_Signed_VAR</th>\n",
       "      <th>CC_NAME_CONTRACT_STATUS_nan_MIN</th>\n",
       "      <th>CC_NAME_CONTRACT_STATUS_nan_MAX</th>\n",
       "      <th>CC_NAME_CONTRACT_STATUS_nan_MEAN</th>\n",
       "      <th>CC_NAME_CONTRACT_STATUS_nan_SUM</th>\n",
       "      <th>CC_NAME_CONTRACT_STATUS_nan_VAR</th>\n",
       "      <th>CC_COUNT</th>\n",
       "    </tr>\n",
       "  </thead>\n",
       "  <tbody>\n",
       "    <tr>\n",
       "      <th>0</th>\n",
       "      <td>225602.0</td>\n",
       "      <td>225602.0</td>\n",
       "      <td>361312.0</td>\n",
       "      <td>0.0</td>\n",
       "      <td>1.0</td>\n",
       "      <td>0.0</td>\n",
       "      <td>1.0</td>\n",
       "      <td>0.0</td>\n",
       "      <td>157500.0</td>\n",
       "      <td>327024.0</td>\n",
       "      <td>...</td>\n",
       "      <td>0.0</td>\n",
       "      <td>0.0</td>\n",
       "      <td>0.0</td>\n",
       "      <td>0.0</td>\n",
       "      <td>0.0</td>\n",
       "      <td>0.0</td>\n",
       "      <td>0.0</td>\n",
       "      <td>0.0</td>\n",
       "      <td>0.0</td>\n",
       "      <td>0.0</td>\n",
       "    </tr>\n",
       "    <tr>\n",
       "      <th>1</th>\n",
       "      <td>199147.0</td>\n",
       "      <td>199147.0</td>\n",
       "      <td>330877.0</td>\n",
       "      <td>0.0</td>\n",
       "      <td>0.0</td>\n",
       "      <td>1.0</td>\n",
       "      <td>0.0</td>\n",
       "      <td>0.0</td>\n",
       "      <td>135000.0</td>\n",
       "      <td>552555.0</td>\n",
       "      <td>...</td>\n",
       "      <td>0.0</td>\n",
       "      <td>0.0</td>\n",
       "      <td>0.0</td>\n",
       "      <td>0.0</td>\n",
       "      <td>0.0</td>\n",
       "      <td>0.0</td>\n",
       "      <td>0.0</td>\n",
       "      <td>0.0</td>\n",
       "      <td>0.0</td>\n",
       "      <td>0.0</td>\n",
       "    </tr>\n",
       "    <tr>\n",
       "      <th>2</th>\n",
       "      <td>227344.0</td>\n",
       "      <td>227344.0</td>\n",
       "      <td>363335.0</td>\n",
       "      <td>0.0</td>\n",
       "      <td>1.0</td>\n",
       "      <td>0.0</td>\n",
       "      <td>0.0</td>\n",
       "      <td>0.0</td>\n",
       "      <td>112500.0</td>\n",
       "      <td>510102.0</td>\n",
       "      <td>...</td>\n",
       "      <td>0.0</td>\n",
       "      <td>0.0</td>\n",
       "      <td>0.0</td>\n",
       "      <td>0.0</td>\n",
       "      <td>0.0</td>\n",
       "      <td>0.0</td>\n",
       "      <td>0.0</td>\n",
       "      <td>0.0</td>\n",
       "      <td>0.0</td>\n",
       "      <td>0.0</td>\n",
       "    </tr>\n",
       "    <tr>\n",
       "      <th>3</th>\n",
       "      <td>44029.0</td>\n",
       "      <td>44029.0</td>\n",
       "      <td>150991.0</td>\n",
       "      <td>0.0</td>\n",
       "      <td>1.0</td>\n",
       "      <td>0.0</td>\n",
       "      <td>0.0</td>\n",
       "      <td>0.0</td>\n",
       "      <td>135000.0</td>\n",
       "      <td>585000.0</td>\n",
       "      <td>...</td>\n",
       "      <td>0.0</td>\n",
       "      <td>0.0</td>\n",
       "      <td>0.0</td>\n",
       "      <td>0.0</td>\n",
       "      <td>0.0</td>\n",
       "      <td>0.0</td>\n",
       "      <td>0.0</td>\n",
       "      <td>0.0</td>\n",
       "      <td>0.0</td>\n",
       "      <td>0.0</td>\n",
       "    </tr>\n",
       "    <tr>\n",
       "      <th>4</th>\n",
       "      <td>86877.0</td>\n",
       "      <td>86877.0</td>\n",
       "      <td>200831.0</td>\n",
       "      <td>0.0</td>\n",
       "      <td>1.0</td>\n",
       "      <td>1.0</td>\n",
       "      <td>0.0</td>\n",
       "      <td>0.0</td>\n",
       "      <td>135000.0</td>\n",
       "      <td>270000.0</td>\n",
       "      <td>...</td>\n",
       "      <td>0.0</td>\n",
       "      <td>0.0</td>\n",
       "      <td>0.0</td>\n",
       "      <td>0.0</td>\n",
       "      <td>0.0</td>\n",
       "      <td>0.0</td>\n",
       "      <td>0.0</td>\n",
       "      <td>0.0</td>\n",
       "      <td>0.0</td>\n",
       "      <td>0.0</td>\n",
       "    </tr>\n",
       "  </tbody>\n",
       "</table>\n",
       "<p>5 rows × 799 columns</p>\n",
       "</div>"
      ],
      "text/plain": [
       "   Unnamed: 0     index  SK_ID_CURR  TARGET  CODE_GENDER  FLAG_OWN_CAR  \\\n",
       "0    225602.0  225602.0    361312.0     0.0          1.0           0.0   \n",
       "1    199147.0  199147.0    330877.0     0.0          0.0           1.0   \n",
       "2    227344.0  227344.0    363335.0     0.0          1.0           0.0   \n",
       "3     44029.0   44029.0    150991.0     0.0          1.0           0.0   \n",
       "4     86877.0   86877.0    200831.0     0.0          1.0           1.0   \n",
       "\n",
       "   FLAG_OWN_REALTY  CNT_CHILDREN  AMT_INCOME_TOTAL  AMT_CREDIT  ...  \\\n",
       "0              1.0           0.0          157500.0    327024.0  ...   \n",
       "1              0.0           0.0          135000.0    552555.0  ...   \n",
       "2              0.0           0.0          112500.0    510102.0  ...   \n",
       "3              0.0           0.0          135000.0    585000.0  ...   \n",
       "4              0.0           0.0          135000.0    270000.0  ...   \n",
       "\n",
       "   CC_NAME_CONTRACT_STATUS_Signed_MAX  CC_NAME_CONTRACT_STATUS_Signed_MEAN  \\\n",
       "0                                 0.0                                  0.0   \n",
       "1                                 0.0                                  0.0   \n",
       "2                                 0.0                                  0.0   \n",
       "3                                 0.0                                  0.0   \n",
       "4                                 0.0                                  0.0   \n",
       "\n",
       "   CC_NAME_CONTRACT_STATUS_Signed_SUM  CC_NAME_CONTRACT_STATUS_Signed_VAR  \\\n",
       "0                                 0.0                                 0.0   \n",
       "1                                 0.0                                 0.0   \n",
       "2                                 0.0                                 0.0   \n",
       "3                                 0.0                                 0.0   \n",
       "4                                 0.0                                 0.0   \n",
       "\n",
       "   CC_NAME_CONTRACT_STATUS_nan_MIN  CC_NAME_CONTRACT_STATUS_nan_MAX  \\\n",
       "0                              0.0                              0.0   \n",
       "1                              0.0                              0.0   \n",
       "2                              0.0                              0.0   \n",
       "3                              0.0                              0.0   \n",
       "4                              0.0                              0.0   \n",
       "\n",
       "   CC_NAME_CONTRACT_STATUS_nan_MEAN  CC_NAME_CONTRACT_STATUS_nan_SUM  \\\n",
       "0                               0.0                              0.0   \n",
       "1                               0.0                              0.0   \n",
       "2                               0.0                              0.0   \n",
       "3                               0.0                              0.0   \n",
       "4                               0.0                              0.0   \n",
       "\n",
       "   CC_NAME_CONTRACT_STATUS_nan_VAR  CC_COUNT  \n",
       "0                              0.0       0.0  \n",
       "1                              0.0       0.0  \n",
       "2                              0.0       0.0  \n",
       "3                              0.0       0.0  \n",
       "4                              0.0       0.0  \n",
       "\n",
       "[5 rows x 799 columns]"
      ]
     },
     "execution_count": 12,
     "metadata": {},
     "output_type": "execute_result"
    }
   ],
   "source": [
    "df.head()"
   ]
  },
  {
   "cell_type": "markdown",
   "id": "176aafdb",
   "metadata": {},
   "source": [
    "#### Suppression de la colonne SK_ID_CURR qui sera réindexée à posteriori "
   ]
  },
  {
   "cell_type": "code",
   "execution_count": 15,
   "id": "f6d363d2",
   "metadata": {},
   "outputs": [
    {
     "ename": "KeyError",
     "evalue": "\"['SK_ID_CURR'] not found in axis\"",
     "output_type": "error",
     "traceback": [
      "\u001b[0;31m---------------------------------------------------------------------------\u001b[0m",
      "\u001b[0;31mKeyError\u001b[0m                                  Traceback (most recent call last)",
      "Cell \u001b[0;32mIn[15], line 1\u001b[0m\n\u001b[0;32m----> 1\u001b[0m df \u001b[38;5;241m=\u001b[39m \u001b[43mdf\u001b[49m\u001b[38;5;241;43m.\u001b[39;49m\u001b[43mdrop\u001b[49m\u001b[43m(\u001b[49m\u001b[38;5;124;43m\"\u001b[39;49m\u001b[38;5;124;43mSK_ID_CURR\u001b[39;49m\u001b[38;5;124;43m\"\u001b[39;49m\u001b[43m,\u001b[49m\u001b[43m \u001b[49m\u001b[43maxis\u001b[49m\u001b[38;5;241;43m=\u001b[39;49m\u001b[38;5;241;43m1\u001b[39;49m\u001b[43m)\u001b[49m\n",
      "File \u001b[0;32m/opt/anaconda3/lib/python3.9/site-packages/pandas/util/_decorators.py:331\u001b[0m, in \u001b[0;36mdeprecate_nonkeyword_arguments.<locals>.decorate.<locals>.wrapper\u001b[0;34m(*args, **kwargs)\u001b[0m\n\u001b[1;32m    325\u001b[0m \u001b[38;5;28;01mif\u001b[39;00m \u001b[38;5;28mlen\u001b[39m(args) \u001b[38;5;241m>\u001b[39m num_allow_args:\n\u001b[1;32m    326\u001b[0m     warnings\u001b[38;5;241m.\u001b[39mwarn(\n\u001b[1;32m    327\u001b[0m         msg\u001b[38;5;241m.\u001b[39mformat(arguments\u001b[38;5;241m=\u001b[39m_format_argument_list(allow_args)),\n\u001b[1;32m    328\u001b[0m         \u001b[38;5;167;01mFutureWarning\u001b[39;00m,\n\u001b[1;32m    329\u001b[0m         stacklevel\u001b[38;5;241m=\u001b[39mfind_stack_level(),\n\u001b[1;32m    330\u001b[0m     )\n\u001b[0;32m--> 331\u001b[0m \u001b[38;5;28;01mreturn\u001b[39;00m \u001b[43mfunc\u001b[49m\u001b[43m(\u001b[49m\u001b[38;5;241;43m*\u001b[39;49m\u001b[43margs\u001b[49m\u001b[43m,\u001b[49m\u001b[43m \u001b[49m\u001b[38;5;241;43m*\u001b[39;49m\u001b[38;5;241;43m*\u001b[39;49m\u001b[43mkwargs\u001b[49m\u001b[43m)\u001b[49m\n",
      "File \u001b[0;32m/opt/anaconda3/lib/python3.9/site-packages/pandas/core/frame.py:5399\u001b[0m, in \u001b[0;36mDataFrame.drop\u001b[0;34m(self, labels, axis, index, columns, level, inplace, errors)\u001b[0m\n\u001b[1;32m   5251\u001b[0m \u001b[38;5;129m@deprecate_nonkeyword_arguments\u001b[39m(version\u001b[38;5;241m=\u001b[39m\u001b[38;5;28;01mNone\u001b[39;00m, allowed_args\u001b[38;5;241m=\u001b[39m[\u001b[38;5;124m\"\u001b[39m\u001b[38;5;124mself\u001b[39m\u001b[38;5;124m\"\u001b[39m, \u001b[38;5;124m\"\u001b[39m\u001b[38;5;124mlabels\u001b[39m\u001b[38;5;124m\"\u001b[39m])\n\u001b[1;32m   5252\u001b[0m \u001b[38;5;28;01mdef\u001b[39;00m \u001b[38;5;21mdrop\u001b[39m(  \u001b[38;5;66;03m# type: ignore[override]\u001b[39;00m\n\u001b[1;32m   5253\u001b[0m     \u001b[38;5;28mself\u001b[39m,\n\u001b[0;32m   (...)\u001b[0m\n\u001b[1;32m   5260\u001b[0m     errors: IgnoreRaise \u001b[38;5;241m=\u001b[39m \u001b[38;5;124m\"\u001b[39m\u001b[38;5;124mraise\u001b[39m\u001b[38;5;124m\"\u001b[39m,\n\u001b[1;32m   5261\u001b[0m ) \u001b[38;5;241m-\u001b[39m\u001b[38;5;241m>\u001b[39m DataFrame \u001b[38;5;241m|\u001b[39m \u001b[38;5;28;01mNone\u001b[39;00m:\n\u001b[1;32m   5262\u001b[0m     \u001b[38;5;124;03m\"\"\"\u001b[39;00m\n\u001b[1;32m   5263\u001b[0m \u001b[38;5;124;03m    Drop specified labels from rows or columns.\u001b[39;00m\n\u001b[1;32m   5264\u001b[0m \n\u001b[0;32m   (...)\u001b[0m\n\u001b[1;32m   5397\u001b[0m \u001b[38;5;124;03m            weight  1.0     0.8\u001b[39;00m\n\u001b[1;32m   5398\u001b[0m \u001b[38;5;124;03m    \"\"\"\u001b[39;00m\n\u001b[0;32m-> 5399\u001b[0m     \u001b[38;5;28;01mreturn\u001b[39;00m \u001b[38;5;28;43msuper\u001b[39;49m\u001b[43m(\u001b[49m\u001b[43m)\u001b[49m\u001b[38;5;241;43m.\u001b[39;49m\u001b[43mdrop\u001b[49m\u001b[43m(\u001b[49m\n\u001b[1;32m   5400\u001b[0m \u001b[43m        \u001b[49m\u001b[43mlabels\u001b[49m\u001b[38;5;241;43m=\u001b[39;49m\u001b[43mlabels\u001b[49m\u001b[43m,\u001b[49m\n\u001b[1;32m   5401\u001b[0m \u001b[43m        \u001b[49m\u001b[43maxis\u001b[49m\u001b[38;5;241;43m=\u001b[39;49m\u001b[43maxis\u001b[49m\u001b[43m,\u001b[49m\n\u001b[1;32m   5402\u001b[0m \u001b[43m        \u001b[49m\u001b[43mindex\u001b[49m\u001b[38;5;241;43m=\u001b[39;49m\u001b[43mindex\u001b[49m\u001b[43m,\u001b[49m\n\u001b[1;32m   5403\u001b[0m \u001b[43m        \u001b[49m\u001b[43mcolumns\u001b[49m\u001b[38;5;241;43m=\u001b[39;49m\u001b[43mcolumns\u001b[49m\u001b[43m,\u001b[49m\n\u001b[1;32m   5404\u001b[0m \u001b[43m        \u001b[49m\u001b[43mlevel\u001b[49m\u001b[38;5;241;43m=\u001b[39;49m\u001b[43mlevel\u001b[49m\u001b[43m,\u001b[49m\n\u001b[1;32m   5405\u001b[0m \u001b[43m        \u001b[49m\u001b[43minplace\u001b[49m\u001b[38;5;241;43m=\u001b[39;49m\u001b[43minplace\u001b[49m\u001b[43m,\u001b[49m\n\u001b[1;32m   5406\u001b[0m \u001b[43m        \u001b[49m\u001b[43merrors\u001b[49m\u001b[38;5;241;43m=\u001b[39;49m\u001b[43merrors\u001b[49m\u001b[43m,\u001b[49m\n\u001b[1;32m   5407\u001b[0m \u001b[43m    \u001b[49m\u001b[43m)\u001b[49m\n",
      "File \u001b[0;32m/opt/anaconda3/lib/python3.9/site-packages/pandas/util/_decorators.py:331\u001b[0m, in \u001b[0;36mdeprecate_nonkeyword_arguments.<locals>.decorate.<locals>.wrapper\u001b[0;34m(*args, **kwargs)\u001b[0m\n\u001b[1;32m    325\u001b[0m \u001b[38;5;28;01mif\u001b[39;00m \u001b[38;5;28mlen\u001b[39m(args) \u001b[38;5;241m>\u001b[39m num_allow_args:\n\u001b[1;32m    326\u001b[0m     warnings\u001b[38;5;241m.\u001b[39mwarn(\n\u001b[1;32m    327\u001b[0m         msg\u001b[38;5;241m.\u001b[39mformat(arguments\u001b[38;5;241m=\u001b[39m_format_argument_list(allow_args)),\n\u001b[1;32m    328\u001b[0m         \u001b[38;5;167;01mFutureWarning\u001b[39;00m,\n\u001b[1;32m    329\u001b[0m         stacklevel\u001b[38;5;241m=\u001b[39mfind_stack_level(),\n\u001b[1;32m    330\u001b[0m     )\n\u001b[0;32m--> 331\u001b[0m \u001b[38;5;28;01mreturn\u001b[39;00m \u001b[43mfunc\u001b[49m\u001b[43m(\u001b[49m\u001b[38;5;241;43m*\u001b[39;49m\u001b[43margs\u001b[49m\u001b[43m,\u001b[49m\u001b[43m \u001b[49m\u001b[38;5;241;43m*\u001b[39;49m\u001b[38;5;241;43m*\u001b[39;49m\u001b[43mkwargs\u001b[49m\u001b[43m)\u001b[49m\n",
      "File \u001b[0;32m/opt/anaconda3/lib/python3.9/site-packages/pandas/core/generic.py:4505\u001b[0m, in \u001b[0;36mNDFrame.drop\u001b[0;34m(self, labels, axis, index, columns, level, inplace, errors)\u001b[0m\n\u001b[1;32m   4503\u001b[0m \u001b[38;5;28;01mfor\u001b[39;00m axis, labels \u001b[38;5;129;01min\u001b[39;00m axes\u001b[38;5;241m.\u001b[39mitems():\n\u001b[1;32m   4504\u001b[0m     \u001b[38;5;28;01mif\u001b[39;00m labels \u001b[38;5;129;01mis\u001b[39;00m \u001b[38;5;129;01mnot\u001b[39;00m \u001b[38;5;28;01mNone\u001b[39;00m:\n\u001b[0;32m-> 4505\u001b[0m         obj \u001b[38;5;241m=\u001b[39m \u001b[43mobj\u001b[49m\u001b[38;5;241;43m.\u001b[39;49m\u001b[43m_drop_axis\u001b[49m\u001b[43m(\u001b[49m\u001b[43mlabels\u001b[49m\u001b[43m,\u001b[49m\u001b[43m \u001b[49m\u001b[43maxis\u001b[49m\u001b[43m,\u001b[49m\u001b[43m \u001b[49m\u001b[43mlevel\u001b[49m\u001b[38;5;241;43m=\u001b[39;49m\u001b[43mlevel\u001b[49m\u001b[43m,\u001b[49m\u001b[43m \u001b[49m\u001b[43merrors\u001b[49m\u001b[38;5;241;43m=\u001b[39;49m\u001b[43merrors\u001b[49m\u001b[43m)\u001b[49m\n\u001b[1;32m   4507\u001b[0m \u001b[38;5;28;01mif\u001b[39;00m inplace:\n\u001b[1;32m   4508\u001b[0m     \u001b[38;5;28mself\u001b[39m\u001b[38;5;241m.\u001b[39m_update_inplace(obj)\n",
      "File \u001b[0;32m/opt/anaconda3/lib/python3.9/site-packages/pandas/core/generic.py:4546\u001b[0m, in \u001b[0;36mNDFrame._drop_axis\u001b[0;34m(self, labels, axis, level, errors, only_slice)\u001b[0m\n\u001b[1;32m   4544\u001b[0m         new_axis \u001b[38;5;241m=\u001b[39m axis\u001b[38;5;241m.\u001b[39mdrop(labels, level\u001b[38;5;241m=\u001b[39mlevel, errors\u001b[38;5;241m=\u001b[39merrors)\n\u001b[1;32m   4545\u001b[0m     \u001b[38;5;28;01melse\u001b[39;00m:\n\u001b[0;32m-> 4546\u001b[0m         new_axis \u001b[38;5;241m=\u001b[39m \u001b[43maxis\u001b[49m\u001b[38;5;241;43m.\u001b[39;49m\u001b[43mdrop\u001b[49m\u001b[43m(\u001b[49m\u001b[43mlabels\u001b[49m\u001b[43m,\u001b[49m\u001b[43m \u001b[49m\u001b[43merrors\u001b[49m\u001b[38;5;241;43m=\u001b[39;49m\u001b[43merrors\u001b[49m\u001b[43m)\u001b[49m\n\u001b[1;32m   4547\u001b[0m     indexer \u001b[38;5;241m=\u001b[39m axis\u001b[38;5;241m.\u001b[39mget_indexer(new_axis)\n\u001b[1;32m   4549\u001b[0m \u001b[38;5;66;03m# Case for non-unique axis\u001b[39;00m\n\u001b[1;32m   4550\u001b[0m \u001b[38;5;28;01melse\u001b[39;00m:\n",
      "File \u001b[0;32m/opt/anaconda3/lib/python3.9/site-packages/pandas/core/indexes/base.py:6934\u001b[0m, in \u001b[0;36mIndex.drop\u001b[0;34m(self, labels, errors)\u001b[0m\n\u001b[1;32m   6932\u001b[0m \u001b[38;5;28;01mif\u001b[39;00m mask\u001b[38;5;241m.\u001b[39many():\n\u001b[1;32m   6933\u001b[0m     \u001b[38;5;28;01mif\u001b[39;00m errors \u001b[38;5;241m!=\u001b[39m \u001b[38;5;124m\"\u001b[39m\u001b[38;5;124mignore\u001b[39m\u001b[38;5;124m\"\u001b[39m:\n\u001b[0;32m-> 6934\u001b[0m         \u001b[38;5;28;01mraise\u001b[39;00m \u001b[38;5;167;01mKeyError\u001b[39;00m(\u001b[38;5;124mf\u001b[39m\u001b[38;5;124m\"\u001b[39m\u001b[38;5;132;01m{\u001b[39;00m\u001b[38;5;28mlist\u001b[39m(labels[mask])\u001b[38;5;132;01m}\u001b[39;00m\u001b[38;5;124m not found in axis\u001b[39m\u001b[38;5;124m\"\u001b[39m)\n\u001b[1;32m   6935\u001b[0m     indexer \u001b[38;5;241m=\u001b[39m indexer[\u001b[38;5;241m~\u001b[39mmask]\n\u001b[1;32m   6936\u001b[0m \u001b[38;5;28;01mreturn\u001b[39;00m \u001b[38;5;28mself\u001b[39m\u001b[38;5;241m.\u001b[39mdelete(indexer)\n",
      "\u001b[0;31mKeyError\u001b[0m: \"['SK_ID_CURR'] not found in axis\""
     ]
    }
   ],
   "source": [
    "df = df.drop(\"SK_ID_CURR\", axis=1)"
   ]
  },
  {
   "cell_type": "markdown",
   "id": "b2796896",
   "metadata": {},
   "source": [
    "# Isolement des 20 premières colonnes ayant le plus fort taux de corrélation avec la colonne TARGET"
   ]
  },
  {
   "cell_type": "code",
   "execution_count": 16,
   "id": "9650b4ac",
   "metadata": {},
   "outputs": [],
   "source": [
    "target_corr = df.corrwith(df['TARGET']).sort_values(ascending=False)"
   ]
  },
  {
   "cell_type": "code",
   "execution_count": 17,
   "id": "c7cb1001",
   "metadata": {},
   "outputs": [
    {
     "name": "stdout",
     "output_type": "stream",
     "text": [
      "TARGET                                    1.000000\n",
      "CC_CNT_DRAWINGS_ATM_CURRENT_MEAN          0.079188\n",
      "BURO_DAYS_CREDIT_MEAN                     0.077039\n",
      "PREV_NAME_CONTRACT_STATUS_Refused_MEAN    0.075240\n",
      "REGION_RATING_CLIENT_W_CITY               0.063733\n",
      "                                            ...   \n",
      "PREV_PRODUCT_COMBINATION_nan_MEAN         0.014390\n",
      "PREV_NAME_CONTRACT_TYPE_XNA_MEAN          0.014390\n",
      "BURO_AMT_CREDIT_SUM_DEBT_SUM              0.014373\n",
      "PREV_CHANNEL_TYPE_AP+ (Cash loan)_MEAN    0.014358\n",
      "ACTIVE_CNT_CREDIT_PROLONG_SUM             0.014213\n",
      "Length: 200, dtype: float64\n"
     ]
    }
   ],
   "source": [
    "# Obtenir les 20 plus fortes corrélations\n",
    "top_corr = target_corr[:200]\n",
    "print(top_corr)"
   ]
  },
  {
   "cell_type": "markdown",
   "id": "f4c29f92",
   "metadata": {},
   "source": [
    "#### Création d'un Dataframe rassemblant les vingt plus fortes corrélations de la colonne TARGET"
   ]
  },
  {
   "cell_type": "code",
   "execution_count": 18,
   "id": "5a9d3d33",
   "metadata": {},
   "outputs": [
    {
     "data": {
      "text/html": [
       "<div>\n",
       "<style scoped>\n",
       "    .dataframe tbody tr th:only-of-type {\n",
       "        vertical-align: middle;\n",
       "    }\n",
       "\n",
       "    .dataframe tbody tr th {\n",
       "        vertical-align: top;\n",
       "    }\n",
       "\n",
       "    .dataframe thead th {\n",
       "        text-align: right;\n",
       "    }\n",
       "</style>\n",
       "<table border=\"1\" class=\"dataframe\">\n",
       "  <thead>\n",
       "    <tr style=\"text-align: right;\">\n",
       "      <th></th>\n",
       "      <th>TARGET</th>\n",
       "      <th>CC_CNT_DRAWINGS_ATM_CURRENT_MEAN</th>\n",
       "      <th>BURO_DAYS_CREDIT_MEAN</th>\n",
       "      <th>PREV_NAME_CONTRACT_STATUS_Refused_MEAN</th>\n",
       "      <th>REGION_RATING_CLIENT_W_CITY</th>\n",
       "      <th>DAYS_BIRTH</th>\n",
       "      <th>DAYS_LAST_PHONE_CHANGE</th>\n",
       "      <th>CC_CNT_DRAWINGS_ATM_CURRENT_VAR</th>\n",
       "      <th>CC_AMT_DRAWINGS_ATM_CURRENT_MEAN</th>\n",
       "      <th>REGION_RATING_CLIENT</th>\n",
       "      <th>...</th>\n",
       "      <th>AMT_REQ_CREDIT_BUREAU_DAY</th>\n",
       "      <th>PREV_DAYS_DECISION_MAX</th>\n",
       "      <th>CC_AMT_DRAWINGS_CURRENT_VAR</th>\n",
       "      <th>CC_AMT_PAYMENT_CURRENT_VAR</th>\n",
       "      <th>ORGANIZATION_TYPE_Industry: type 13</th>\n",
       "      <th>PREV_PRODUCT_COMBINATION_nan_MEAN</th>\n",
       "      <th>PREV_NAME_CONTRACT_TYPE_XNA_MEAN</th>\n",
       "      <th>BURO_AMT_CREDIT_SUM_DEBT_SUM</th>\n",
       "      <th>PREV_CHANNEL_TYPE_AP+ (Cash loan)_MEAN</th>\n",
       "      <th>ACTIVE_CNT_CREDIT_PROLONG_SUM</th>\n",
       "    </tr>\n",
       "  </thead>\n",
       "  <tbody>\n",
       "    <tr>\n",
       "      <th>0</th>\n",
       "      <td>0.0</td>\n",
       "      <td>0.0</td>\n",
       "      <td>-785.00</td>\n",
       "      <td>0.000000</td>\n",
       "      <td>2.0</td>\n",
       "      <td>-9965.0</td>\n",
       "      <td>0.0</td>\n",
       "      <td>0.0</td>\n",
       "      <td>0.0</td>\n",
       "      <td>2.0</td>\n",
       "      <td>...</td>\n",
       "      <td>0.0</td>\n",
       "      <td>-1681.0</td>\n",
       "      <td>0.0</td>\n",
       "      <td>0.0</td>\n",
       "      <td>0.0</td>\n",
       "      <td>0.0</td>\n",
       "      <td>0.0</td>\n",
       "      <td>0.0</td>\n",
       "      <td>0.0</td>\n",
       "      <td>0.0</td>\n",
       "    </tr>\n",
       "    <tr>\n",
       "      <th>1</th>\n",
       "      <td>0.0</td>\n",
       "      <td>0.0</td>\n",
       "      <td>-1336.25</td>\n",
       "      <td>0.666667</td>\n",
       "      <td>2.0</td>\n",
       "      <td>-16150.0</td>\n",
       "      <td>-2774.0</td>\n",
       "      <td>0.0</td>\n",
       "      <td>0.0</td>\n",
       "      <td>2.0</td>\n",
       "      <td>...</td>\n",
       "      <td>0.0</td>\n",
       "      <td>-454.0</td>\n",
       "      <td>0.0</td>\n",
       "      <td>0.0</td>\n",
       "      <td>0.0</td>\n",
       "      <td>0.0</td>\n",
       "      <td>0.0</td>\n",
       "      <td>601191.0</td>\n",
       "      <td>0.0</td>\n",
       "      <td>0.0</td>\n",
       "    </tr>\n",
       "    <tr>\n",
       "      <th>2</th>\n",
       "      <td>0.0</td>\n",
       "      <td>0.0</td>\n",
       "      <td>-1128.00</td>\n",
       "      <td>0.000000</td>\n",
       "      <td>2.0</td>\n",
       "      <td>-9705.0</td>\n",
       "      <td>0.0</td>\n",
       "      <td>0.0</td>\n",
       "      <td>0.0</td>\n",
       "      <td>2.0</td>\n",
       "      <td>...</td>\n",
       "      <td>0.0</td>\n",
       "      <td>-671.0</td>\n",
       "      <td>0.0</td>\n",
       "      <td>0.0</td>\n",
       "      <td>0.0</td>\n",
       "      <td>0.0</td>\n",
       "      <td>0.0</td>\n",
       "      <td>0.0</td>\n",
       "      <td>0.0</td>\n",
       "      <td>0.0</td>\n",
       "    </tr>\n",
       "    <tr>\n",
       "      <th>3</th>\n",
       "      <td>0.0</td>\n",
       "      <td>0.0</td>\n",
       "      <td>0.00</td>\n",
       "      <td>0.000000</td>\n",
       "      <td>2.0</td>\n",
       "      <td>-13100.0</td>\n",
       "      <td>-599.0</td>\n",
       "      <td>0.0</td>\n",
       "      <td>0.0</td>\n",
       "      <td>2.0</td>\n",
       "      <td>...</td>\n",
       "      <td>0.0</td>\n",
       "      <td>0.0</td>\n",
       "      <td>0.0</td>\n",
       "      <td>0.0</td>\n",
       "      <td>0.0</td>\n",
       "      <td>0.0</td>\n",
       "      <td>0.0</td>\n",
       "      <td>0.0</td>\n",
       "      <td>0.0</td>\n",
       "      <td>0.0</td>\n",
       "    </tr>\n",
       "    <tr>\n",
       "      <th>4</th>\n",
       "      <td>0.0</td>\n",
       "      <td>0.0</td>\n",
       "      <td>-1359.40</td>\n",
       "      <td>0.000000</td>\n",
       "      <td>2.0</td>\n",
       "      <td>-19097.0</td>\n",
       "      <td>-918.0</td>\n",
       "      <td>0.0</td>\n",
       "      <td>0.0</td>\n",
       "      <td>2.0</td>\n",
       "      <td>...</td>\n",
       "      <td>0.0</td>\n",
       "      <td>-918.0</td>\n",
       "      <td>0.0</td>\n",
       "      <td>0.0</td>\n",
       "      <td>0.0</td>\n",
       "      <td>0.0</td>\n",
       "      <td>0.0</td>\n",
       "      <td>905170.5</td>\n",
       "      <td>1.0</td>\n",
       "      <td>0.0</td>\n",
       "    </tr>\n",
       "  </tbody>\n",
       "</table>\n",
       "<p>5 rows × 200 columns</p>\n",
       "</div>"
      ],
      "text/plain": [
       "   TARGET  CC_CNT_DRAWINGS_ATM_CURRENT_MEAN  BURO_DAYS_CREDIT_MEAN  \\\n",
       "0     0.0                               0.0                -785.00   \n",
       "1     0.0                               0.0               -1336.25   \n",
       "2     0.0                               0.0               -1128.00   \n",
       "3     0.0                               0.0                   0.00   \n",
       "4     0.0                               0.0               -1359.40   \n",
       "\n",
       "   PREV_NAME_CONTRACT_STATUS_Refused_MEAN  REGION_RATING_CLIENT_W_CITY  \\\n",
       "0                                0.000000                          2.0   \n",
       "1                                0.666667                          2.0   \n",
       "2                                0.000000                          2.0   \n",
       "3                                0.000000                          2.0   \n",
       "4                                0.000000                          2.0   \n",
       "\n",
       "   DAYS_BIRTH  DAYS_LAST_PHONE_CHANGE  CC_CNT_DRAWINGS_ATM_CURRENT_VAR  \\\n",
       "0     -9965.0                     0.0                              0.0   \n",
       "1    -16150.0                 -2774.0                              0.0   \n",
       "2     -9705.0                     0.0                              0.0   \n",
       "3    -13100.0                  -599.0                              0.0   \n",
       "4    -19097.0                  -918.0                              0.0   \n",
       "\n",
       "   CC_AMT_DRAWINGS_ATM_CURRENT_MEAN  REGION_RATING_CLIENT  ...  \\\n",
       "0                               0.0                   2.0  ...   \n",
       "1                               0.0                   2.0  ...   \n",
       "2                               0.0                   2.0  ...   \n",
       "3                               0.0                   2.0  ...   \n",
       "4                               0.0                   2.0  ...   \n",
       "\n",
       "   AMT_REQ_CREDIT_BUREAU_DAY  PREV_DAYS_DECISION_MAX  \\\n",
       "0                        0.0                 -1681.0   \n",
       "1                        0.0                  -454.0   \n",
       "2                        0.0                  -671.0   \n",
       "3                        0.0                     0.0   \n",
       "4                        0.0                  -918.0   \n",
       "\n",
       "   CC_AMT_DRAWINGS_CURRENT_VAR  CC_AMT_PAYMENT_CURRENT_VAR  \\\n",
       "0                          0.0                         0.0   \n",
       "1                          0.0                         0.0   \n",
       "2                          0.0                         0.0   \n",
       "3                          0.0                         0.0   \n",
       "4                          0.0                         0.0   \n",
       "\n",
       "   ORGANIZATION_TYPE_Industry: type 13  PREV_PRODUCT_COMBINATION_nan_MEAN  \\\n",
       "0                                  0.0                                0.0   \n",
       "1                                  0.0                                0.0   \n",
       "2                                  0.0                                0.0   \n",
       "3                                  0.0                                0.0   \n",
       "4                                  0.0                                0.0   \n",
       "\n",
       "   PREV_NAME_CONTRACT_TYPE_XNA_MEAN  BURO_AMT_CREDIT_SUM_DEBT_SUM  \\\n",
       "0                               0.0                           0.0   \n",
       "1                               0.0                      601191.0   \n",
       "2                               0.0                           0.0   \n",
       "3                               0.0                           0.0   \n",
       "4                               0.0                      905170.5   \n",
       "\n",
       "   PREV_CHANNEL_TYPE_AP+ (Cash loan)_MEAN  ACTIVE_CNT_CREDIT_PROLONG_SUM  \n",
       "0                                     0.0                            0.0  \n",
       "1                                     0.0                            0.0  \n",
       "2                                     0.0                            0.0  \n",
       "3                                     0.0                            0.0  \n",
       "4                                     1.0                            0.0  \n",
       "\n",
       "[5 rows x 200 columns]"
      ]
     },
     "execution_count": 18,
     "metadata": {},
     "output_type": "execute_result"
    }
   ],
   "source": [
    "top_corr_cols = target_corr[:200].index.tolist()\n",
    "df = df[top_corr_cols]\n",
    "df.head()"
   ]
  },
  {
   "cell_type": "code",
   "execution_count": 19,
   "id": "2591f1a5",
   "metadata": {},
   "outputs": [
    {
     "name": "stdout",
     "output_type": "stream",
     "text": [
      "['TARGET', 'CC_CNT_DRAWINGS_ATM_CURRENT_MEAN', 'BURO_DAYS_CREDIT_MEAN', 'PREV_NAME_CONTRACT_STATUS_Refused_MEAN', 'REGION_RATING_CLIENT_W_CITY', 'DAYS_BIRTH', 'DAYS_LAST_PHONE_CHANGE', 'CC_CNT_DRAWINGS_ATM_CURRENT_VAR', 'CC_AMT_DRAWINGS_ATM_CURRENT_MEAN', 'REGION_RATING_CLIENT', 'NAME_INCOME_TYPE_Working', 'BURO_DAYS_CREDIT_MAX', 'BURO_DAYS_CREDIT_MIN', 'CLOSED_DAYS_CREDIT_MEAN', 'BURO_DAYS_CREDIT_UPDATE_MEAN', 'BURO_MONTHS_BALANCE_MIN_MIN', 'CLOSED_MONTHS_BALANCE_MIN_MIN', 'DAYS_REGISTRATION', 'CLOSED_DAYS_CREDIT_MIN', 'DAYS_ID_PUBLISH', 'CC_CNT_DRAWINGS_ATM_CURRENT_MAX', 'CC_CNT_DRAWINGS_ATM_CURRENT_MIN', 'FLAG_DOCUMENT_3', 'PREV_CODE_REJECT_REASON_LIMIT_MEAN', 'PREV_NAME_YIELD_GROUP_XNA_MEAN', 'REFUSED_HOUR_APPR_PROCESS_START_MAX', 'PREV_NAME_TYPE_SUITE_nan_MEAN', 'PREV_NAME_PRODUCT_TYPE_walk-in_MEAN', 'CC_CNT_DRAWINGS_CURRENT_MIN', 'REFUSED_HOUR_APPR_PROCESS_START_MEAN', 'PREV_CODE_REJECT_REASON_SCOFR_MEAN', 'ACTIVE_DAYS_CREDIT_MAX', 'CLOSED_DAYS_CREDIT_MAX', 'CLOSED_DAYS_CREDIT_UPDATE_MEAN', 'PREV_CODE_REJECT_REASON_HC_MEAN', 'REFUSED_CNT_PAYMENT_SUM', 'REFUSED_CNT_PAYMENT_MEAN', 'index', 'ACTIVE_DAYS_CREDIT_ENDDATE_MAX', 'NAME_EDUCATION_TYPE_Secondary / secondary special', 'FLAG_EMP_PHONE', 'REFUSED_HOUR_APPR_PROCESS_START_MIN', 'ACTIVE_DAYS_CREDIT_MEAN', 'CC_AMT_DRAWINGS_ATM_CURRENT_MIN', 'REFUSED_AMT_ANNUITY_MAX', 'CC_AMT_DRAWINGS_ATM_CURRENT_VAR', 'ACTIVE_MONTHS_BALANCE_MIN_MIN', 'OCCUPATION_TYPE_Laborers', 'NAME_INCOME_TYPE_Unemployed', 'CC_AMT_BALANCE_MIN', 'CC_AMT_BALANCE_MEAN', 'CLOSED_AMT_CREDIT_SUM_OVERDUE_MEAN', 'PREV_NAME_SELLER_INDUSTRY_Connectivity_MEAN', 'CC_AMT_RECEIVABLE_PRINCIPAL_MIN', 'CC_AMT_RECEIVABLE_PRINCIPAL_MEAN', 'CC_AMT_TOTAL_RECEIVABLE_MIN', 'CC_AMT_RECIVABLE_MIN', 'CC_AMT_TOTAL_RECEIVABLE_MEAN', 'CC_AMT_RECIVABLE_MEAN', 'REFUSED_AMT_CREDIT_MAX', 'REG_CITY_NOT_WORK_CITY', 'PREV_NAME_PORTFOLIO_XNA_MEAN', 'BURO_CREDIT_ACTIVE_Active_MEAN', 'CC_CNT_DRAWINGS_CURRENT_MAX', 'REFUSED_AMT_ANNUITY_MEAN', 'PREV_NAME_CONTRACT_TYPE_Revolving loans_MEAN', 'PREV_NAME_YIELD_GROUP_high_MEAN', 'PREV_NAME_GOODS_CATEGORY_XNA_MEAN', 'REFUSED_APP_CREDIT_PERC_MAX', 'CLOSED_DAYS_CREDIT_ENDDATE_MIN', 'DAYS_EMPLOYED', 'CC_AMT_BALANCE_MAX', 'PREV_NAME_PAYMENT_TYPE_XNA_MEAN', 'CC_AMT_TOTAL_RECEIVABLE_MAX', 'CC_AMT_RECIVABLE_MAX', 'CC_AMT_DRAWINGS_CURRENT_MEAN', 'CC_AMT_RECEIVABLE_PRINCIPAL_MAX', 'PREV_NAME_PORTFOLIO_Cards_MEAN', 'PREV_PRODUCT_COMBINATION_Card Street_MEAN', 'INSTAL_DAYS_ENTRY_PAYMENT_SUM', 'NAME_FAMILY_STATUS_Civil marriage', 'PREV_PRODUCT_COMBINATION_Cash Street: middle_MEAN', 'BURO_DAYS_CREDIT_ENDDATE_MEAN', 'ORGANIZATION_TYPE_Self-employed', 'REFUSED_APP_CREDIT_PERC_MEAN', 'PREV_CODE_REJECT_REASON_XNA_MEAN', 'ORGANIZATION_TYPE_Industry: type 11', 'PREV_PRODUCT_COMBINATION_Cash X-Sell: high_MEAN', 'APPROVED_DAYS_DECISION_MIN', 'REFUSED_AMT_APPLICATION_MAX', 'REFUSED_AMT_GOODS_PRICE_MAX', 'CC_CNT_DRAWINGS_CURRENT_MEAN', 'BURO_DAYS_CREDIT_ENDDATE_MAX', 'ACTIVE_AMT_CREDIT_MAX_OVERDUE_MEAN', 'NAME_CONTRACT_TYPE_Cash loans', 'PREV_NAME_CASH_LOAN_PURPOSE_Car repairs_MEAN', 'PREV_DAYS_DECISION_MIN', 'INSTAL_DPD_MEAN', 'BURO_STATUS_1_MEAN_MEAN', 'NAME_FAMILY_STATUS_Single / not married', 'CC_AMT_INST_MIN_REGULARITY_MAX', 'CC_AMT_DRAWINGS_ATM_CURRENT_MAX', 'REFUSED_AMT_ANNUITY_MIN', 'ORGANIZATION_TYPE_Agriculture', 'PREV_CNT_PAYMENT_SUM', 'PREV_CNT_PAYMENT_MEAN', 'LIVE_CITY_NOT_WORK_CITY', 'CC_AMT_INST_MIN_REGULARITY_MEAN', 'CC_AMT_DRAWINGS_CURRENT_MIN', 'REFUSED_APP_CREDIT_PERC_MIN', 'PREV_DAYS_DECISION_MEAN', 'CC_AMT_DRAWINGS_CURRENT_MAX', 'INSTAL_PAYMENT_DIFF_MEAN', 'INSTAL_DPD_MAX', 'ORGANIZATION_TYPE_Restaurant', 'CC_MONTHS_BALANCE_SUM', 'ANNUITY_INCOME_PERC', 'DEF_30_CNT_SOCIAL_CIRCLE', 'PREV_NAME_SELLER_INDUSTRY_XNA_MEAN', 'ACTIVE_DAYS_CREDIT_MIN', 'OCCUPATION_TYPE_Low-skill Laborers', 'OCCUPATION_TYPE_Cooking staff', 'OCCUPATION_TYPE_Sales staff', 'BURO_CNT_CREDIT_PROLONG_SUM', 'CNT_CHILDREN', 'FLAG_DOCUMENT_21', 'NAME_HOUSING_TYPE_With parents', 'REFUSED_AMT_CREDIT_MEAN', 'CC_CNT_DRAWINGS_POS_CURRENT_MAX', 'ORGANIZATION_TYPE_Transport: type 3', 'BURO_DAYS_CREDIT_ENDDATE_MIN', 'CLOSED_CNT_CREDIT_PROLONG_SUM', 'PREV_WEEKDAY_APPR_PROCESS_START_MONDAY_MEAN', 'CC_CNT_DRAWINGS_ATM_CURRENT_SUM', 'CC_AMT_BALANCE_VAR', 'REFUSED_AMT_GOODS_PRICE_MEAN', 'POS_NAME_CONTRACT_STATUS_Approved_MEAN', 'CC_AMT_TOTAL_RECEIVABLE_VAR', 'CC_AMT_RECIVABLE_VAR', 'CC_AMT_INST_MIN_REGULARITY_VAR', 'PREV_FLAG_LAST_APPL_PER_CONTRACT_Y_MEAN', 'CC_AMT_RECEIVABLE_PRINCIPAL_VAR', 'INSTAL_DAYS_ENTRY_PAYMENT_MEAN', 'NAME_HOUSING_TYPE_Rented apartment', 'FLAG_WORK_PHONE', 'CC_MONTHS_BALANCE_MIN', 'PREV_PRODUCT_COMBINATION_Cash_MEAN', 'PREV_NAME_CASH_LOAN_PURPOSE_Urgent needs_MEAN', 'ORGANIZATION_TYPE_Mobile', 'CC_MONTHS_BALANCE_MEAN', 'ACTIVE_DAYS_CREDIT_UPDATE_MEAN', 'PREV_NAME_CASH_LOAN_PURPOSE_Everyday expenses_MEAN', 'ACTIVE_DAYS_CREDIT_ENDDATE_MEAN', 'PREV_NAME_CLIENT_TYPE_New_MEAN', 'PREV_NAME_CASH_LOAN_PURPOSE_Medicine_MEAN', 'PREV_CODE_REJECT_REASON_SCO_MEAN', 'BURO_CREDIT_TYPE_Loan for business development_MEAN', 'PREV_PRODUCT_COMBINATION_POS mobile with interest_MEAN', 'PREV_NAME_GOODS_CATEGORY_Mobile_MEAN', 'APPROVED_DAYS_DECISION_MEAN', 'PREV_CHANNEL_TYPE_Contact center_MEAN', 'OCCUPATION_TYPE_Drivers', 'INSTAL_PAYMENT_DIFF_SUM', 'PREV_NAME_CLIENT_TYPE_XNA_MEAN', 'REFUSED_AMT_APPLICATION_MEAN', 'ORGANIZATION_TYPE_Religion', 'PREV_CHANNEL_TYPE_Credit and cash offices_MEAN', 'CC_CNT_DRAWINGS_POS_CURRENT_MIN', 'PREV_NAME_CONTRACT_TYPE_Cash loans_MEAN', 'PREV_NAME_CONTRACT_STATUS_Unused offer_MEAN', 'PREV_CODE_REJECT_REASON_CLIENT_MEAN', 'WEEKDAY_APPR_PROCESS_START_TUESDAY', 'NAME_EDUCATION_TYPE_Incomplete higher', 'DEF_60_CNT_SOCIAL_CIRCLE', 'BURO_AMT_CREDIT_SUM_OVERDUE_MEAN', 'ORGANIZATION_TYPE_Other', 'POS_MONTHS_BALANCE_MEAN', 'PREV_WEEKDAY_APPR_PROCESS_START_WEDNESDAY_MEAN', 'PREV_NAME_CASH_LOAN_PURPOSE_Education_MEAN', 'CC_CNT_DRAWINGS_POS_CURRENT_MEAN', 'CLOSED_DAYS_CREDIT_ENDDATE_MEAN', 'CC_AMT_PAYMENT_CURRENT_MAX', 'REG_CITY_NOT_LIVE_CITY', 'PREV_NAME_CASH_LOAN_PURPOSE_Repairs_MEAN', 'INSTAL_DPD_SUM', 'CC_AMT_PAYMENT_TOTAL_CURRENT_MAX', 'PREV_PRODUCT_COMBINATION_Card X-Sell_MEAN', 'PREV_NAME_CASH_LOAN_PURPOSE_Business development_MEAN', 'HOUSETYPE_MODE_specific housing', 'APPROVED_CNT_PAYMENT_MEAN', 'AMT_REQ_CREDIT_BUREAU_DAY', 'PREV_DAYS_DECISION_MAX', 'CC_AMT_DRAWINGS_CURRENT_VAR', 'CC_AMT_PAYMENT_CURRENT_VAR', 'ORGANIZATION_TYPE_Industry: type 13', 'PREV_PRODUCT_COMBINATION_nan_MEAN', 'PREV_NAME_CONTRACT_TYPE_XNA_MEAN', 'BURO_AMT_CREDIT_SUM_DEBT_SUM', 'PREV_CHANNEL_TYPE_AP+ (Cash loan)_MEAN', 'ACTIVE_CNT_CREDIT_PROLONG_SUM']\n"
     ]
    }
   ],
   "source": [
    "print (top_corr_cols)"
   ]
  },
  {
   "cell_type": "markdown",
   "id": "eba3ed32",
   "metadata": {},
   "source": [
    "#### Transformation des valeurs de la colonne TARGET en valeurs intégrales"
   ]
  },
  {
   "cell_type": "code",
   "execution_count": 20,
   "id": "560f7f1b",
   "metadata": {},
   "outputs": [
    {
     "name": "stderr",
     "output_type": "stream",
     "text": [
      "/var/folders/zg/qdlwk4_d4p5b995v37yqmgg40000gn/T/ipykernel_1497/3997381858.py:1: SettingWithCopyWarning: \n",
      "A value is trying to be set on a copy of a slice from a DataFrame.\n",
      "Try using .loc[row_indexer,col_indexer] = value instead\n",
      "\n",
      "See the caveats in the documentation: https://pandas.pydata.org/pandas-docs/stable/user_guide/indexing.html#returning-a-view-versus-a-copy\n",
      "  df['TARGET'] = df['TARGET'].astype(int)\n"
     ]
    },
    {
     "data": {
      "text/plain": [
       "array([0, 1])"
      ]
     },
     "execution_count": 20,
     "metadata": {},
     "output_type": "execute_result"
    }
   ],
   "source": [
    "df['TARGET'] = df['TARGET'].astype(int)\n",
    "df['TARGET'].unique()"
   ]
  },
  {
   "cell_type": "code",
   "execution_count": 21,
   "id": "4eed6245",
   "metadata": {},
   "outputs": [
    {
     "data": {
      "text/plain": [
       "(10000, 200)"
      ]
     },
     "execution_count": 21,
     "metadata": {},
     "output_type": "execute_result"
    }
   ],
   "source": [
    "df.shape"
   ]
  },
  {
   "cell_type": "code",
   "execution_count": 22,
   "id": "05d05181",
   "metadata": {},
   "outputs": [
    {
     "data": {
      "image/png": "[encoded data removed]",
      "text/plain": [
       "<Figure size 640x480 with 1 Axes>"
      ]
     },
     "metadata": {},
     "output_type": "display_data"
    }
   ],
   "source": [
    "plt.boxplot(df[\"BURO_DAYS_CREDIT_MEAN\"])\n",
    "plt.show()"
   ]
  },
  {
   "cell_type": "code",
   "execution_count": 23,
   "id": "095fea63",
   "metadata": {},
   "outputs": [
    {
     "data": {
      "image/png": "[encoded data removed]",
      "text/plain": [
       "<Figure size 640x480 with 1 Axes>"
      ]
     },
     "metadata": {},
     "output_type": "display_data"
    }
   ],
   "source": [
    "plt.boxplot(df[\"DAYS_BIRTH\"])\n",
    "plt.show()"
   ]
  },
  {
   "cell_type": "code",
   "execution_count": 24,
   "id": "b453ec90",
   "metadata": {},
   "outputs": [
    {
     "data": {
      "image/png": "[encoded data removed]",
      "text/plain": [
       "<Figure size 640x480 with 1 Axes>"
      ]
     },
     "metadata": {},
     "output_type": "display_data"
    }
   ],
   "source": [
    "plt.boxplot(df[\"PREV_NAME_CONTRACT_STATUS_Refused_MEAN\"])\n",
    "plt.show()"
   ]
  },
  {
   "cell_type": "code",
   "execution_count": 25,
   "id": "9038a338",
   "metadata": {},
   "outputs": [],
   "source": [
    "#plt.boxplot(df[\"BURO_DAYS_CREDIT_MIN\"])\n",
    "#plt.show()"
   ]
  },
  {
   "cell_type": "markdown",
   "id": "7b162031",
   "metadata": {},
   "source": [
    "# Séparation des données"
   ]
  },
  {
   "cell_type": "code",
   "execution_count": 26,
   "id": "8b0d8f3d",
   "metadata": {},
   "outputs": [],
   "source": [
    "# Extraction de la variable cible TARGET\n",
    "y = df.iloc[:, 0]\n",
    "\n",
    "# Extraction des variables explicatives\n",
    "X = df.iloc[:, 1:] \n",
    "\n",
    "# Stigmatisation des données en ensemble d'entraînement et ensemble de test\n",
    "X_train, X_test, y_train, y_test = train_test_split(X, y, test_size=0.2, random_state=42)"
   ]
  },
  {
   "cell_type": "markdown",
   "id": "42e0f948",
   "metadata": {},
   "source": [
    "#### Dimension des ensembles de données"
   ]
  },
  {
   "cell_type": "code",
   "execution_count": 27,
   "id": "95a6d184",
   "metadata": {},
   "outputs": [
    {
     "name": "stdout",
     "output_type": "stream",
     "text": [
      "Taille de X_train : (8000, 199)\n",
      "Taille de X_test : (2000, 199)\n",
      "Taille de y_train : (8000,)\n",
      "Taille de y_test : (2000,)\n"
     ]
    }
   ],
   "source": [
    "print(\"Taille de X_train :\", X_train.shape)\n",
    "print(\"Taille de X_test :\", X_test.shape)\n",
    "print(\"Taille de y_train :\", y_train.shape)\n",
    "print(\"Taille de y_test :\", y_test.shape)"
   ]
  },
  {
   "cell_type": "markdown",
   "id": "8d3d0d38",
   "metadata": {},
   "source": [
    "# Egalisation des labels 1 et 0 de la TARGET"
   ]
  },
  {
   "cell_type": "code",
   "execution_count": 28,
   "id": "ba3a1af7",
   "metadata": {},
   "outputs": [
    {
     "name": "stdout",
     "output_type": "stream",
     "text": [
      "Label 1, Avant utilisation RandomUnderSampling: 539 \n",
      "Label 0, Après utilisation RandomUnderSampling: 7461 \n"
     ]
    }
   ],
   "source": [
    "print(\"Label 1, Avant utilisation RandomUnderSampling: {} \".format(sum(y_train==1)))\n",
    "print(\"Label 0, Après utilisation RandomUnderSampling: {} \".format(sum(y_train==0)))"
   ]
  },
  {
   "cell_type": "code",
   "execution_count": 29,
   "id": "d3f70fd1",
   "metadata": {},
   "outputs": [],
   "source": [
    "# Sous-échantillonnage aléatoire pour équilibrer les classes\n",
    "rus = RandomUnderSampler(random_state=42)\n",
    "X_train_resampled, y_train_resampled = rus.fit_resample(X_train, y_train)"
   ]
  },
  {
   "cell_type": "code",
   "execution_count": 30,
   "id": "541dd799",
   "metadata": {},
   "outputs": [
    {
     "name": "stdout",
     "output_type": "stream",
     "text": [
      "Avant RandomUnderSampling :\n",
      "0    7461\n",
      "1     539\n",
      "Name: TARGET, dtype: int64\n",
      "\n",
      "Après RandomUnderSampling :\n",
      "0    539\n",
      "1    539\n",
      "Name: TARGET, dtype: int64\n"
     ]
    }
   ],
   "source": [
    "# Affichage du nombre d'échantillons dans chaque classe avant et après RandomUnderSampling\n",
    "print(\"Avant RandomUnderSampling :\")\n",
    "print(y_train.value_counts())\n",
    "print(\"\\nAprès RandomUnderSampling :\")\n",
    "print(y_train_resampled.value_counts())"
   ]
  },
  {
   "cell_type": "code",
   "execution_count": 31,
   "id": "24ca8e10",
   "metadata": {},
   "outputs": [],
   "source": [
    "X_train=X_train_resampled\n",
    "y_train=y_train_resampled"
   ]
  },
  {
   "cell_type": "markdown",
   "id": "c1c90190",
   "metadata": {},
   "source": [
    "#### Dimensions des ensembles X_train et y_train"
   ]
  },
  {
   "cell_type": "code",
   "execution_count": 32,
   "id": "2808aea5",
   "metadata": {},
   "outputs": [
    {
     "data": {
      "text/plain": [
       "(1078, 199)"
      ]
     },
     "execution_count": 32,
     "metadata": {},
     "output_type": "execute_result"
    }
   ],
   "source": [
    "X_train.shape"
   ]
  },
  {
   "cell_type": "code",
   "execution_count": 33,
   "id": "fe218298",
   "metadata": {},
   "outputs": [
    {
     "data": {
      "text/plain": [
       "(1078,)"
      ]
     },
     "execution_count": 33,
     "metadata": {},
     "output_type": "execute_result"
    }
   ],
   "source": [
    "y_train.shape"
   ]
  },
  {
   "cell_type": "markdown",
   "id": "6210f293",
   "metadata": {},
   "source": [
    "# Préprocessing des données"
   ]
  },
  {
   "cell_type": "markdown",
   "id": "e776b31d",
   "metadata": {},
   "source": [
    "#### Phase de standardisation des variables X_train et X_test"
   ]
  },
  {
   "cell_type": "code",
   "execution_count": 34,
   "id": "12fadbc8",
   "metadata": {},
   "outputs": [],
   "source": [
    "scaler = preprocessing.StandardScaler()\n",
    "X_train_scaled = scaler.fit_transform(X_train)\n",
    "X_test_scaled = scaler.transform(X_test)"
   ]
  },
  {
   "cell_type": "markdown",
   "id": "47261ca6",
   "metadata": {},
   "source": [
    "# Application d'une régression logistique"
   ]
  },
  {
   "cell_type": "code",
   "execution_count": 35,
   "id": "e8271e00",
   "metadata": {},
   "outputs": [
    {
     "name": "stderr",
     "output_type": "stream",
     "text": [
      "/opt/anaconda3/lib/python3.9/site-packages/sklearn/linear_model/_logistic.py:444: ConvergenceWarning: lbfgs failed to converge (status=1):\n",
      "STOP: TOTAL NO. of ITERATIONS REACHED LIMIT.\n",
      "\n",
      "Increase the number of iterations (max_iter) or scale the data as shown in:\n",
      "    https://scikit-learn.org/stable/modules/preprocessing.html\n",
      "Please also refer to the documentation for alternative solver options:\n",
      "    https://scikit-learn.org/stable/modules/linear_model.html#logistic-regression\n",
      "  n_iter_i = _check_optimize_result(\n",
      "2023/05/06 10:33:02 WARNING mlflow.utils.autologging_utils: MLflow autologging encountered a warning: \"/opt/anaconda3/lib/python3.9/site-packages/_distutils_hack/__init__.py:33: UserWarning: Setuptools is replacing distutils.\"\n"
     ]
    },
    {
     "name": "stdout",
     "output_type": "stream",
     "text": [
      "Accuracy :  0.6505\n"
     ]
    }
   ],
   "source": [
    "lr = LogisticRegression()\n",
    "\n",
    "# Entraînement du classifieur sur les données d'entraînement\n",
    "with mlflow.start_run() as run:\n",
    "    lr.fit(X_train_scaled, y_train)\n",
    "data = MlflowClient().get_run(run.info.run_id).data\n",
    "\n",
    "\n",
    "# Prédictions sur les données de test\n",
    "y_pred = lr.predict(X_test_scaled)\n",
    "\n",
    "# Calcul de l'accuracy des prédictions\n",
    "accuracy_lr = accuracy_score(y_test, y_pred)\n",
    "print(\"Accuracy : \", accuracy_lr)"
   ]
  },
  {
   "cell_type": "code",
   "execution_count": null,
   "id": "bb0253bd",
   "metadata": {},
   "outputs": [],
   "source": []
  },
  {
   "cell_type": "code",
   "execution_count": 108,
   "id": "171f8aca",
   "metadata": {},
   "outputs": [
    {
     "name": "stdout",
     "output_type": "stream",
     "text": [
      "Régression logistique - Précision : 0.11, Rappel : 0.60, F1-score : 0.18\n"
     ]
    }
   ],
   "source": [
    "# Calcul des scores pour la régression logistique\n",
    "y_pred = lr.predict(X_test_scaled)\n",
    "precision_logreg, recall_logreg, f1_score_logreg, _ = precision_recall_fscore_support(y_test, y_pred, average='binary')\n",
    "print(\"Régression logistique - Précision : {:.2f}, Rappel : {:.2f}, F1-score : {:.2f}\".format(precision_logreg, recall_logreg, f1_score_logreg))"
   ]
  },
  {
   "cell_type": "markdown",
   "id": "cb7620da",
   "metadata": {},
   "source": [
    "#### Validation croisée"
   ]
  },
  {
   "cell_type": "code",
   "execution_count": 109,
   "id": "aad1931e",
   "metadata": {},
   "outputs": [
    {
     "name": "stderr",
     "output_type": "stream",
     "text": [
      "/opt/anaconda3/lib/python3.9/site-packages/sklearn/linear_model/_logistic.py:458: ConvergenceWarning: lbfgs failed to converge (status=1):\n",
      "STOP: TOTAL NO. of ITERATIONS REACHED LIMIT.\n",
      "\n",
      "Increase the number of iterations (max_iter) or scale the data as shown in:\n",
      "    https://scikit-learn.org/stable/modules/preprocessing.html\n",
      "Please also refer to the documentation for alternative solver options:\n",
      "    https://scikit-learn.org/stable/modules/linear_model.html#logistic-regression\n",
      "  n_iter_i = _check_optimize_result(\n",
      "/opt/anaconda3/lib/python3.9/site-packages/sklearn/linear_model/_logistic.py:458: ConvergenceWarning: lbfgs failed to converge (status=1):\n",
      "STOP: TOTAL NO. of ITERATIONS REACHED LIMIT.\n",
      "\n",
      "Increase the number of iterations (max_iter) or scale the data as shown in:\n",
      "    https://scikit-learn.org/stable/modules/preprocessing.html\n",
      "Please also refer to the documentation for alternative solver options:\n",
      "    https://scikit-learn.org/stable/modules/linear_model.html#logistic-regression\n",
      "  n_iter_i = _check_optimize_result(\n",
      "/opt/anaconda3/lib/python3.9/site-packages/sklearn/linear_model/_logistic.py:458: ConvergenceWarning: lbfgs failed to converge (status=1):\n",
      "STOP: TOTAL NO. of ITERATIONS REACHED LIMIT.\n",
      "\n",
      "Increase the number of iterations (max_iter) or scale the data as shown in:\n",
      "    https://scikit-learn.org/stable/modules/preprocessing.html\n",
      "Please also refer to the documentation for alternative solver options:\n",
      "    https://scikit-learn.org/stable/modules/linear_model.html#logistic-regression\n",
      "  n_iter_i = _check_optimize_result(\n",
      "/opt/anaconda3/lib/python3.9/site-packages/sklearn/linear_model/_logistic.py:458: ConvergenceWarning: lbfgs failed to converge (status=1):\n",
      "STOP: TOTAL NO. of ITERATIONS REACHED LIMIT.\n",
      "\n",
      "Increase the number of iterations (max_iter) or scale the data as shown in:\n",
      "    https://scikit-learn.org/stable/modules/preprocessing.html\n",
      "Please also refer to the documentation for alternative solver options:\n",
      "    https://scikit-learn.org/stable/modules/linear_model.html#logistic-regression\n",
      "  n_iter_i = _check_optimize_result(\n",
      "/opt/anaconda3/lib/python3.9/site-packages/sklearn/linear_model/_logistic.py:458: ConvergenceWarning: lbfgs failed to converge (status=1):\n",
      "STOP: TOTAL NO. of ITERATIONS REACHED LIMIT.\n",
      "\n",
      "Increase the number of iterations (max_iter) or scale the data as shown in:\n",
      "    https://scikit-learn.org/stable/modules/preprocessing.html\n",
      "Please also refer to the documentation for alternative solver options:\n",
      "    https://scikit-learn.org/stable/modules/linear_model.html#logistic-regression\n",
      "  n_iter_i = _check_optimize_result(\n",
      "/opt/anaconda3/lib/python3.9/site-packages/sklearn/linear_model/_logistic.py:458: ConvergenceWarning: lbfgs failed to converge (status=1):\n",
      "STOP: TOTAL NO. of ITERATIONS REACHED LIMIT.\n",
      "\n",
      "Increase the number of iterations (max_iter) or scale the data as shown in:\n",
      "    https://scikit-learn.org/stable/modules/preprocessing.html\n",
      "Please also refer to the documentation for alternative solver options:\n",
      "    https://scikit-learn.org/stable/modules/linear_model.html#logistic-regression\n",
      "  n_iter_i = _check_optimize_result(\n",
      "/opt/anaconda3/lib/python3.9/site-packages/sklearn/linear_model/_logistic.py:458: ConvergenceWarning: lbfgs failed to converge (status=1):\n",
      "STOP: TOTAL NO. of ITERATIONS REACHED LIMIT.\n",
      "\n",
      "Increase the number of iterations (max_iter) or scale the data as shown in:\n",
      "    https://scikit-learn.org/stable/modules/preprocessing.html\n",
      "Please also refer to the documentation for alternative solver options:\n",
      "    https://scikit-learn.org/stable/modules/linear_model.html#logistic-regression\n",
      "  n_iter_i = _check_optimize_result(\n",
      "/opt/anaconda3/lib/python3.9/site-packages/sklearn/linear_model/_logistic.py:458: ConvergenceWarning: lbfgs failed to converge (status=1):\n",
      "STOP: TOTAL NO. of ITERATIONS REACHED LIMIT.\n",
      "\n",
      "Increase the number of iterations (max_iter) or scale the data as shown in:\n",
      "    https://scikit-learn.org/stable/modules/preprocessing.html\n",
      "Please also refer to the documentation for alternative solver options:\n",
      "    https://scikit-learn.org/stable/modules/linear_model.html#logistic-regression\n",
      "  n_iter_i = _check_optimize_result(\n",
      "/opt/anaconda3/lib/python3.9/site-packages/sklearn/linear_model/_logistic.py:458: ConvergenceWarning: lbfgs failed to converge (status=1):\n",
      "STOP: TOTAL NO. of ITERATIONS REACHED LIMIT.\n",
      "\n",
      "Increase the number of iterations (max_iter) or scale the data as shown in:\n",
      "    https://scikit-learn.org/stable/modules/preprocessing.html\n",
      "Please also refer to the documentation for alternative solver options:\n",
      "    https://scikit-learn.org/stable/modules/linear_model.html#logistic-regression\n",
      "  n_iter_i = _check_optimize_result(\n",
      "/opt/anaconda3/lib/python3.9/site-packages/sklearn/linear_model/_logistic.py:458: ConvergenceWarning: lbfgs failed to converge (status=1):\n",
      "STOP: TOTAL NO. of ITERATIONS REACHED LIMIT.\n",
      "\n",
      "Increase the number of iterations (max_iter) or scale the data as shown in:\n",
      "    https://scikit-learn.org/stable/modules/preprocessing.html\n",
      "Please also refer to the documentation for alternative solver options:\n",
      "    https://scikit-learn.org/stable/modules/linear_model.html#logistic-regression\n",
      "  n_iter_i = _check_optimize_result(\n",
      "/opt/anaconda3/lib/python3.9/site-packages/sklearn/linear_model/_logistic.py:458: ConvergenceWarning: lbfgs failed to converge (status=1):\n",
      "STOP: TOTAL NO. of ITERATIONS REACHED LIMIT.\n",
      "\n",
      "Increase the number of iterations (max_iter) or scale the data as shown in:\n",
      "    https://scikit-learn.org/stable/modules/preprocessing.html\n",
      "Please also refer to the documentation for alternative solver options:\n",
      "    https://scikit-learn.org/stable/modules/linear_model.html#logistic-regression\n",
      "  n_iter_i = _check_optimize_result(\n",
      "/opt/anaconda3/lib/python3.9/site-packages/sklearn/linear_model/_logistic.py:458: ConvergenceWarning: lbfgs failed to converge (status=1):\n",
      "STOP: TOTAL NO. of ITERATIONS REACHED LIMIT.\n",
      "\n",
      "Increase the number of iterations (max_iter) or scale the data as shown in:\n",
      "    https://scikit-learn.org/stable/modules/preprocessing.html\n",
      "Please also refer to the documentation for alternative solver options:\n",
      "    https://scikit-learn.org/stable/modules/linear_model.html#logistic-regression\n",
      "  n_iter_i = _check_optimize_result(\n",
      "/opt/anaconda3/lib/python3.9/site-packages/sklearn/linear_model/_logistic.py:458: ConvergenceWarning: lbfgs failed to converge (status=1):\n",
      "STOP: TOTAL NO. of ITERATIONS REACHED LIMIT.\n",
      "\n",
      "Increase the number of iterations (max_iter) or scale the data as shown in:\n",
      "    https://scikit-learn.org/stable/modules/preprocessing.html\n",
      "Please also refer to the documentation for alternative solver options:\n",
      "    https://scikit-learn.org/stable/modules/linear_model.html#logistic-regression\n",
      "  n_iter_i = _check_optimize_result(\n",
      "/opt/anaconda3/lib/python3.9/site-packages/sklearn/linear_model/_logistic.py:458: ConvergenceWarning: lbfgs failed to converge (status=1):\n",
      "STOP: TOTAL NO. of ITERATIONS REACHED LIMIT.\n",
      "\n",
      "Increase the number of iterations (max_iter) or scale the data as shown in:\n",
      "    https://scikit-learn.org/stable/modules/preprocessing.html\n",
      "Please also refer to the documentation for alternative solver options:\n",
      "    https://scikit-learn.org/stable/modules/linear_model.html#logistic-regression\n",
      "  n_iter_i = _check_optimize_result(\n",
      "/opt/anaconda3/lib/python3.9/site-packages/sklearn/linear_model/_logistic.py:458: ConvergenceWarning: lbfgs failed to converge (status=1):\n",
      "STOP: TOTAL NO. of ITERATIONS REACHED LIMIT.\n",
      "\n",
      "Increase the number of iterations (max_iter) or scale the data as shown in:\n",
      "    https://scikit-learn.org/stable/modules/preprocessing.html\n",
      "Please also refer to the documentation for alternative solver options:\n",
      "    https://scikit-learn.org/stable/modules/linear_model.html#logistic-regression\n",
      "  n_iter_i = _check_optimize_result(\n",
      "/opt/anaconda3/lib/python3.9/site-packages/sklearn/model_selection/_validation.py:378: FitFailedWarning: \n",
      "25 fits failed out of a total of 50.\n",
      "The score on these train-test partitions for these parameters will be set to nan.\n",
      "If these failures are not expected, you can try to debug them by setting error_score='raise'.\n",
      "\n",
      "Below are more details about the failures:\n",
      "--------------------------------------------------------------------------------\n",
      "25 fits failed with the following error:\n",
      "Traceback (most recent call last):\n",
      "  File \"/opt/anaconda3/lib/python3.9/site-packages/sklearn/model_selection/_validation.py\", line 686, in _fit_and_score\n",
      "    estimator.fit(X_train, y_train, **fit_params)\n",
      "  File \"/opt/anaconda3/lib/python3.9/site-packages/sklearn/linear_model/_logistic.py\", line 1162, in fit\n",
      "    solver = _check_solver(self.solver, self.penalty, self.dual)\n",
      "  File \"/opt/anaconda3/lib/python3.9/site-packages/sklearn/linear_model/_logistic.py\", line 54, in _check_solver\n",
      "    raise ValueError(\n",
      "ValueError: Solver lbfgs supports only 'l2' or 'none' penalties, got l1 penalty.\n",
      "\n",
      "  warnings.warn(some_fits_failed_message, FitFailedWarning)\n",
      "/opt/anaconda3/lib/python3.9/site-packages/sklearn/model_selection/_search.py:953: UserWarning: One or more of the test scores are non-finite: [       nan 0.65689655        nan 0.65344828        nan 0.64396552\n",
      "        nan 0.6362069         nan 0.62758621]\n",
      "  warnings.warn(\n"
     ]
    },
    {
     "name": "stdout",
     "output_type": "stream",
     "text": [
      "Meilleurs paramètres :  {'C': 0.01, 'penalty': 'l2'}\n",
      "Meilleure précision de validation croisée :  0.656896551724138\n",
      "Précision :  0.655\n"
     ]
    }
   ],
   "source": [
    "from sklearn.model_selection import GridSearchCV\n",
    "\n",
    "# Créer un objet GridSearchCV pour la régression logistique en utilisant une grille de paramètres à tester\n",
    "param_grid = {'C': [0.01, 0.1, 1, 10, 100],\n",
    "              'penalty': ['l1', 'l2']}\n",
    "grid_search = GridSearchCV(LogisticRegression(), param_grid, cv=5)\n",
    "\n",
    "# Adapter le modèle sur les données d'apprentissage et évaluer sa performance en utilisant la validation croisée\n",
    "grid_search.fit(X_train_scaled, y_train)\n",
    "print(\"Meilleurs paramètres : \", grid_search.best_params_)\n",
    "print(\"Meilleure précision de validation croisée : \", grid_search.best_score_)\n",
    "\n",
    "# Utiliser le modèle pour prédire les valeurs de la variable cible dans l'ensemble de test\n",
    "y_pred = grid_search.predict(X_test_scaled)\n",
    "\n",
    "# Évaluer la performance du modèle en utilisant la précision et la matrice de confusion\n",
    "accuracy = accuracy_score(y_test, y_pred)\n",
    "confusion_mat = confusion_matrix(y_test, y_pred)\n",
    "\n",
    "print(\"Précision : \", accuracy)"
   ]
  },
  {
   "cell_type": "markdown",
   "id": "014e524b",
   "metadata": {},
   "source": [
    "#### Classification Report"
   ]
  },
  {
   "cell_type": "code",
   "execution_count": 110,
   "id": "e444fa88",
   "metadata": {},
   "outputs": [
    {
     "name": "stdout",
     "output_type": "stream",
     "text": [
      "              precision    recall  f1-score   support\n",
      "\n",
      "           0       0.96      0.66      0.78      1866\n",
      "           1       0.11      0.60      0.19       134\n",
      "\n",
      "    accuracy                           0.66      2000\n",
      "   macro avg       0.53      0.63      0.48      2000\n",
      "weighted avg       0.90      0.66      0.74      2000\n",
      "\n"
     ]
    }
   ],
   "source": [
    "from sklearn.metrics import classification_report\n",
    "\n",
    "# Afficher le rapport de classification\n",
    "print(classification_report(y_test, y_pred))"
   ]
  },
  {
   "cell_type": "code",
   "execution_count": 111,
   "id": "e3c2ad44",
   "metadata": {},
   "outputs": [
    {
     "data": {
      "image/png": "[encoded data removed]",
      "text/plain": [
       "<Figure size 640x480 with 1 Axes>"
      ]
     },
     "metadata": {},
     "output_type": "display_data"
    }
   ],
   "source": [
    "from sklearn.metrics import roc_curve, auc\n",
    "import matplotlib.pyplot as plt\n",
    "\n",
    "# Calculer la probabilité des prédictions pour les données de test\n",
    "y_prob = grid_search.predict_proba(X_test_scaled)[:,1]\n",
    "\n",
    "# Calculer la courbe ROC et l'aire sous la courbe (AUC)\n",
    "fpr, tpr, thresholds = roc_curve(y_test, y_prob)\n",
    "roc_auc = auc(fpr, tpr)\n",
    "\n",
    "# Afficher la courbe ROC\n",
    "plt.plot(fpr, tpr, color='darkorange', lw=2, label='Courbe ROC (AUC = %0.2f)' % roc_auc)\n",
    "plt.plot([0, 1], [0, 1], color='navy', lw=2, linestyle='--')\n",
    "plt.xlim([0.0, 1.0])\n",
    "plt.ylim([0.0, 1.05])\n",
    "plt.xlabel('Taux de faux positifs')\n",
    "plt.ylabel('Taux de vrais positifs')\n",
    "plt.title('Courbe ROC pour la régression logistique')\n",
    "plt.legend(loc=\"lower right\")\n",
    "plt.show()"
   ]
  },
  {
   "cell_type": "code",
   "execution_count": 112,
   "id": "6be27204",
   "metadata": {},
   "outputs": [
    {
     "name": "stdout",
     "output_type": "stream",
     "text": [
      "Vrai négatif (TN) :  1230\n",
      "Faux positif (FP) :  636\n",
      "Faux négatif (FN) :  54\n",
      "Vrai positif (TP) :  80\n",
      "Matrice de confusion:\n",
      " [[1230  636]\n",
      " [  54   80]]\n"
     ]
    },
    {
     "data": {
      "image/png": "[encoded data removed]",
      "text/plain": [
       "<Figure size 640x480 with 2 Axes>"
      ]
     },
     "metadata": {},
     "output_type": "display_data"
    }
   ],
   "source": [
    "# supposons que y_true est la variable contenant les vraies étiquettes et y_pred est la variable contenant les prédictions du modèle\n",
    "tn, fp, fn, tp = confusion_matrix(y_test, y_pred).ravel()\n",
    "\n",
    "# affichage des résultats\n",
    "print(\"Vrai négatif (TN) : \", tn)\n",
    "print(\"Faux positif (FP) : \", fp)\n",
    "print(\"Faux négatif (FN) : \", fn)\n",
    "print(\"Vrai positif (TP) : \", tp)\n",
    "\n",
    "# calcul de la matrice de confusion\n",
    "cm = confusion_matrix(y_test, y_pred)\n",
    "\n",
    "# affichage de la matrice de confusion\n",
    "print('Matrice de confusion:\\n', cm)\n",
    "\n",
    "# création de la heatmap avec Seaborn\n",
    "sns.heatmap(cm, annot=True, fmt='g', cmap='Blues')\n",
    "\n",
    "# personnalisation des labels des axes x et y\n",
    "plt.xlabel('Prédictions')\n",
    "plt.ylabel('Valeurs réelles')\n",
    "\n",
    "# affichage de la figure\n",
    "plt.show()"
   ]
  },
  {
   "cell_type": "markdown",
   "id": "a4662f17",
   "metadata": {},
   "source": [
    "### Approche métier"
   ]
  },
  {
   "cell_type": "code",
   "execution_count": 113,
   "id": "49164693",
   "metadata": {},
   "outputs": [
    {
     "name": "stdout",
     "output_type": "stream",
     "text": [
      "1176\n"
     ]
    }
   ],
   "source": [
    "def cost_function(y_test, y_pred):\n",
    "    # Calcul du nombre de faux positifs et de faux négatifs\n",
    "    fp = ((y_test == 0) & (y_pred == 1)).sum()\n",
    "    fn = ((y_test == 1) & (y_pred == 0)).sum()\n",
    "\n",
    "    # Calcul du coût en fonction du nombre de faux positifs et de faux négatifs\n",
    "    cost = fp + 10 * fn\n",
    "\n",
    "    return cost\n",
    "\n",
    "import numpy as np\n",
    "\n",
    "#y_test = np.array([0, 1, 0, 1, 0])\n",
    "#y_pred = np.array([1, 1, 0, 0, 1])\n",
    "\n",
    "cost_lr = cost_function(y_test, y_pred)\n",
    "print(cost_lr)"
   ]
  },
  {
   "cell_type": "code",
   "execution_count": 114,
   "id": "cc38d95e",
   "metadata": {},
   "outputs": [
    {
     "ename": "SyntaxError",
     "evalue": "invalid character '£' (U+00A3) (543328479.py, line 1)",
     "output_type": "error",
     "traceback": [
      "\u001b[0;36m  Cell \u001b[0;32mIn[114], line 1\u001b[0;36m\u001b[0m\n\u001b[0;31m    import pytest£\u001b[0m\n\u001b[0m                 ^\u001b[0m\n\u001b[0;31mSyntaxError\u001b[0m\u001b[0;31m:\u001b[0m invalid character '£' (U+00A3)\n"
     ]
    }
   ],
   "source": [
    "import pytest£"
   ]
  },
  {
   "cell_type": "code",
   "execution_count": 115,
   "id": "c36703be",
   "metadata": {},
   "outputs": [],
   "source": [
    "# Définition d'une fonction de test\n",
    "def test_predictions():\n",
    "    # Chargement des données\n",
    "    df = pd.read_csv('df_scoring.csv')\n",
    "    # Séparation des données en jeu de train et de test\n",
    "    X_train, X_test, y_train, y_test = train_test_split(df.drop(['TARGET'], axis=1), df['TARGET'], test_size=0.2, random_state=42)\n",
    "    # Entraînement de l'algorithme de classification\n",
    "    clf = DecisionTreeClassifier(random_state=42)\n",
    "    clf.fit(X_train, y_train)\n",
    "    # Prédictions sur le jeu de test\n",
    "    y_pred = clf.predict(X_test)\n",
    "    # Vérification que les prédictions sont binaires (0 ou 1)\n",
    "    assert set(y_pred) == set([0, 1])\n",
    "    # Calcul de l'accuracy de l'algorithme\n",
    "    accuracy = clf.score(X_test, y_test)\n",
    "    # Vérification que l'accuracy est supérieure ou égale à 0.8\n",
    "    assert accuracy >= 0.8"
   ]
  },
  {
   "cell_type": "code",
   "execution_count": 116,
   "id": "9255b1ef",
   "metadata": {},
   "outputs": [
    {
     "ename": "SyntaxError",
     "evalue": "invalid syntax (3872133283.py, line 1)",
     "output_type": "error",
     "traceback": [
      "\u001b[0;36m  Cell \u001b[0;32mIn[116], line 1\u001b[0;36m\u001b[0m\n\u001b[0;31m    pytest test_financial_data.py\u001b[0m\n\u001b[0m           ^\u001b[0m\n\u001b[0;31mSyntaxError\u001b[0m\u001b[0;31m:\u001b[0m invalid syntax\n"
     ]
    }
   ],
   "source": [
    "pytest test_financial_data.py"
   ]
  },
  {
   "cell_type": "markdown",
   "id": "b87327a6",
   "metadata": {},
   "source": [
    "# Application d'une méthode par arbre de décision"
   ]
  },
  {
   "cell_type": "code",
   "execution_count": 117,
   "id": "a436e56b",
   "metadata": {},
   "outputs": [
    {
     "name": "stdout",
     "output_type": "stream",
     "text": [
      "Accuracy : 0.597\n"
     ]
    }
   ],
   "source": [
    "# Création de l'objet DecisionTreeClassifier et ajustement aux données d'entraînement\n",
    "tree = DecisionTreeClassifier()\n",
    "tree.fit(X_train_scaled, y_train)\n",
    "\n",
    "# Prédictions sur les données de test\n",
    "y_pred = tree.predict(X_test_scaled)\n",
    "\n",
    "# Calcul de l'accuracy\n",
    "acc = accuracy_score(y_test, y_pred)\n",
    "print(\"Accuracy :\", acc)"
   ]
  },
  {
   "cell_type": "markdown",
   "id": "2928d22a",
   "metadata": {},
   "source": [
    "#### Validation croisée"
   ]
  },
  {
   "cell_type": "code",
   "execution_count": 118,
   "id": "0e5f572e",
   "metadata": {},
   "outputs": [
    {
     "name": "stdout",
     "output_type": "stream",
     "text": [
      "Meilleurs paramètres :  {'max_depth': 5, 'min_samples_leaf': 5, 'min_samples_split': 3}\n",
      "Meilleure précision de validation croisée :  0.6198275862068965\n",
      "Précision :  0.5435\n"
     ]
    }
   ],
   "source": [
    "# Définir les paramètres à tester pour l'arbre de décision\n",
    "param_grid = {'max_depth': [1, 2, 3, 4, 5],\n",
    "              'min_samples_split': [2, 3, 4, 5],\n",
    "              'min_samples_leaf': [1, 2, 3, 4, 5]}\n",
    "\n",
    "# Créer un objet GridSearchCV pour l'arbre de décision en utilisant une grille de paramètres à tester\n",
    "grid_search = GridSearchCV(DecisionTreeClassifier(), param_grid, cv=5)\n",
    "\n",
    "# Adapter le modèle sur les données d'apprentissage et évaluer sa performance en utilisant la validation croisée\n",
    "grid_search.fit(X_train_scaled, y_train)\n",
    "print(\"Meilleurs paramètres : \", grid_search.best_params_)\n",
    "print(\"Meilleure précision de validation croisée : \", grid_search.best_score_)\n",
    "\n",
    "# Utiliser le modèle pour prédire les valeurs de la variable cible dans l'ensemble de test\n",
    "y_pred = grid_search.predict(X_test_scaled)\n",
    "\n",
    "# Évaluer la performance du modèle en utilisant la précision et la matrice de confusion\n",
    "accuracy = accuracy_score(y_test, y_pred)\n",
    "confusion_mat = confusion_matrix(y_test, y_pred)\n",
    "\n",
    "print(\"Précision : \", accuracy)"
   ]
  },
  {
   "cell_type": "markdown",
   "id": "68750e4f",
   "metadata": {},
   "source": [
    "#### Classification Report"
   ]
  },
  {
   "cell_type": "code",
   "execution_count": 119,
   "id": "9c670f51",
   "metadata": {},
   "outputs": [
    {
     "name": "stdout",
     "output_type": "stream",
     "text": [
      "              precision    recall  f1-score   support\n",
      "\n",
      "           0       0.95      0.54      0.69      1866\n",
      "           1       0.09      0.62      0.15       134\n",
      "\n",
      "    accuracy                           0.54      2000\n",
      "   macro avg       0.52      0.58      0.42      2000\n",
      "weighted avg       0.89      0.54      0.65      2000\n",
      "\n"
     ]
    }
   ],
   "source": [
    "from sklearn.metrics import classification_report\n",
    "\n",
    "# Afficher le rapport de classification\n",
    "print(classification_report(y_test, y_pred))"
   ]
  },
  {
   "cell_type": "markdown",
   "id": "4599f918",
   "metadata": {},
   "source": [
    "#### Représentation graphique de l'AUC"
   ]
  },
  {
   "cell_type": "code",
   "execution_count": 120,
   "id": "a4dc9ddd",
   "metadata": {},
   "outputs": [
    {
     "data": {
      "image/png": "[encoded data removed]",
      "text/plain": [
       "<Figure size 640x480 with 1 Axes>"
      ]
     },
     "metadata": {},
     "output_type": "display_data"
    }
   ],
   "source": [
    "from sklearn.metrics import roc_curve, auc\n",
    "# Calculer les probabilités prédites pour l'ensemble de test\n",
    "y_proba = tree.predict_proba(X_test_scaled)[:, 1]\n",
    "\n",
    "# Calculer la courbe ROC et l'AUC\n",
    "fpr, tpr, thresholds = roc_curve(y_test, y_proba)\n",
    "roc_auc = auc(fpr, tpr)\n",
    "\n",
    "# Afficher la courbe ROC\n",
    "plt.figure()\n",
    "lw = 2\n",
    "plt.plot(fpr, tpr, color='darkorange', lw=lw, label='Courbe ROC (AUC = %0.2f)' % roc_auc)\n",
    "plt.plot([0, 1], [0, 1], color='navy', lw=lw, linestyle='--')\n",
    "plt.xlim([0.0, 1.0])\n",
    "plt.ylim([0.0, 1.05])\n",
    "plt.xlabel('Taux de faux positifs')\n",
    "plt.ylabel('Taux de vrais positifs')\n",
    "plt.title('Courbe ROC pour DecisionTreeClassifier')\n",
    "plt.legend(loc=\"lower right\")\n",
    "plt.show()"
   ]
  },
  {
   "cell_type": "code",
   "execution_count": 121,
   "id": "6811f4eb",
   "metadata": {},
   "outputs": [
    {
     "name": "stdout",
     "output_type": "stream",
     "text": [
      "Vrai négatif (TN) :  1004\n",
      "Faux positif (FP) :  862\n",
      "Faux négatif (FN) :  51\n",
      "Vrai positif (TP) :  83\n",
      "Matrice de confusion:\n",
      " [[1004  862]\n",
      " [  51   83]]\n"
     ]
    },
    {
     "data": {
      "image/png": "[encoded data removed]",
      "text/plain": [
       "<Figure size 640x480 with 2 Axes>"
      ]
     },
     "metadata": {},
     "output_type": "display_data"
    }
   ],
   "source": [
    "# supposons que y_true est la variable contenant les vraies étiquettes et y_pred est la variable contenant les prédictions du modèle\n",
    "tn, fp, fn, tp = confusion_matrix(y_test, y_pred).ravel()\n",
    "\n",
    "# affichage des résultats\n",
    "print(\"Vrai négatif (TN) : \", tn)\n",
    "print(\"Faux positif (FP) : \", fp)\n",
    "print(\"Faux négatif (FN) : \", fn)\n",
    "print(\"Vrai positif (TP) : \", tp)\n",
    "\n",
    "# calcul de la matrice de confusion\n",
    "cm = confusion_matrix(y_test, y_pred)\n",
    "\n",
    "# affichage de la matrice de confusion\n",
    "print('Matrice de confusion:\\n', cm)\n",
    "\n",
    "# création de la heatmap avec Seaborn\n",
    "sns.heatmap(cm, annot=True, fmt='g', cmap='Blues')\n",
    "\n",
    "# personnalisation des labels des axes x et y\n",
    "plt.xlabel('Prédictions')\n",
    "plt.ylabel('Valeurs réelles')\n",
    "\n",
    "# affichage de la figure\n",
    "plt.show()"
   ]
  },
  {
   "cell_type": "code",
   "execution_count": 122,
   "id": "99ce8ce8",
   "metadata": {},
   "outputs": [
    {
     "name": "stdout",
     "output_type": "stream",
     "text": [
      "Vrai négatif (TN) :  1004\n",
      "Faux positif (FP) :  862\n",
      "Faux négatif (FN) :  51\n",
      "Vrai positif (TP) :  83\n"
     ]
    }
   ],
   "source": [
    "# supposons que y_true est la variable contenant les vraies étiquettes et y_pred est la variable contenant les prédictions du modèle\n",
    "tn, fp, fn, tp = confusion_matrix(y_test, y_pred).ravel()\n",
    "\n",
    "# affichage des résultats\n",
    "print(\"Vrai négatif (TN) : \", tn)\n",
    "print(\"Faux positif (FP) : \", fp)\n",
    "print(\"Faux négatif (FN) : \", fn)\n",
    "print(\"Vrai positif (TP) : \", tp)"
   ]
  },
  {
   "cell_type": "markdown",
   "id": "d9bffc15",
   "metadata": {},
   "source": [
    "### Approche métier"
   ]
  },
  {
   "cell_type": "code",
   "execution_count": 123,
   "id": "401690ae",
   "metadata": {},
   "outputs": [
    {
     "name": "stdout",
     "output_type": "stream",
     "text": [
      "1372\n"
     ]
    }
   ],
   "source": [
    "def cost_function(y_test, y_pred):\n",
    "    # Calcul du nombre de faux positifs et de faux négatifs\n",
    "    fp = ((y_test == 0) & (y_pred == 1)).sum()\n",
    "    fn = ((y_test == 1) & (y_pred == 0)).sum()\n",
    "\n",
    "    # Calcul du coût en fonction du nombre de faux positifs et de faux négatifs\n",
    "    cost = fp + 10 * fn\n",
    "\n",
    "    return cost\n",
    "\n",
    "import numpy as np\n",
    "\n",
    "#y_test = np.array([0, 1, 0, 1, 0])\n",
    "#y_pred = np.array([1, 1, 0, 0, 1])\n",
    "\n",
    "cost_dt = cost_function(y_test, y_pred)\n",
    "print(cost_dt)"
   ]
  },
  {
   "cell_type": "markdown",
   "id": "32b95286",
   "metadata": {},
   "source": [
    "# Application d'une méthode par forêt aléatoire"
   ]
  },
  {
   "cell_type": "code",
   "execution_count": 124,
   "id": "a244d57e",
   "metadata": {},
   "outputs": [
    {
     "name": "stdout",
     "output_type": "stream",
     "text": [
      "Accuracy :  0.6485\n",
      "              precision    recall  f1-score   support\n",
      "\n",
      "           0       0.96      0.65      0.78      1866\n",
      "           1       0.11      0.63      0.19       134\n",
      "\n",
      "    accuracy                           0.65      2000\n",
      "   macro avg       0.54      0.64      0.48      2000\n",
      "weighted avg       0.90      0.65      0.74      2000\n",
      "\n",
      "AUC : 0.6781\n"
     ]
    }
   ],
   "source": [
    "# Créer et ajuster le modèle de classification\n",
    "rf = RandomForestClassifier()\n",
    "rf.fit(X_train_scaled, y_train)\n",
    "\n",
    "# Faire des prédictions sur les données de test\n",
    "y_pred = rf.predict(X_test_scaled)\n",
    "\n",
    "# Calculer l'accuracy des prédictions\n",
    "accuracy = accuracy_score(y_test, y_pred)\n",
    "# Évaluation du modèle\n",
    "print(\"Accuracy : \", accuracy_score(y_test, y_pred))\n",
    "print(classification_report(y_test, y_pred))\n",
    "roc_auc = roc_auc_score(y_test, rf.predict_proba(X_test_scaled)[:,1])\n",
    "print('AUC : %0.4f' %roc_auc)"
   ]
  },
  {
   "cell_type": "markdown",
   "id": "1428e2e4",
   "metadata": {},
   "source": [
    "#### Validation croisée"
   ]
  },
  {
   "cell_type": "code",
   "execution_count": 125,
   "id": "125210d8",
   "metadata": {},
   "outputs": [
    {
     "name": "stdout",
     "output_type": "stream",
     "text": [
      "Précision :  0.6485\n"
     ]
    }
   ],
   "source": [
    "# Créer le modèle de classification\n",
    "rf = RandomForestClassifier()\n",
    "\n",
    "# Effectuer une validation croisée sur le modèle\n",
    "scores = cross_val_score(rf, X_train_scaled, y_train, cv=5)\n",
    "\n",
    "# Évaluer la performance du modèle en utilisant la précision et la matrice de confusion\n",
    "accuracy = accuracy_score(y_test, y_pred)\n",
    "confusion_mat = confusion_matrix(y_test, y_pred)\n",
    "\n",
    "print(\"Précision : \", accuracy)\n",
    "# Évaluer la performance du modèle en utilisant la précision et la matrice de confusion\n",
    "accuracy = accuracy_score(y_test, y_pred)\n",
    "confusion_mat = confusion_matrix(y_test, y_pred)"
   ]
  },
  {
   "cell_type": "markdown",
   "id": "72aa33a4",
   "metadata": {},
   "source": [
    "#### Classification report"
   ]
  },
  {
   "cell_type": "code",
   "execution_count": 126,
   "id": "ed94e062",
   "metadata": {},
   "outputs": [
    {
     "name": "stdout",
     "output_type": "stream",
     "text": [
      "              precision    recall  f1-score   support\n",
      "\n",
      "           0       0.96      0.65      0.78      1866\n",
      "           1       0.11      0.63      0.19       134\n",
      "\n",
      "    accuracy                           0.65      2000\n",
      "   macro avg       0.54      0.64      0.48      2000\n",
      "weighted avg       0.90      0.65      0.74      2000\n",
      "\n"
     ]
    }
   ],
   "source": [
    "from sklearn.metrics import classification_report\n",
    "\n",
    "# Afficher le rapport de classification\n",
    "print(classification_report(y_test, y_pred))"
   ]
  },
  {
   "cell_type": "markdown",
   "id": "c6d7f5df",
   "metadata": {},
   "source": [
    "#### Représentation graphique de l'AUC"
   ]
  },
  {
   "cell_type": "code",
   "execution_count": 127,
   "id": "d3d2a5d8",
   "metadata": {},
   "outputs": [
    {
     "data": {
      "image/png": "[encoded data removed]",
      "text/plain": [
       "<Figure size 800x600 with 1 Axes>"
      ]
     },
     "metadata": {},
     "output_type": "display_data"
    }
   ],
   "source": [
    "from sklearn.metrics import roc_curve, auc\n",
    "# Créer et ajuster le modèle de classification\n",
    "rf = RandomForestClassifier()\n",
    "rf.fit(X_train_scaled, y_train)\n",
    "\n",
    "# Faire des prédictions sur les données de test\n",
    "y_pred_proba = rf.predict_proba(X_test_scaled)[:,1]\n",
    "\n",
    "# Calculer la courbe ROC et l'aire sous la courbe (AUC)\n",
    "fpr, tpr, _ = roc_curve(y_test, y_pred_proba)\n",
    "roc_auc = auc(fpr, tpr)\n",
    "\n",
    "# Afficher la courbe ROC\n",
    "plt.figure(figsize=(8,6))\n",
    "plt.plot(fpr, tpr, color='darkorange', lw=2, label='Courbe ROC (AUC = %0.2f)' % roc_auc)\n",
    "plt.plot([0, 1], [0, 1], color='navy', lw=2, linestyle='--')\n",
    "plt.xlabel('Taux de faux positifs')\n",
    "plt.ylabel('Taux de vrais positifs')\n",
    "plt.title('Courbe ROC pour le modèle Random Forest Classifier')\n",
    "plt.legend(loc=\"lower right\")\n",
    "plt.show()"
   ]
  },
  {
   "cell_type": "code",
   "execution_count": 128,
   "id": "6d06b835",
   "metadata": {},
   "outputs": [
    {
     "name": "stdout",
     "output_type": "stream",
     "text": [
      "Vrai négatif (TN) :  1213\n",
      "Faux positif (FP) :  653\n",
      "Faux négatif (FN) :  50\n",
      "Vrai positif (TP) :  84\n",
      "Matrice de confusion:\n",
      " [[1213  653]\n",
      " [  50   84]]\n"
     ]
    },
    {
     "data": {
      "image/png": "[encoded data removed]",
      "text/plain": [
       "<Figure size 640x480 with 2 Axes>"
      ]
     },
     "metadata": {},
     "output_type": "display_data"
    }
   ],
   "source": [
    "# supposons que y_true est la variable contenant les vraies étiquettes et y_pred est la variable contenant les prédictions du modèle\n",
    "tn, fp, fn, tp = confusion_matrix(y_test, y_pred).ravel()\n",
    "\n",
    "# affichage des résultats\n",
    "print(\"Vrai négatif (TN) : \", tn)\n",
    "print(\"Faux positif (FP) : \", fp)\n",
    "print(\"Faux négatif (FN) : \", fn)\n",
    "print(\"Vrai positif (TP) : \", tp)\n",
    "\n",
    "# calcul de la matrice de confusion\n",
    "cm = confusion_matrix(y_test, y_pred)\n",
    "\n",
    "# affichage de la matrice de confusion\n",
    "print('Matrice de confusion:\\n', cm)\n",
    "\n",
    "# création de la heatmap avec Seaborn\n",
    "sns.heatmap(cm, annot=True, fmt='g', cmap='Blues')\n",
    "\n",
    "# personnalisation des labels des axes x et y\n",
    "plt.xlabel('Prédictions')\n",
    "plt.ylabel('Valeurs réelles')\n",
    "\n",
    "# affichage de la figure\n",
    "plt.show()"
   ]
  },
  {
   "cell_type": "markdown",
   "id": "a4ce2790",
   "metadata": {},
   "source": [
    "### Approche métier"
   ]
  },
  {
   "cell_type": "code",
   "execution_count": 129,
   "id": "1f1f8246",
   "metadata": {},
   "outputs": [
    {
     "name": "stdout",
     "output_type": "stream",
     "text": [
      "1153\n"
     ]
    }
   ],
   "source": [
    "def cost_function(y_test, y_pred):\n",
    "    # Calcul du nombre de faux positifs et de faux négatifs\n",
    "    fp = ((y_test == 0) & (y_pred == 1)).sum()\n",
    "    fn = ((y_test == 1) & (y_pred == 0)).sum()\n",
    "\n",
    "    # Calcul du coût en fonction du nombre de faux positifs et de faux négatifs\n",
    "    cost = fp + 10 * fn\n",
    "\n",
    "    return cost\n",
    "\n",
    "import numpy as np\n",
    "\n",
    "#y_test = np.array([0, 1, 0, 1, 0])\n",
    "#y_pred = np.array([1, 1, 0, 0, 1])\n",
    "\n",
    "cost_rf = cost_function(y_test, y_pred)\n",
    "print(cost_rf)"
   ]
  },
  {
   "cell_type": "markdown",
   "id": "495fd86d",
   "metadata": {},
   "source": [
    "# Application d'une méthode par XGBoost"
   ]
  },
  {
   "cell_type": "code",
   "execution_count": 130,
   "id": "1c4af410",
   "metadata": {},
   "outputs": [
    {
     "name": "stdout",
     "output_type": "stream",
     "text": [
      "Accuracy :  0.6265\n"
     ]
    }
   ],
   "source": [
    "# Instancier un classifieur XGBoost\n",
    "xgb = XGBClassifier()\n",
    "\n",
    "# Entraîner le classifieur sur les données d'entraînement\n",
    "xgb.fit(X_train_scaled, y_train)\n",
    "\n",
    "# Faire des prédictions sur les données de test\n",
    "y_pred = xgb.predict(X_test_scaled)\n",
    "\n",
    "# Calculer l'accuracy des prédictions\n",
    "accuracy = accuracy_score(y_test, y_pred)\n",
    "print(\"Accuracy : \", accuracy)"
   ]
  },
  {
   "cell_type": "markdown",
   "id": "04a588c1",
   "metadata": {},
   "source": [
    "#### Classification Report"
   ]
  },
  {
   "cell_type": "code",
   "execution_count": 131,
   "id": "b1179c3c",
   "metadata": {},
   "outputs": [
    {
     "name": "stdout",
     "output_type": "stream",
     "text": [
      "              precision    recall  f1-score   support\n",
      "\n",
      "           0       0.96      0.63      0.76      1866\n",
      "           1       0.10      0.60      0.18       134\n",
      "\n",
      "    accuracy                           0.63      2000\n",
      "   macro avg       0.53      0.61      0.47      2000\n",
      "weighted avg       0.90      0.63      0.72      2000\n",
      "\n"
     ]
    }
   ],
   "source": [
    "# Afficher le classification report\n",
    "print(classification_report(y_test, y_pred))"
   ]
  },
  {
   "cell_type": "markdown",
   "id": "39e9f9b8",
   "metadata": {},
   "source": [
    "#### Validation croisée"
   ]
  },
  {
   "cell_type": "code",
   "execution_count": 132,
   "id": "4898cb19",
   "metadata": {},
   "outputs": [
    {
     "name": "stdout",
     "output_type": "stream",
     "text": [
      "Meilleurs paramètres :  {'learning_rate': 0.2, 'max_depth': 3}\n",
      "Meilleur score :  0.656896551724138\n",
      "Précision :  0.6265\n"
     ]
    }
   ],
   "source": [
    "params = {'learning_rate': [0.1, 0.2, 0.3], 'max_depth': [3, 4, 5]}\n",
    "grid_search = GridSearchCV(xgb, params, cv=5)\n",
    "grid_search.fit(X_train_scaled, y_train)\n",
    "print(\"Meilleurs paramètres : \", grid_search.best_params_)\n",
    "print(\"Meilleur score : \", grid_search.best_score_)\n",
    "print(\"Précision : \", accuracy)"
   ]
  },
  {
   "cell_type": "markdown",
   "id": "721f3ed0",
   "metadata": {},
   "source": [
    "#### Représentation graphique de l'AUC"
   ]
  },
  {
   "cell_type": "code",
   "execution_count": 133,
   "id": "71d10b87",
   "metadata": {},
   "outputs": [
    {
     "data": {
      "image/png": "[encoded data removed]",
      "text/plain": [
       "<Figure size 800x600 with 1 Axes>"
      ]
     },
     "metadata": {},
     "output_type": "display_data"
    }
   ],
   "source": [
    "# Faire des prédictions sur les données de test\n",
    "y_pred_proba = xgb.predict_proba(X_test_scaled)[:,1]\n",
    "\n",
    "# Calculer la courbe ROC et l'aire sous la courbe (AUC)\n",
    "fpr, tpr, _ = roc_curve(y_test, y_pred_proba)\n",
    "roc_auc = auc(fpr, tpr)\n",
    "\n",
    "# Afficher la courbe ROC\n",
    "plt.figure(figsize=(8,6))\n",
    "plt.plot(fpr, tpr, color='darkorange', lw=2, label='Courbe ROC (AUC = %0.2f)' % roc_auc)\n",
    "plt.plot([0, 1], [0, 1], color='navy', lw=2, linestyle='--')\n",
    "plt.xlabel('Taux de faux positifs')\n",
    "plt.ylabel('Taux de vrais positifs')\n",
    "plt.title('Courbe ROC pour le modèle XGBoost ')\n",
    "plt.legend(loc=\"lower right\")\n",
    "plt.show()"
   ]
  },
  {
   "cell_type": "markdown",
   "id": "b7c9bb0e",
   "metadata": {},
   "source": [
    "#### Matrice de confusion"
   ]
  },
  {
   "cell_type": "code",
   "execution_count": 134,
   "id": "c18921d9",
   "metadata": {},
   "outputs": [
    {
     "name": "stdout",
     "output_type": "stream",
     "text": [
      "Vrai négatif (TN) :  1173\n",
      "Faux positif (FP) :  693\n",
      "Faux négatif (FN) :  54\n",
      "Vrai positif (TP) :  80\n",
      "Matrice de confusion:\n",
      " [[1173  693]\n",
      " [  54   80]]\n"
     ]
    },
    {
     "data": {
      "image/png": "[encoded data removed]",
      "text/plain": [
       "<Figure size 640x480 with 2 Axes>"
      ]
     },
     "metadata": {},
     "output_type": "display_data"
    }
   ],
   "source": [
    "# supposons que y_true est la variable contenant les vraies étiquettes et y_pred est la variable contenant les prédictions du modèle\n",
    "tn, fp, fn, tp = confusion_matrix(y_test, y_pred).ravel()\n",
    "\n",
    "# affichage des résultats\n",
    "print(\"Vrai négatif (TN) : \", tn)\n",
    "print(\"Faux positif (FP) : \", fp)\n",
    "print(\"Faux négatif (FN) : \", fn)\n",
    "print(\"Vrai positif (TP) : \", tp)\n",
    "\n",
    "# calcul de la matrice de confusion\n",
    "cm = confusion_matrix(y_test, y_pred)\n",
    "\n",
    "# affichage de la matrice de confusion\n",
    "print('Matrice de confusion:\\n', cm)\n",
    "\n",
    "# création de la heatmap avec Seaborn\n",
    "sns.heatmap(cm, annot=True, fmt='g', cmap='Blues')\n",
    "\n",
    "# personnalisation des labels des axes x et y\n",
    "plt.xlabel('Prédictions')\n",
    "plt.ylabel('Valeurs réelles')\n",
    "\n",
    "# affichage de la figure\n",
    "plt.show()"
   ]
  },
  {
   "cell_type": "markdown",
   "id": "6c588ed9",
   "metadata": {},
   "source": [
    "### Approche métier"
   ]
  },
  {
   "cell_type": "code",
   "execution_count": 135,
   "id": "4ea93327",
   "metadata": {},
   "outputs": [
    {
     "name": "stdout",
     "output_type": "stream",
     "text": [
      "1233\n"
     ]
    }
   ],
   "source": [
    "def cost_function(y_test, y_pred):\n",
    "    # Calcul du nombre de faux positifs et de faux négatifs\n",
    "    fp = ((y_test == 0) & (y_pred == 1)).sum()\n",
    "    fn = ((y_test == 1) & (y_pred == 0)).sum()\n",
    "\n",
    "    # Calcul du coût en fonction du nombre de faux positifs et de faux négatifs\n",
    "    cost = fp + 10 * fn\n",
    "\n",
    "    return cost\n",
    "\n",
    "import numpy as np\n",
    "\n",
    "#y_test = np.array([0, 1, 0, 1, 0])\n",
    "#y_pred = np.array([1, 1, 0, 0, 1])\n",
    "\n",
    "cost_xgb = cost_function(y_test, y_pred)\n",
    "print(cost_xgb)"
   ]
  },
  {
   "cell_type": "markdown",
   "id": "266f2c37",
   "metadata": {},
   "source": [
    "# Application d'une méthode par DummyClassifier"
   ]
  },
  {
   "cell_type": "code",
   "execution_count": 136,
   "id": "21de65f0",
   "metadata": {},
   "outputs": [
    {
     "name": "stdout",
     "output_type": "stream",
     "text": [
      "Accuracy du classificateur Dummy :  0.933\n"
     ]
    }
   ],
   "source": [
    "# Instancier un classificateur DummyClassifier qui prédit la classe majoritaire\n",
    "dummy = DummyClassifier(strategy='most_frequent')\n",
    "\n",
    "# Entraîner le classificateur sur les données d'entraînement\n",
    "dummy.fit(X_train_scaled, y_train)\n",
    "\n",
    "# Faire des prédictions sur les données de test\n",
    "y_pred_dummy = dummy.predict(X_test_scaled)\n",
    "\n",
    "# Calculer l'accuracy des prédictions du classificateur Dummy\n",
    "accuracy_dummy = accuracy_score(y_test, y_pred_dummy)\n",
    "print(\"Accuracy du classificateur Dummy : \", accuracy_dummy)"
   ]
  },
  {
   "cell_type": "markdown",
   "id": "0b44add9",
   "metadata": {},
   "source": [
    "#### Classification Report"
   ]
  },
  {
   "cell_type": "code",
   "execution_count": 137,
   "id": "e28f7fd0",
   "metadata": {},
   "outputs": [
    {
     "name": "stdout",
     "output_type": "stream",
     "text": [
      "              precision    recall  f1-score   support\n",
      "\n",
      "           0       0.93      1.00      0.97      1866\n",
      "           1       0.00      0.00      0.00       134\n",
      "\n",
      "    accuracy                           0.93      2000\n",
      "   macro avg       0.47      0.50      0.48      2000\n",
      "weighted avg       0.87      0.93      0.90      2000\n",
      "\n"
     ]
    },
    {
     "name": "stderr",
     "output_type": "stream",
     "text": [
      "/opt/anaconda3/lib/python3.9/site-packages/sklearn/metrics/_classification.py:1344: UndefinedMetricWarning: Precision and F-score are ill-defined and being set to 0.0 in labels with no predicted samples. Use `zero_division` parameter to control this behavior.\n",
      "  _warn_prf(average, modifier, msg_start, len(result))\n",
      "/opt/anaconda3/lib/python3.9/site-packages/sklearn/metrics/_classification.py:1344: UndefinedMetricWarning: Precision and F-score are ill-defined and being set to 0.0 in labels with no predicted samples. Use `zero_division` parameter to control this behavior.\n",
      "  _warn_prf(average, modifier, msg_start, len(result))\n",
      "/opt/anaconda3/lib/python3.9/site-packages/sklearn/metrics/_classification.py:1344: UndefinedMetricWarning: Precision and F-score are ill-defined and being set to 0.0 in labels with no predicted samples. Use `zero_division` parameter to control this behavior.\n",
      "  _warn_prf(average, modifier, msg_start, len(result))\n"
     ]
    }
   ],
   "source": [
    "# Afficher le classification report\n",
    "print(classification_report(y_test, y_pred_dummy))"
   ]
  },
  {
   "cell_type": "markdown",
   "id": "2aad9449",
   "metadata": {},
   "source": [
    "#### Validation croisée"
   ]
  },
  {
   "cell_type": "code",
   "execution_count": 138,
   "id": "513c62ed",
   "metadata": {},
   "outputs": [
    {
     "name": "stdout",
     "output_type": "stream",
     "text": [
      "Meilleurs hyperparamètres :  {'strategy': 'most_frequent'}\n",
      "Score de validation croisée moyen :  0.5\n"
     ]
    }
   ],
   "source": [
    "# Instancier un classificateur DummyClassifier qui prédit la classe majoritaire\n",
    "dummy = DummyClassifier(strategy='most_frequent')\n",
    "\n",
    "# Définir les hyperparamètres à tester\n",
    "param_grid = {\n",
    "    'strategy': ['most_frequent', 'stratified', 'uniform']\n",
    "}\n",
    "\n",
    "# Instancier un objet GridSearchCV avec la validation croisée à 5 plis\n",
    "grid_search = GridSearchCV(dummy, param_grid, cv=5)\n",
    "\n",
    "# Entraîner le classificateur en utilisant la recherche de grille\n",
    "grid_search.fit(X_train_scaled, y_train)\n",
    "\n",
    "# Afficher les meilleurs hyperparamètres trouvés\n",
    "print(\"Meilleurs hyperparamètres : \", grid_search.best_params_)\n",
    "\n",
    "# Afficher le score de validation croisée moyen pour les meilleurs hyperparamètres\n",
    "print(\"Score de validation croisée moyen : \", grid_search.best_score_)"
   ]
  },
  {
   "cell_type": "markdown",
   "id": "85424943",
   "metadata": {},
   "source": [
    "#### Représentation graphique de l'AUC"
   ]
  },
  {
   "cell_type": "code",
   "execution_count": 139,
   "id": "b543cd96",
   "metadata": {},
   "outputs": [
    {
     "data": {
      "image/png": "[encoded data removed]",
      "text/plain": [
       "<Figure size 800x600 with 1 Axes>"
      ]
     },
     "metadata": {},
     "output_type": "display_data"
    }
   ],
   "source": [
    "# Instancier un classifieur DummyClassifier qui prédit la classe majoritaire dans l'ensemble d'entraînement\n",
    "dummy = DummyClassifier(strategy='most_frequent')\n",
    "\n",
    "# Entraîner le classifieur sur les données d'entraînement\n",
    "dummy.fit(X_train_scaled, y_train)\n",
    "\n",
    "# Faire des prédictions sur les données de test\n",
    "y_pred_proba = dummy.predict_proba(X_test_scaled)[:, 1]\n",
    "\n",
    "# Calculer la courbe ROC et l'aire sous la courbe (AUC)\n",
    "fpr, tpr, _ = roc_curve(y_test, y_pred_proba)\n",
    "roc_auc = auc(fpr, tpr)\n",
    "\n",
    "# Afficher la courbe ROC\n",
    "plt.figure(figsize=(8,6))\n",
    "plt.plot(fpr, tpr, color='darkorange', lw=2, label='Courbe ROC (AUC = %0.2f)' % roc_auc)\n",
    "plt.plot([0, 1], [0, 1], color='navy', lw=2, linestyle='--')\n",
    "plt.xlabel('Taux de faux positifs')\n",
    "plt.ylabel('Taux de vrais positifs')\n",
    "plt.title('Courbe ROC pour le modèle DummyClassifier ')\n",
    "plt.legend(loc=\"lower right\")\n",
    "plt.show()"
   ]
  },
  {
   "cell_type": "markdown",
   "id": "a2c45ee6",
   "metadata": {},
   "source": [
    "#### Matrice de confusion"
   ]
  },
  {
   "cell_type": "code",
   "execution_count": 140,
   "id": "f4ac2695",
   "metadata": {},
   "outputs": [
    {
     "name": "stdout",
     "output_type": "stream",
     "text": [
      "Matrice de confusion :\n",
      "[[1866    0]\n",
      " [ 134    0]]\n"
     ]
    },
    {
     "data": {
      "image/png": "[encoded data removed]",
      "text/plain": [
       "<Figure size 640x480 with 2 Axes>"
      ]
     },
     "metadata": {},
     "output_type": "display_data"
    }
   ],
   "source": [
    "# Instancier un classifieur DummyClassifier qui prédit la classe majoritaire dans l'ensemble d'entraînement\n",
    "dummy = DummyClassifier(strategy='most_frequent')\n",
    "\n",
    "# Entraîner le classifieur sur les données d'entraînement\n",
    "dummy.fit(X_train_scaled, y_train)\n",
    "\n",
    "# Faire des prédictions sur les données de test\n",
    "y_pred = dummy.predict(X_test_scaled)\n",
    "\n",
    "# Calculer la matrice de confusion\n",
    "cm = confusion_matrix(y_test, y_pred)\n",
    "\n",
    "# Afficher les résultats\n",
    "print(\"Matrice de confusion :\")\n",
    "print(cm)\n",
    "\n",
    "# Afficher la matrice de confusion sous forme de heatmap\n",
    "sns.heatmap(cm, annot=True, cmap='Blues', fmt='g')\n",
    "plt.xlabel('Prédictions')\n",
    "plt.ylabel('Valeurs réelles')\n",
    "plt.show()"
   ]
  },
  {
   "cell_type": "markdown",
   "id": "4d955f4a",
   "metadata": {},
   "source": [
    "#### Approche métier"
   ]
  },
  {
   "cell_type": "code",
   "execution_count": 141,
   "id": "784cf561",
   "metadata": {},
   "outputs": [
    {
     "name": "stdout",
     "output_type": "stream",
     "text": [
      "1340\n"
     ]
    }
   ],
   "source": [
    "def cost_function(y_test, y_pred):\n",
    "    # Calcul du nombre de faux positifs et de faux négatifs\n",
    "    fp = ((y_test == 0) & (y_pred == 1)).sum()\n",
    "    fn = ((y_test == 1) & (y_pred == 0)).sum()\n",
    "\n",
    "    # Calcul du coût en fonction du nombre de faux positifs et de faux négatifs\n",
    "    cost = fp + 10 * fn\n",
    "\n",
    "    return cost\n",
    "\n",
    "import numpy as np\n",
    "\n",
    "#y_test = np.array([0, 1, 0, 1, 0])\n",
    "#y_pred = np.array([1, 1, 0, 0, 1])\n",
    "\n",
    "cost_dummy = cost_function(y_test, y_pred)\n",
    "print(cost_dummy)"
   ]
  },
  {
   "cell_type": "code",
   "execution_count": null,
   "id": "c57f50e7",
   "metadata": {},
   "outputs": [],
   "source": []
  },
  {
   "cell_type": "markdown",
   "id": "24b976cf",
   "metadata": {},
   "source": [
    "# Evaluation des modèles"
   ]
  },
  {
   "cell_type": "code",
   "execution_count": 142,
   "id": "6f3206f2",
   "metadata": {},
   "outputs": [
    {
     "name": "stderr",
     "output_type": "stream",
     "text": [
      "/opt/anaconda3/lib/python3.9/site-packages/sklearn/linear_model/_logistic.py:458: ConvergenceWarning: lbfgs failed to converge (status=1):\n",
      "STOP: TOTAL NO. of ITERATIONS REACHED LIMIT.\n",
      "\n",
      "Increase the number of iterations (max_iter) or scale the data as shown in:\n",
      "    https://scikit-learn.org/stable/modules/preprocessing.html\n",
      "Please also refer to the documentation for alternative solver options:\n",
      "    https://scikit-learn.org/stable/modules/linear_model.html#logistic-regression\n",
      "  n_iter_i = _check_optimize_result(\n"
     ]
    },
    {
     "name": "stdout",
     "output_type": "stream",
     "text": [
      "Régression Logistique:\n",
      "Accuracy :  0.6345\n",
      "Précision :  0.10568031704095113\n",
      "Rappel :  0.5970149253731343\n",
      "F1-Score :  0.17957351290684623\n",
      "\n",
      "Arbre de Décision:\n",
      "Accuracy :  0.585\n",
      "Précision :  0.09250585480093677\n",
      "Rappel :  0.5895522388059702\n",
      "F1-Score :  0.15991902834008098\n",
      "\n",
      "Forêt Aléatoire:\n",
      "Accuracy :  0.64\n",
      "Précision :  0.10828877005347594\n",
      "Rappel :  0.6044776119402985\n",
      "F1-Score :  0.1836734693877551\n",
      "\n",
      "XGBoost:\n",
      "Accuracy :  0.6265\n",
      "Précision :  0.1034928848641656\n",
      "Rappel :  0.5970149253731343\n",
      "F1-Score :  0.17640573318632854\n",
      "\n",
      "Dummy:\n",
      "Accuracy :  0.933\n",
      "Précision :  0.0\n",
      "Rappel :  0.0\n",
      "F1-Score :  0.0\n"
     ]
    },
    {
     "name": "stderr",
     "output_type": "stream",
     "text": [
      "/opt/anaconda3/lib/python3.9/site-packages/sklearn/metrics/_classification.py:1344: UndefinedMetricWarning: Precision is ill-defined and being set to 0.0 due to no predicted samples. Use `zero_division` parameter to control this behavior.\n",
      "  _warn_prf(average, modifier, msg_start, len(result))\n"
     ]
    }
   ],
   "source": [
    "# Régression Logistique\n",
    "lr = LogisticRegression(random_state=42)\n",
    "lr.fit(X_train_scaled, y_train)\n",
    "y_pred_lr = lr.predict(X_test_scaled)\n",
    "accuracy_lr = accuracy_score(y_test, y_pred_lr)\n",
    "precision_lr = precision_score(y_test, y_pred_lr)\n",
    "recall_lr = recall_score(y_test, y_pred_lr)\n",
    "f1_lr = f1_score(y_test, y_pred_lr)\n",
    "\n",
    "# Arbre de Décision\n",
    "dt = DecisionTreeClassifier(random_state=42)\n",
    "dt.fit(X_train_scaled, y_train)\n",
    "y_pred_dt = dt.predict(X_test_scaled)\n",
    "accuracy_dt = accuracy_score(y_test, y_pred_dt)\n",
    "precision_dt = precision_score(y_test, y_pred_dt)\n",
    "recall_dt = recall_score(y_test, y_pred_dt)\n",
    "f1_dt = f1_score(y_test, y_pred_dt)\n",
    "\n",
    "# Forêt Aléatoire\n",
    "rf = RandomForestClassifier(random_state=42)\n",
    "rf.fit(X_train_scaled, y_train)\n",
    "y_pred_rf = rf.predict(X_test_scaled)\n",
    "accuracy_rf = accuracy_score(y_test, y_pred_rf)\n",
    "precision_rf = precision_score(y_test, y_pred_rf)\n",
    "recall_rf = recall_score(y_test, y_pred_rf)\n",
    "f1_rf = f1_score(y_test, y_pred_rf)\n",
    "\n",
    "# XGBoost\n",
    "xgb = XGBClassifier(random_state=42)\n",
    "xgb.fit(X_train_scaled, y_train)\n",
    "y_pred_xgb = xgb.predict(X_test_scaled)\n",
    "accuracy_xgb = accuracy_score(y_test, y_pred_xgb)\n",
    "precision_xgb = precision_score(y_test, y_pred_xgb)\n",
    "recall_xgb = recall_score(y_test, y_pred_xgb)\n",
    "f1_xgb = f1_score(y_test, y_pred_xgb)\n",
    "\n",
    "# DummyClassifier\n",
    "dummy = DummyClassifier(random_state=42)\n",
    "dummy.fit(X_train_scaled, y_train)\n",
    "y_pred_dummy = dummy.predict(X_test_scaled)\n",
    "accuracy_dummy = accuracy_score(y_test, y_pred_dummy)\n",
    "precision_dummy = precision_score(y_test, y_pred_dummy)\n",
    "recall_dummy = recall_score(y_test, y_pred_dummy)\n",
    "f1_dummy = f1_score(y_test, y_pred_dummy)\n",
    "\n",
    "# SVC\n",
    "#svc.fit(X_train_scaled, y_train)\n",
    "#y_pred_svc = svc.predict(X_test_scaled)\n",
    "#accuracy_svc = accuracy_score(y_test, y_pred_svc)\n",
    "#precision_svc = precision_score(y_test, y_pred_svc)\n",
    "#recall_svc = recall_score(y_test, y_pred_svc)\n",
    "#f1_svc = f1_score(y_test, y_pred_svc)\n",
    "\n",
    "# Afficher les résultats\n",
    "print(\"Régression Logistique:\")\n",
    "print(\"Accuracy : \", accuracy_lr)\n",
    "print(\"Précision : \", precision_lr)\n",
    "print(\"Rappel : \", recall_lr)\n",
    "print(\"F1-Score : \", f1_lr)\n",
    "print()\n",
    "print(\"Arbre de Décision:\")\n",
    "print(\"Accuracy : \", accuracy_dt)\n",
    "print(\"Précision : \", precision_dt)\n",
    "print(\"Rappel : \", recall_dt)\n",
    "print(\"F1-Score : \", f1_dt)\n",
    "print()\n",
    "print(\"Forêt Aléatoire:\")\n",
    "print(\"Accuracy : \", accuracy_rf)\n",
    "print(\"Précision : \", precision_rf)\n",
    "print(\"Rappel : \", recall_rf)\n",
    "print(\"F1-Score : \", f1_rf)\n",
    "print()\n",
    "print(\"XGBoost:\")\n",
    "print(\"Accuracy : \", accuracy_xgb)\n",
    "print(\"Précision : \", precision_xgb)\n",
    "print(\"Rappel : \", recall_xgb)\n",
    "print(\"F1-Score : \", f1_xgb)\n",
    "print()\n",
    "print(\"Dummy:\")\n",
    "print(\"Accuracy : \", accuracy_dummy)\n",
    "print(\"Précision : \", precision_dummy)\n",
    "print(\"Rappel : \", recall_dummy)\n",
    "print(\"F1-Score : \", f1_dummy)"
   ]
  },
  {
   "cell_type": "code",
   "execution_count": null,
   "id": "f2c28a4f",
   "metadata": {},
   "outputs": [],
   "source": []
  },
  {
   "cell_type": "code",
   "execution_count": 143,
   "id": "0e813240",
   "metadata": {},
   "outputs": [
    {
     "name": "stdout",
     "output_type": "stream",
     "text": [
      "                   Modèle  Accuracy  Précision    Rappel  F1-Score  \\\n",
      "0   Régression Logistique    0.6345   0.108289  0.597015  0.179574   \n",
      "1  DecisionTreeClassifier    0.5850   0.092506  0.589552  0.159919   \n",
      "2  RandomForestClassifier    0.6400   0.108289  0.604478  0.183673   \n",
      "3                 XGBoost    0.6265   0.103493  0.597015  0.176406   \n",
      "4         DummyClassifier    0.9330   0.000000  0.000000  0.000000   \n",
      "\n",
      "   Coût risqué  \n",
      "0         1176  \n",
      "1         1372  \n",
      "2         1153  \n",
      "3         1233  \n",
      "4         1340  \n"
     ]
    }
   ],
   "source": [
    "import pandas as pd\n",
    "\n",
    "# Création d'un dictionnaire de données avec 6 colonnes\n",
    "data = {\n",
    "        'Modèle': ['Régression Logistique', 'DecisionTreeClassifier', 'RandomForestClassifier', 'XGBoost', 'DummyClassifier'],\n",
    "        'Accuracy': [accuracy_lr, accuracy_dt, accuracy_rf, accuracy_xgb, accuracy_dummy],\n",
    "        'Précision': [precision_rf, precision_dt, precision_rf, precision_xgb, precision_dummy],\n",
    "        'Rappel': [recall_lr, recall_dt, recall_rf, recall_xgb, recall_dummy],\n",
    "        'F1-Score': [f1_lr, f1_dt, f1_rf, f1_xgb, f1_dummy],\n",
    "        'Coût risqué': [cost_lr, cost_dt, cost_rf, cost_xgb, cost_dummy]\n",
    "       }\n",
    "\n",
    "# Création du DataFrame à partir du dictionnaire de données\n",
    "df_comparaison = pd.DataFrame(data)\n",
    "\n",
    "# Affichage du DataFrame\n",
    "print(df_comparaison)"
   ]
  },
  {
   "cell_type": "code",
   "execution_count": 144,
   "id": "6719d0f5",
   "metadata": {},
   "outputs": [
    {
     "data": {
      "text/html": [
       "<div>\n",
       "<style scoped>\n",
       "    .dataframe tbody tr th:only-of-type {\n",
       "        vertical-align: middle;\n",
       "    }\n",
       "\n",
       "    .dataframe tbody tr th {\n",
       "        vertical-align: top;\n",
       "    }\n",
       "\n",
       "    .dataframe thead th {\n",
       "        text-align: right;\n",
       "    }\n",
       "</style>\n",
       "<table border=\"1\" class=\"dataframe\">\n",
       "  <thead>\n",
       "    <tr style=\"text-align: right;\">\n",
       "      <th></th>\n",
       "      <th>Modèle</th>\n",
       "      <th>Accuracy</th>\n",
       "      <th>Précision</th>\n",
       "      <th>Rappel</th>\n",
       "      <th>F1-Score</th>\n",
       "      <th>Coût risqué</th>\n",
       "    </tr>\n",
       "  </thead>\n",
       "  <tbody>\n",
       "    <tr>\n",
       "      <th>0</th>\n",
       "      <td>Régression Logistique</td>\n",
       "      <td>0.6345</td>\n",
       "      <td>0.108289</td>\n",
       "      <td>0.597015</td>\n",
       "      <td>0.179574</td>\n",
       "      <td>1176</td>\n",
       "    </tr>\n",
       "    <tr>\n",
       "      <th>1</th>\n",
       "      <td>DecisionTreeClassifier</td>\n",
       "      <td>0.5850</td>\n",
       "      <td>0.092506</td>\n",
       "      <td>0.589552</td>\n",
       "      <td>0.159919</td>\n",
       "      <td>1372</td>\n",
       "    </tr>\n",
       "    <tr>\n",
       "      <th>2</th>\n",
       "      <td>RandomForestClassifier</td>\n",
       "      <td>0.6400</td>\n",
       "      <td>0.108289</td>\n",
       "      <td>0.604478</td>\n",
       "      <td>0.183673</td>\n",
       "      <td>1153</td>\n",
       "    </tr>\n",
       "    <tr>\n",
       "      <th>3</th>\n",
       "      <td>XGBoost</td>\n",
       "      <td>0.6265</td>\n",
       "      <td>0.103493</td>\n",
       "      <td>0.597015</td>\n",
       "      <td>0.176406</td>\n",
       "      <td>1233</td>\n",
       "    </tr>\n",
       "    <tr>\n",
       "      <th>4</th>\n",
       "      <td>DummyClassifier</td>\n",
       "      <td>0.9330</td>\n",
       "      <td>0.000000</td>\n",
       "      <td>0.000000</td>\n",
       "      <td>0.000000</td>\n",
       "      <td>1340</td>\n",
       "    </tr>\n",
       "  </tbody>\n",
       "</table>\n",
       "</div>"
      ],
      "text/plain": [
       "                   Modèle  Accuracy  Précision    Rappel  F1-Score  \\\n",
       "0   Régression Logistique    0.6345   0.108289  0.597015  0.179574   \n",
       "1  DecisionTreeClassifier    0.5850   0.092506  0.589552  0.159919   \n",
       "2  RandomForestClassifier    0.6400   0.108289  0.604478  0.183673   \n",
       "3                 XGBoost    0.6265   0.103493  0.597015  0.176406   \n",
       "4         DummyClassifier    0.9330   0.000000  0.000000  0.000000   \n",
       "\n",
       "   Coût risqué  \n",
       "0         1176  \n",
       "1         1372  \n",
       "2         1153  \n",
       "3         1233  \n",
       "4         1340  "
      ]
     },
     "execution_count": 144,
     "metadata": {},
     "output_type": "execute_result"
    }
   ],
   "source": [
    "df_comparaison.head()"
   ]
  },
  {
   "cell_type": "code",
   "execution_count": 145,
   "id": "ad04b1c3",
   "metadata": {},
   "outputs": [
    {
     "data": {
      "image/png": "[encoded data removed]",
      "text/plain": [
       "<Figure size 640x480 with 1 Axes>"
      ]
     },
     "metadata": {},
     "output_type": "display_data"
    }
   ],
   "source": [
    "# Tracé d'un graphique à barres\n",
    "plt.bar(df_comparaison['Modèle'], df_comparaison['Coût risqué'])\n",
    "plt.title('Représentation des coûts en risque pour chaque modèle')\n",
    "plt.xlabel('Modèle')\n",
    "plt.ylabel('Coût risqué')\n",
    "plt.xticks(rotation=90)\n",
    "plt.show()"
   ]
  },
  {
   "cell_type": "markdown",
   "id": "0f5d2821",
   "metadata": {},
   "source": [
    "# Réintégration de la colonne SK_ID_CURR"
   ]
  },
  {
   "cell_type": "code",
   "execution_count": 146,
   "id": "d435ef32",
   "metadata": {},
   "outputs": [
    {
     "name": "stdout",
     "output_type": "stream",
     "text": [
      "Index(['TARGET', 'PREV_NAME_CONTRACT_STATUS_Refused_MEAN',\n",
      "       'BURO_DAYS_CREDIT_MEAN', 'PREV_CODE_REJECT_REASON_HC_MEAN',\n",
      "       'CC_CNT_DRAWINGS_ATM_CURRENT_MEAN', 'CLOSED_DAYS_CREDIT_MIN',\n",
      "       'BURO_DAYS_CREDIT_UPDATE_MEAN', 'PREV_NAME_PRODUCT_TYPE_walk-in_MEAN',\n",
      "       'BURO_DAYS_CREDIT_MIN', 'NAME_INCOME_TYPE_Working',\n",
      "       ...\n",
      "       'FLAG_DOCUMENT_15', 'CC_NAME_CONTRACT_STATUS_Signed_VAR',\n",
      "       'AMT_REQ_CREDIT_BUREAU_DAY', 'CC_AMT_PAYMENT_TOTAL_CURRENT_SUM',\n",
      "       'PREV_NAME_CASH_LOAN_PURPOSE_Buying a new car_MEAN',\n",
      "       'NAME_TYPE_SUITE_Other_B', 'CC_CNT_DRAWINGS_CURRENT_VAR',\n",
      "       'CC_AMT_PAYMENT_CURRENT_SUM', 'PREV_NAME_GOODS_CATEGORY_Mobile_MEAN',\n",
      "       'CC_AMT_PAYMENT_TOTAL_CURRENT_VAR'],\n",
      "      dtype='object', length=200)\n"
     ]
    }
   ],
   "source": [
    "print(df.columns)"
   ]
  },
  {
   "cell_type": "code",
   "execution_count": 147,
   "id": "1d9cfd57",
   "metadata": {},
   "outputs": [
    {
     "data": {
      "text/html": [
       "<div>\n",
       "<style scoped>\n",
       "    .dataframe tbody tr th:only-of-type {\n",
       "        vertical-align: middle;\n",
       "    }\n",
       "\n",
       "    .dataframe tbody tr th {\n",
       "        vertical-align: top;\n",
       "    }\n",
       "\n",
       "    .dataframe thead th {\n",
       "        text-align: right;\n",
       "    }\n",
       "</style>\n",
       "<table border=\"1\" class=\"dataframe\">\n",
       "  <thead>\n",
       "    <tr style=\"text-align: right;\">\n",
       "      <th></th>\n",
       "      <th>SK_ID_CURR</th>\n",
       "      <th>TARGET</th>\n",
       "      <th>PREV_NAME_CONTRACT_STATUS_Refused_MEAN</th>\n",
       "      <th>BURO_DAYS_CREDIT_MEAN</th>\n",
       "      <th>PREV_CODE_REJECT_REASON_HC_MEAN</th>\n",
       "      <th>CC_CNT_DRAWINGS_ATM_CURRENT_MEAN</th>\n",
       "      <th>CLOSED_DAYS_CREDIT_MIN</th>\n",
       "      <th>BURO_DAYS_CREDIT_UPDATE_MEAN</th>\n",
       "      <th>PREV_NAME_PRODUCT_TYPE_walk-in_MEAN</th>\n",
       "      <th>BURO_DAYS_CREDIT_MIN</th>\n",
       "      <th>...</th>\n",
       "      <th>FLAG_DOCUMENT_15</th>\n",
       "      <th>CC_NAME_CONTRACT_STATUS_Signed_VAR</th>\n",
       "      <th>AMT_REQ_CREDIT_BUREAU_DAY</th>\n",
       "      <th>CC_AMT_PAYMENT_TOTAL_CURRENT_SUM</th>\n",
       "      <th>PREV_NAME_CASH_LOAN_PURPOSE_Buying a new car_MEAN</th>\n",
       "      <th>NAME_TYPE_SUITE_Other_B</th>\n",
       "      <th>CC_CNT_DRAWINGS_CURRENT_VAR</th>\n",
       "      <th>CC_AMT_PAYMENT_CURRENT_SUM</th>\n",
       "      <th>PREV_NAME_GOODS_CATEGORY_Mobile_MEAN</th>\n",
       "      <th>CC_AMT_PAYMENT_TOTAL_CURRENT_VAR</th>\n",
       "    </tr>\n",
       "  </thead>\n",
       "  <tbody>\n",
       "    <tr>\n",
       "      <th>0</th>\n",
       "      <td>180141.0</td>\n",
       "      <td>0</td>\n",
       "      <td>0.000000</td>\n",
       "      <td>-1117.000</td>\n",
       "      <td>0.000000</td>\n",
       "      <td>0.0</td>\n",
       "      <td>-2275.0</td>\n",
       "      <td>-360.000</td>\n",
       "      <td>0.000000</td>\n",
       "      <td>-2275.0</td>\n",
       "      <td>...</td>\n",
       "      <td>0.0</td>\n",
       "      <td>0.0</td>\n",
       "      <td>0.0</td>\n",
       "      <td>0.0</td>\n",
       "      <td>0.0</td>\n",
       "      <td>0.0</td>\n",
       "      <td>0.0</td>\n",
       "      <td>0.0</td>\n",
       "      <td>0.000000</td>\n",
       "      <td>0.0</td>\n",
       "    </tr>\n",
       "    <tr>\n",
       "      <th>1</th>\n",
       "      <td>316939.0</td>\n",
       "      <td>0</td>\n",
       "      <td>0.000000</td>\n",
       "      <td>-542.800</td>\n",
       "      <td>0.000000</td>\n",
       "      <td>0.0</td>\n",
       "      <td>-1069.0</td>\n",
       "      <td>-181.400</td>\n",
       "      <td>0.000000</td>\n",
       "      <td>-1069.0</td>\n",
       "      <td>...</td>\n",
       "      <td>0.0</td>\n",
       "      <td>0.0</td>\n",
       "      <td>0.0</td>\n",
       "      <td>0.0</td>\n",
       "      <td>0.0</td>\n",
       "      <td>0.0</td>\n",
       "      <td>0.0</td>\n",
       "      <td>0.0</td>\n",
       "      <td>0.000000</td>\n",
       "      <td>0.0</td>\n",
       "    </tr>\n",
       "    <tr>\n",
       "      <th>2</th>\n",
       "      <td>381085.0</td>\n",
       "      <td>0</td>\n",
       "      <td>0.000000</td>\n",
       "      <td>0.000</td>\n",
       "      <td>0.000000</td>\n",
       "      <td>0.0</td>\n",
       "      <td>0.0</td>\n",
       "      <td>0.000</td>\n",
       "      <td>0.333333</td>\n",
       "      <td>0.0</td>\n",
       "      <td>...</td>\n",
       "      <td>0.0</td>\n",
       "      <td>0.0</td>\n",
       "      <td>0.0</td>\n",
       "      <td>0.0</td>\n",
       "      <td>0.0</td>\n",
       "      <td>0.0</td>\n",
       "      <td>0.0</td>\n",
       "      <td>0.0</td>\n",
       "      <td>0.333333</td>\n",
       "      <td>0.0</td>\n",
       "    </tr>\n",
       "    <tr>\n",
       "      <th>3</th>\n",
       "      <td>289364.0</td>\n",
       "      <td>1</td>\n",
       "      <td>0.333333</td>\n",
       "      <td>-1313.375</td>\n",
       "      <td>0.333333</td>\n",
       "      <td>0.0</td>\n",
       "      <td>-2848.0</td>\n",
       "      <td>-859.125</td>\n",
       "      <td>0.000000</td>\n",
       "      <td>-2848.0</td>\n",
       "      <td>...</td>\n",
       "      <td>0.0</td>\n",
       "      <td>0.0</td>\n",
       "      <td>0.0</td>\n",
       "      <td>0.0</td>\n",
       "      <td>0.0</td>\n",
       "      <td>0.0</td>\n",
       "      <td>0.0</td>\n",
       "      <td>0.0</td>\n",
       "      <td>0.000000</td>\n",
       "      <td>0.0</td>\n",
       "    </tr>\n",
       "    <tr>\n",
       "      <th>4</th>\n",
       "      <td>290361.0</td>\n",
       "      <td>1</td>\n",
       "      <td>0.000000</td>\n",
       "      <td>-516.000</td>\n",
       "      <td>0.000000</td>\n",
       "      <td>0.0</td>\n",
       "      <td>-516.0</td>\n",
       "      <td>-333.000</td>\n",
       "      <td>0.000000</td>\n",
       "      <td>-516.0</td>\n",
       "      <td>...</td>\n",
       "      <td>0.0</td>\n",
       "      <td>0.0</td>\n",
       "      <td>0.0</td>\n",
       "      <td>0.0</td>\n",
       "      <td>0.0</td>\n",
       "      <td>0.0</td>\n",
       "      <td>0.0</td>\n",
       "      <td>0.0</td>\n",
       "      <td>0.000000</td>\n",
       "      <td>0.0</td>\n",
       "    </tr>\n",
       "  </tbody>\n",
       "</table>\n",
       "<p>5 rows × 201 columns</p>\n",
       "</div>"
      ],
      "text/plain": [
       "   SK_ID_CURR  TARGET  PREV_NAME_CONTRACT_STATUS_Refused_MEAN  \\\n",
       "0    180141.0       0                                0.000000   \n",
       "1    316939.0       0                                0.000000   \n",
       "2    381085.0       0                                0.000000   \n",
       "3    289364.0       1                                0.333333   \n",
       "4    290361.0       1                                0.000000   \n",
       "\n",
       "   BURO_DAYS_CREDIT_MEAN  PREV_CODE_REJECT_REASON_HC_MEAN  \\\n",
       "0              -1117.000                         0.000000   \n",
       "1               -542.800                         0.000000   \n",
       "2                  0.000                         0.000000   \n",
       "3              -1313.375                         0.333333   \n",
       "4               -516.000                         0.000000   \n",
       "\n",
       "   CC_CNT_DRAWINGS_ATM_CURRENT_MEAN  CLOSED_DAYS_CREDIT_MIN  \\\n",
       "0                               0.0                 -2275.0   \n",
       "1                               0.0                 -1069.0   \n",
       "2                               0.0                     0.0   \n",
       "3                               0.0                 -2848.0   \n",
       "4                               0.0                  -516.0   \n",
       "\n",
       "   BURO_DAYS_CREDIT_UPDATE_MEAN  PREV_NAME_PRODUCT_TYPE_walk-in_MEAN  \\\n",
       "0                      -360.000                             0.000000   \n",
       "1                      -181.400                             0.000000   \n",
       "2                         0.000                             0.333333   \n",
       "3                      -859.125                             0.000000   \n",
       "4                      -333.000                             0.000000   \n",
       "\n",
       "   BURO_DAYS_CREDIT_MIN  ...  FLAG_DOCUMENT_15  \\\n",
       "0               -2275.0  ...               0.0   \n",
       "1               -1069.0  ...               0.0   \n",
       "2                   0.0  ...               0.0   \n",
       "3               -2848.0  ...               0.0   \n",
       "4                -516.0  ...               0.0   \n",
       "\n",
       "   CC_NAME_CONTRACT_STATUS_Signed_VAR  AMT_REQ_CREDIT_BUREAU_DAY  \\\n",
       "0                                 0.0                        0.0   \n",
       "1                                 0.0                        0.0   \n",
       "2                                 0.0                        0.0   \n",
       "3                                 0.0                        0.0   \n",
       "4                                 0.0                        0.0   \n",
       "\n",
       "   CC_AMT_PAYMENT_TOTAL_CURRENT_SUM  \\\n",
       "0                               0.0   \n",
       "1                               0.0   \n",
       "2                               0.0   \n",
       "3                               0.0   \n",
       "4                               0.0   \n",
       "\n",
       "   PREV_NAME_CASH_LOAN_PURPOSE_Buying a new car_MEAN  NAME_TYPE_SUITE_Other_B  \\\n",
       "0                                                0.0                      0.0   \n",
       "1                                                0.0                      0.0   \n",
       "2                                                0.0                      0.0   \n",
       "3                                                0.0                      0.0   \n",
       "4                                                0.0                      0.0   \n",
       "\n",
       "   CC_CNT_DRAWINGS_CURRENT_VAR  CC_AMT_PAYMENT_CURRENT_SUM  \\\n",
       "0                          0.0                         0.0   \n",
       "1                          0.0                         0.0   \n",
       "2                          0.0                         0.0   \n",
       "3                          0.0                         0.0   \n",
       "4                          0.0                         0.0   \n",
       "\n",
       "   PREV_NAME_GOODS_CATEGORY_Mobile_MEAN  CC_AMT_PAYMENT_TOTAL_CURRENT_VAR  \n",
       "0                              0.000000                               0.0  \n",
       "1                              0.000000                               0.0  \n",
       "2                              0.333333                               0.0  \n",
       "3                              0.000000                               0.0  \n",
       "4                              0.000000                               0.0  \n",
       "\n",
       "[5 rows x 201 columns]"
      ]
     },
     "execution_count": 147,
     "metadata": {},
     "output_type": "execute_result"
    }
   ],
   "source": [
    "# Réintégrer la colonne \"Identifiant client\" dans votre DataFrame\n",
    "df.insert(loc=0, column=\"SK_ID_CURR\", value=df0[\"SK_ID_CURR\"])\n",
    "df.head()"
   ]
  },
  {
   "cell_type": "markdown",
   "id": "adab141c",
   "metadata": {},
   "source": [
    "# Ajout d'une colonne donnant l'âge en valeur absolue"
   ]
  },
  {
   "cell_type": "code",
   "execution_count": 148,
   "id": "89fafd2b",
   "metadata": {},
   "outputs": [
    {
     "data": {
      "text/html": [
       "<div>\n",
       "<style scoped>\n",
       "    .dataframe tbody tr th:only-of-type {\n",
       "        vertical-align: middle;\n",
       "    }\n",
       "\n",
       "    .dataframe tbody tr th {\n",
       "        vertical-align: top;\n",
       "    }\n",
       "\n",
       "    .dataframe thead th {\n",
       "        text-align: right;\n",
       "    }\n",
       "</style>\n",
       "<table border=\"1\" class=\"dataframe\">\n",
       "  <thead>\n",
       "    <tr style=\"text-align: right;\">\n",
       "      <th></th>\n",
       "      <th>SK_ID_CURR</th>\n",
       "      <th>TARGET</th>\n",
       "      <th>PREV_NAME_CONTRACT_STATUS_Refused_MEAN</th>\n",
       "      <th>BURO_DAYS_CREDIT_MEAN</th>\n",
       "      <th>PREV_CODE_REJECT_REASON_HC_MEAN</th>\n",
       "      <th>CC_CNT_DRAWINGS_ATM_CURRENT_MEAN</th>\n",
       "      <th>CLOSED_DAYS_CREDIT_MIN</th>\n",
       "      <th>BURO_DAYS_CREDIT_UPDATE_MEAN</th>\n",
       "      <th>PREV_NAME_PRODUCT_TYPE_walk-in_MEAN</th>\n",
       "      <th>BURO_DAYS_CREDIT_MIN</th>\n",
       "      <th>...</th>\n",
       "      <th>CC_NAME_CONTRACT_STATUS_Signed_VAR</th>\n",
       "      <th>AMT_REQ_CREDIT_BUREAU_DAY</th>\n",
       "      <th>CC_AMT_PAYMENT_TOTAL_CURRENT_SUM</th>\n",
       "      <th>PREV_NAME_CASH_LOAN_PURPOSE_Buying a new car_MEAN</th>\n",
       "      <th>NAME_TYPE_SUITE_Other_B</th>\n",
       "      <th>CC_CNT_DRAWINGS_CURRENT_VAR</th>\n",
       "      <th>CC_AMT_PAYMENT_CURRENT_SUM</th>\n",
       "      <th>PREV_NAME_GOODS_CATEGORY_Mobile_MEAN</th>\n",
       "      <th>CC_AMT_PAYMENT_TOTAL_CURRENT_VAR</th>\n",
       "      <th>AGE</th>\n",
       "    </tr>\n",
       "  </thead>\n",
       "  <tbody>\n",
       "    <tr>\n",
       "      <th>0</th>\n",
       "      <td>180141.0</td>\n",
       "      <td>0</td>\n",
       "      <td>0.000000</td>\n",
       "      <td>-1117.000</td>\n",
       "      <td>0.000000</td>\n",
       "      <td>0.0</td>\n",
       "      <td>-2275.0</td>\n",
       "      <td>-360.000</td>\n",
       "      <td>0.000000</td>\n",
       "      <td>-2275.0</td>\n",
       "      <td>...</td>\n",
       "      <td>0.0</td>\n",
       "      <td>0.0</td>\n",
       "      <td>0.0</td>\n",
       "      <td>0.0</td>\n",
       "      <td>0.0</td>\n",
       "      <td>0.0</td>\n",
       "      <td>0.0</td>\n",
       "      <td>0.000000</td>\n",
       "      <td>0.0</td>\n",
       "      <td>53.0</td>\n",
       "    </tr>\n",
       "    <tr>\n",
       "      <th>1</th>\n",
       "      <td>316939.0</td>\n",
       "      <td>0</td>\n",
       "      <td>0.000000</td>\n",
       "      <td>-542.800</td>\n",
       "      <td>0.000000</td>\n",
       "      <td>0.0</td>\n",
       "      <td>-1069.0</td>\n",
       "      <td>-181.400</td>\n",
       "      <td>0.000000</td>\n",
       "      <td>-1069.0</td>\n",
       "      <td>...</td>\n",
       "      <td>0.0</td>\n",
       "      <td>0.0</td>\n",
       "      <td>0.0</td>\n",
       "      <td>0.0</td>\n",
       "      <td>0.0</td>\n",
       "      <td>0.0</td>\n",
       "      <td>0.0</td>\n",
       "      <td>0.000000</td>\n",
       "      <td>0.0</td>\n",
       "      <td>46.0</td>\n",
       "    </tr>\n",
       "    <tr>\n",
       "      <th>2</th>\n",
       "      <td>381085.0</td>\n",
       "      <td>0</td>\n",
       "      <td>0.000000</td>\n",
       "      <td>0.000</td>\n",
       "      <td>0.000000</td>\n",
       "      <td>0.0</td>\n",
       "      <td>0.0</td>\n",
       "      <td>0.000</td>\n",
       "      <td>0.333333</td>\n",
       "      <td>0.0</td>\n",
       "      <td>...</td>\n",
       "      <td>0.0</td>\n",
       "      <td>0.0</td>\n",
       "      <td>0.0</td>\n",
       "      <td>0.0</td>\n",
       "      <td>0.0</td>\n",
       "      <td>0.0</td>\n",
       "      <td>0.0</td>\n",
       "      <td>0.333333</td>\n",
       "      <td>0.0</td>\n",
       "      <td>31.0</td>\n",
       "    </tr>\n",
       "    <tr>\n",
       "      <th>3</th>\n",
       "      <td>289364.0</td>\n",
       "      <td>1</td>\n",
       "      <td>0.333333</td>\n",
       "      <td>-1313.375</td>\n",
       "      <td>0.333333</td>\n",
       "      <td>0.0</td>\n",
       "      <td>-2848.0</td>\n",
       "      <td>-859.125</td>\n",
       "      <td>0.000000</td>\n",
       "      <td>-2848.0</td>\n",
       "      <td>...</td>\n",
       "      <td>0.0</td>\n",
       "      <td>0.0</td>\n",
       "      <td>0.0</td>\n",
       "      <td>0.0</td>\n",
       "      <td>0.0</td>\n",
       "      <td>0.0</td>\n",
       "      <td>0.0</td>\n",
       "      <td>0.000000</td>\n",
       "      <td>0.0</td>\n",
       "      <td>62.0</td>\n",
       "    </tr>\n",
       "    <tr>\n",
       "      <th>4</th>\n",
       "      <td>290361.0</td>\n",
       "      <td>1</td>\n",
       "      <td>0.000000</td>\n",
       "      <td>-516.000</td>\n",
       "      <td>0.000000</td>\n",
       "      <td>0.0</td>\n",
       "      <td>-516.0</td>\n",
       "      <td>-333.000</td>\n",
       "      <td>0.000000</td>\n",
       "      <td>-516.0</td>\n",
       "      <td>...</td>\n",
       "      <td>0.0</td>\n",
       "      <td>0.0</td>\n",
       "      <td>0.0</td>\n",
       "      <td>0.0</td>\n",
       "      <td>0.0</td>\n",
       "      <td>0.0</td>\n",
       "      <td>0.0</td>\n",
       "      <td>0.000000</td>\n",
       "      <td>0.0</td>\n",
       "      <td>27.0</td>\n",
       "    </tr>\n",
       "  </tbody>\n",
       "</table>\n",
       "<p>5 rows × 202 columns</p>\n",
       "</div>"
      ],
      "text/plain": [
       "   SK_ID_CURR  TARGET  PREV_NAME_CONTRACT_STATUS_Refused_MEAN  \\\n",
       "0    180141.0       0                                0.000000   \n",
       "1    316939.0       0                                0.000000   \n",
       "2    381085.0       0                                0.000000   \n",
       "3    289364.0       1                                0.333333   \n",
       "4    290361.0       1                                0.000000   \n",
       "\n",
       "   BURO_DAYS_CREDIT_MEAN  PREV_CODE_REJECT_REASON_HC_MEAN  \\\n",
       "0              -1117.000                         0.000000   \n",
       "1               -542.800                         0.000000   \n",
       "2                  0.000                         0.000000   \n",
       "3              -1313.375                         0.333333   \n",
       "4               -516.000                         0.000000   \n",
       "\n",
       "   CC_CNT_DRAWINGS_ATM_CURRENT_MEAN  CLOSED_DAYS_CREDIT_MIN  \\\n",
       "0                               0.0                 -2275.0   \n",
       "1                               0.0                 -1069.0   \n",
       "2                               0.0                     0.0   \n",
       "3                               0.0                 -2848.0   \n",
       "4                               0.0                  -516.0   \n",
       "\n",
       "   BURO_DAYS_CREDIT_UPDATE_MEAN  PREV_NAME_PRODUCT_TYPE_walk-in_MEAN  \\\n",
       "0                      -360.000                             0.000000   \n",
       "1                      -181.400                             0.000000   \n",
       "2                         0.000                             0.333333   \n",
       "3                      -859.125                             0.000000   \n",
       "4                      -333.000                             0.000000   \n",
       "\n",
       "   BURO_DAYS_CREDIT_MIN  ...  CC_NAME_CONTRACT_STATUS_Signed_VAR  \\\n",
       "0               -2275.0  ...                                 0.0   \n",
       "1               -1069.0  ...                                 0.0   \n",
       "2                   0.0  ...                                 0.0   \n",
       "3               -2848.0  ...                                 0.0   \n",
       "4                -516.0  ...                                 0.0   \n",
       "\n",
       "   AMT_REQ_CREDIT_BUREAU_DAY  CC_AMT_PAYMENT_TOTAL_CURRENT_SUM  \\\n",
       "0                        0.0                               0.0   \n",
       "1                        0.0                               0.0   \n",
       "2                        0.0                               0.0   \n",
       "3                        0.0                               0.0   \n",
       "4                        0.0                               0.0   \n",
       "\n",
       "   PREV_NAME_CASH_LOAN_PURPOSE_Buying a new car_MEAN  NAME_TYPE_SUITE_Other_B  \\\n",
       "0                                                0.0                      0.0   \n",
       "1                                                0.0                      0.0   \n",
       "2                                                0.0                      0.0   \n",
       "3                                                0.0                      0.0   \n",
       "4                                                0.0                      0.0   \n",
       "\n",
       "   CC_CNT_DRAWINGS_CURRENT_VAR  CC_AMT_PAYMENT_CURRENT_SUM  \\\n",
       "0                          0.0                         0.0   \n",
       "1                          0.0                         0.0   \n",
       "2                          0.0                         0.0   \n",
       "3                          0.0                         0.0   \n",
       "4                          0.0                         0.0   \n",
       "\n",
       "   PREV_NAME_GOODS_CATEGORY_Mobile_MEAN  CC_AMT_PAYMENT_TOTAL_CURRENT_VAR  \\\n",
       "0                              0.000000                               0.0   \n",
       "1                              0.000000                               0.0   \n",
       "2                              0.333333                               0.0   \n",
       "3                              0.000000                               0.0   \n",
       "4                              0.000000                               0.0   \n",
       "\n",
       "    AGE  \n",
       "0  53.0  \n",
       "1  46.0  \n",
       "2  31.0  \n",
       "3  62.0  \n",
       "4  27.0  \n",
       "\n",
       "[5 rows x 202 columns]"
      ]
     },
     "execution_count": 148,
     "metadata": {},
     "output_type": "execute_result"
    }
   ],
   "source": [
    "# Convertir les jours en années en utilisant la valeur absolue\n",
    "df['AGE'] = abs(df['DAYS_BIRTH']) // 365\n",
    "df.head()"
   ]
  },
  {
   "cell_type": "code",
   "execution_count": 149,
   "id": "c843e095",
   "metadata": {},
   "outputs": [
    {
     "name": "stdout",
     "output_type": "stream",
     "text": [
      "Index(['SK_ID_CURR', 'TARGET', 'PREV_NAME_CONTRACT_STATUS_Refused_MEAN',\n",
      "       'BURO_DAYS_CREDIT_MEAN', 'PREV_CODE_REJECT_REASON_HC_MEAN',\n",
      "       'CC_CNT_DRAWINGS_ATM_CURRENT_MEAN', 'CLOSED_DAYS_CREDIT_MIN',\n",
      "       'BURO_DAYS_CREDIT_UPDATE_MEAN', 'PREV_NAME_PRODUCT_TYPE_walk-in_MEAN',\n",
      "       'BURO_DAYS_CREDIT_MIN',\n",
      "       ...\n",
      "       'CC_NAME_CONTRACT_STATUS_Signed_VAR', 'AMT_REQ_CREDIT_BUREAU_DAY',\n",
      "       'CC_AMT_PAYMENT_TOTAL_CURRENT_SUM',\n",
      "       'PREV_NAME_CASH_LOAN_PURPOSE_Buying a new car_MEAN',\n",
      "       'NAME_TYPE_SUITE_Other_B', 'CC_CNT_DRAWINGS_CURRENT_VAR',\n",
      "       'CC_AMT_PAYMENT_CURRENT_SUM', 'PREV_NAME_GOODS_CATEGORY_Mobile_MEAN',\n",
      "       'CC_AMT_PAYMENT_TOTAL_CURRENT_VAR', 'AGE'],\n",
      "      dtype='object', length=202)\n"
     ]
    }
   ],
   "source": [
    "print(df.columns)"
   ]
  },
  {
   "cell_type": "markdown",
   "id": "b6acf90b",
   "metadata": {},
   "source": [
    "# Sauvegarde du modèle de prédiction"
   ]
  },
  {
   "cell_type": "code",
   "execution_count": 150,
   "id": "c57c30b7",
   "metadata": {},
   "outputs": [],
   "source": [
    "from pickle import dump, load\n",
    "with open(\"model.pickle\", \"wb\") as file:\n",
    "    dump(xgb,file)"
   ]
  },
  {
   "cell_type": "code",
   "execution_count": 151,
   "id": "430914d7",
   "metadata": {},
   "outputs": [],
   "source": [
    "with open(\"model.pickle\", \"rb\") as file:\n",
    "    model=load(file)"
   ]
  },
  {
   "cell_type": "code",
   "execution_count": null,
   "id": "b81cd468",
   "metadata": {},
   "outputs": [],
   "source": []
  },
  {
   "cell_type": "code",
   "execution_count": 152,
   "id": "f5bb3b19",
   "metadata": {},
   "outputs": [
    {
     "name": "stdout",
     "output_type": "stream",
     "text": [
      "Index(['SK_ID_CURR', 'TARGET', 'PREV_NAME_CONTRACT_STATUS_Refused_MEAN',\n",
      "       'BURO_DAYS_CREDIT_MEAN', 'PREV_CODE_REJECT_REASON_HC_MEAN',\n",
      "       'CC_CNT_DRAWINGS_ATM_CURRENT_MEAN', 'CLOSED_DAYS_CREDIT_MIN',\n",
      "       'BURO_DAYS_CREDIT_UPDATE_MEAN', 'PREV_NAME_PRODUCT_TYPE_walk-in_MEAN',\n",
      "       'BURO_DAYS_CREDIT_MIN',\n",
      "       ...\n",
      "       'CC_NAME_CONTRACT_STATUS_Signed_VAR', 'AMT_REQ_CREDIT_BUREAU_DAY',\n",
      "       'CC_AMT_PAYMENT_TOTAL_CURRENT_SUM',\n",
      "       'PREV_NAME_CASH_LOAN_PURPOSE_Buying a new car_MEAN',\n",
      "       'NAME_TYPE_SUITE_Other_B', 'CC_CNT_DRAWINGS_CURRENT_VAR',\n",
      "       'CC_AMT_PAYMENT_CURRENT_SUM', 'PREV_NAME_GOODS_CATEGORY_Mobile_MEAN',\n",
      "       'CC_AMT_PAYMENT_TOTAL_CURRENT_VAR', 'AGE'],\n",
      "      dtype='object', length=202)\n"
     ]
    }
   ],
   "source": [
    "print(df.columns)"
   ]
  },
  {
   "cell_type": "code",
   "execution_count": 153,
   "id": "205f74ea",
   "metadata": {},
   "outputs": [
    {
     "data": {
      "text/html": [
       "<div>\n",
       "<style scoped>\n",
       "    .dataframe tbody tr th:only-of-type {\n",
       "        vertical-align: middle;\n",
       "    }\n",
       "\n",
       "    .dataframe tbody tr th {\n",
       "        vertical-align: top;\n",
       "    }\n",
       "\n",
       "    .dataframe thead th {\n",
       "        text-align: right;\n",
       "    }\n",
       "</style>\n",
       "<table border=\"1\" class=\"dataframe\">\n",
       "  <thead>\n",
       "    <tr style=\"text-align: right;\">\n",
       "      <th></th>\n",
       "      <th>SK_ID_CURR</th>\n",
       "      <th>TARGET</th>\n",
       "      <th>PREV_NAME_CONTRACT_STATUS_Refused_MEAN</th>\n",
       "      <th>BURO_DAYS_CREDIT_MEAN</th>\n",
       "      <th>PREV_CODE_REJECT_REASON_HC_MEAN</th>\n",
       "      <th>CC_CNT_DRAWINGS_ATM_CURRENT_MEAN</th>\n",
       "      <th>CLOSED_DAYS_CREDIT_MIN</th>\n",
       "      <th>BURO_DAYS_CREDIT_UPDATE_MEAN</th>\n",
       "      <th>PREV_NAME_PRODUCT_TYPE_walk-in_MEAN</th>\n",
       "      <th>BURO_DAYS_CREDIT_MIN</th>\n",
       "      <th>...</th>\n",
       "      <th>CC_NAME_CONTRACT_STATUS_Signed_VAR</th>\n",
       "      <th>AMT_REQ_CREDIT_BUREAU_DAY</th>\n",
       "      <th>CC_AMT_PAYMENT_TOTAL_CURRENT_SUM</th>\n",
       "      <th>PREV_NAME_CASH_LOAN_PURPOSE_Buying a new car_MEAN</th>\n",
       "      <th>NAME_TYPE_SUITE_Other_B</th>\n",
       "      <th>CC_CNT_DRAWINGS_CURRENT_VAR</th>\n",
       "      <th>CC_AMT_PAYMENT_CURRENT_SUM</th>\n",
       "      <th>PREV_NAME_GOODS_CATEGORY_Mobile_MEAN</th>\n",
       "      <th>CC_AMT_PAYMENT_TOTAL_CURRENT_VAR</th>\n",
       "      <th>AGE</th>\n",
       "    </tr>\n",
       "  </thead>\n",
       "  <tbody>\n",
       "    <tr>\n",
       "      <th>0</th>\n",
       "      <td>180141.0</td>\n",
       "      <td>0</td>\n",
       "      <td>0.000000</td>\n",
       "      <td>-1117.000</td>\n",
       "      <td>0.000000</td>\n",
       "      <td>0.0</td>\n",
       "      <td>-2275.0</td>\n",
       "      <td>-360.000</td>\n",
       "      <td>0.000000</td>\n",
       "      <td>-2275.0</td>\n",
       "      <td>...</td>\n",
       "      <td>0.0</td>\n",
       "      <td>0.0</td>\n",
       "      <td>0.0</td>\n",
       "      <td>0.0</td>\n",
       "      <td>0.0</td>\n",
       "      <td>0.0</td>\n",
       "      <td>0.0</td>\n",
       "      <td>0.000000</td>\n",
       "      <td>0.0</td>\n",
       "      <td>53.0</td>\n",
       "    </tr>\n",
       "    <tr>\n",
       "      <th>1</th>\n",
       "      <td>316939.0</td>\n",
       "      <td>0</td>\n",
       "      <td>0.000000</td>\n",
       "      <td>-542.800</td>\n",
       "      <td>0.000000</td>\n",
       "      <td>0.0</td>\n",
       "      <td>-1069.0</td>\n",
       "      <td>-181.400</td>\n",
       "      <td>0.000000</td>\n",
       "      <td>-1069.0</td>\n",
       "      <td>...</td>\n",
       "      <td>0.0</td>\n",
       "      <td>0.0</td>\n",
       "      <td>0.0</td>\n",
       "      <td>0.0</td>\n",
       "      <td>0.0</td>\n",
       "      <td>0.0</td>\n",
       "      <td>0.0</td>\n",
       "      <td>0.000000</td>\n",
       "      <td>0.0</td>\n",
       "      <td>46.0</td>\n",
       "    </tr>\n",
       "    <tr>\n",
       "      <th>2</th>\n",
       "      <td>381085.0</td>\n",
       "      <td>0</td>\n",
       "      <td>0.000000</td>\n",
       "      <td>0.000</td>\n",
       "      <td>0.000000</td>\n",
       "      <td>0.0</td>\n",
       "      <td>0.0</td>\n",
       "      <td>0.000</td>\n",
       "      <td>0.333333</td>\n",
       "      <td>0.0</td>\n",
       "      <td>...</td>\n",
       "      <td>0.0</td>\n",
       "      <td>0.0</td>\n",
       "      <td>0.0</td>\n",
       "      <td>0.0</td>\n",
       "      <td>0.0</td>\n",
       "      <td>0.0</td>\n",
       "      <td>0.0</td>\n",
       "      <td>0.333333</td>\n",
       "      <td>0.0</td>\n",
       "      <td>31.0</td>\n",
       "    </tr>\n",
       "    <tr>\n",
       "      <th>3</th>\n",
       "      <td>289364.0</td>\n",
       "      <td>1</td>\n",
       "      <td>0.333333</td>\n",
       "      <td>-1313.375</td>\n",
       "      <td>0.333333</td>\n",
       "      <td>0.0</td>\n",
       "      <td>-2848.0</td>\n",
       "      <td>-859.125</td>\n",
       "      <td>0.000000</td>\n",
       "      <td>-2848.0</td>\n",
       "      <td>...</td>\n",
       "      <td>0.0</td>\n",
       "      <td>0.0</td>\n",
       "      <td>0.0</td>\n",
       "      <td>0.0</td>\n",
       "      <td>0.0</td>\n",
       "      <td>0.0</td>\n",
       "      <td>0.0</td>\n",
       "      <td>0.000000</td>\n",
       "      <td>0.0</td>\n",
       "      <td>62.0</td>\n",
       "    </tr>\n",
       "    <tr>\n",
       "      <th>4</th>\n",
       "      <td>290361.0</td>\n",
       "      <td>1</td>\n",
       "      <td>0.000000</td>\n",
       "      <td>-516.000</td>\n",
       "      <td>0.000000</td>\n",
       "      <td>0.0</td>\n",
       "      <td>-516.0</td>\n",
       "      <td>-333.000</td>\n",
       "      <td>0.000000</td>\n",
       "      <td>-516.0</td>\n",
       "      <td>...</td>\n",
       "      <td>0.0</td>\n",
       "      <td>0.0</td>\n",
       "      <td>0.0</td>\n",
       "      <td>0.0</td>\n",
       "      <td>0.0</td>\n",
       "      <td>0.0</td>\n",
       "      <td>0.0</td>\n",
       "      <td>0.000000</td>\n",
       "      <td>0.0</td>\n",
       "      <td>27.0</td>\n",
       "    </tr>\n",
       "  </tbody>\n",
       "</table>\n",
       "<p>5 rows × 202 columns</p>\n",
       "</div>"
      ],
      "text/plain": [
       "   SK_ID_CURR  TARGET  PREV_NAME_CONTRACT_STATUS_Refused_MEAN  \\\n",
       "0    180141.0       0                                0.000000   \n",
       "1    316939.0       0                                0.000000   \n",
       "2    381085.0       0                                0.000000   \n",
       "3    289364.0       1                                0.333333   \n",
       "4    290361.0       1                                0.000000   \n",
       "\n",
       "   BURO_DAYS_CREDIT_MEAN  PREV_CODE_REJECT_REASON_HC_MEAN  \\\n",
       "0              -1117.000                         0.000000   \n",
       "1               -542.800                         0.000000   \n",
       "2                  0.000                         0.000000   \n",
       "3              -1313.375                         0.333333   \n",
       "4               -516.000                         0.000000   \n",
       "\n",
       "   CC_CNT_DRAWINGS_ATM_CURRENT_MEAN  CLOSED_DAYS_CREDIT_MIN  \\\n",
       "0                               0.0                 -2275.0   \n",
       "1                               0.0                 -1069.0   \n",
       "2                               0.0                     0.0   \n",
       "3                               0.0                 -2848.0   \n",
       "4                               0.0                  -516.0   \n",
       "\n",
       "   BURO_DAYS_CREDIT_UPDATE_MEAN  PREV_NAME_PRODUCT_TYPE_walk-in_MEAN  \\\n",
       "0                      -360.000                             0.000000   \n",
       "1                      -181.400                             0.000000   \n",
       "2                         0.000                             0.333333   \n",
       "3                      -859.125                             0.000000   \n",
       "4                      -333.000                             0.000000   \n",
       "\n",
       "   BURO_DAYS_CREDIT_MIN  ...  CC_NAME_CONTRACT_STATUS_Signed_VAR  \\\n",
       "0               -2275.0  ...                                 0.0   \n",
       "1               -1069.0  ...                                 0.0   \n",
       "2                   0.0  ...                                 0.0   \n",
       "3               -2848.0  ...                                 0.0   \n",
       "4                -516.0  ...                                 0.0   \n",
       "\n",
       "   AMT_REQ_CREDIT_BUREAU_DAY  CC_AMT_PAYMENT_TOTAL_CURRENT_SUM  \\\n",
       "0                        0.0                               0.0   \n",
       "1                        0.0                               0.0   \n",
       "2                        0.0                               0.0   \n",
       "3                        0.0                               0.0   \n",
       "4                        0.0                               0.0   \n",
       "\n",
       "   PREV_NAME_CASH_LOAN_PURPOSE_Buying a new car_MEAN  NAME_TYPE_SUITE_Other_B  \\\n",
       "0                                                0.0                      0.0   \n",
       "1                                                0.0                      0.0   \n",
       "2                                                0.0                      0.0   \n",
       "3                                                0.0                      0.0   \n",
       "4                                                0.0                      0.0   \n",
       "\n",
       "   CC_CNT_DRAWINGS_CURRENT_VAR  CC_AMT_PAYMENT_CURRENT_SUM  \\\n",
       "0                          0.0                         0.0   \n",
       "1                          0.0                         0.0   \n",
       "2                          0.0                         0.0   \n",
       "3                          0.0                         0.0   \n",
       "4                          0.0                         0.0   \n",
       "\n",
       "   PREV_NAME_GOODS_CATEGORY_Mobile_MEAN  CC_AMT_PAYMENT_TOTAL_CURRENT_VAR  \\\n",
       "0                              0.000000                               0.0   \n",
       "1                              0.000000                               0.0   \n",
       "2                              0.333333                               0.0   \n",
       "3                              0.000000                               0.0   \n",
       "4                              0.000000                               0.0   \n",
       "\n",
       "    AGE  \n",
       "0  53.0  \n",
       "1  46.0  \n",
       "2  31.0  \n",
       "3  62.0  \n",
       "4  27.0  \n",
       "\n",
       "[5 rows x 202 columns]"
      ]
     },
     "execution_count": 153,
     "metadata": {},
     "output_type": "execute_result"
    }
   ],
   "source": [
    "df.head()"
   ]
  },
  {
   "cell_type": "markdown",
   "id": "f9f58f4f",
   "metadata": {},
   "source": [
    "import requests"
   ]
  },
  {
   "cell_type": "markdown",
   "id": "a1758fbe",
   "metadata": {},
   "source": [
    "# Analyse du DataDrift à l'aide de la Bibliothèque Evidently"
   ]
  },
  {
   "cell_type": "code",
   "execution_count": 6,
   "id": "f188187e",
   "metadata": {},
   "outputs": [],
   "source": [
    "df_train = pd.read_csv(\"application_train.csv\")\n",
    "df_test=pd.read_csv(\"application_test.csv\")"
   ]
  },
  {
   "cell_type": "markdown",
   "id": "1f6ddd4b",
   "metadata": {},
   "source": [
    "La présence de la colonne TARGET dans la base de données Train nous incite à provoquer son emplacement dans la base de données Test."
   ]
  },
  {
   "cell_type": "code",
   "execution_count": 7,
   "id": "294f32fa",
   "metadata": {},
   "outputs": [],
   "source": [
    "df_test = df_test.join(df_train[\"TARGET\"])"
   ]
  },
  {
   "cell_type": "code",
   "execution_count": 11,
   "id": "c127f54e",
   "metadata": {},
   "outputs": [
    {
     "ename": "NameError",
     "evalue": "name 'Dashboard' is not defined",
     "output_type": "error",
     "traceback": [
      "\u001b[0;31m---------------------------------------------------------------------------\u001b[0m",
      "\u001b[0;31mNameError\u001b[0m                                 Traceback (most recent call last)",
      "Cell \u001b[0;32mIn[11], line 2\u001b[0m\n\u001b[1;32m      1\u001b[0m \u001b[38;5;66;03m# Création d'un rapport Evidently avec l'onglet DataDriftTab\u001b[39;00m\n\u001b[0;32m----> 2\u001b[0m datadrift_report \u001b[38;5;241m=\u001b[39m \u001b[43mDashboard\u001b[49m(tabs\u001b[38;5;241m=\u001b[39m[DataDriftTab()])\n",
      "\u001b[0;31mNameError\u001b[0m: name 'Dashboard' is not defined"
     ]
    }
   ],
   "source": [
    "# Création d'un rapport Evidently avec l'onglet DataDriftTab\n",
    "datadrift_report = Dashboard(tabs=[DataDriftTab()])"
   ]
  },
  {
   "cell_type": "code",
   "execution_count": 12,
   "id": "967b284d",
   "metadata": {},
   "outputs": [
    {
     "ename": "NameError",
     "evalue": "name 'datadrift_report' is not defined",
     "output_type": "error",
     "traceback": [
      "\u001b[0;31m---------------------------------------------------------------------------\u001b[0m",
      "\u001b[0;31mNameError\u001b[0m                                 Traceback (most recent call last)",
      "Cell \u001b[0;32mIn[12], line 2\u001b[0m\n\u001b[1;32m      1\u001b[0m \u001b[38;5;66;03m# Calcul du datadrift entre les deux versions du jeu de données\u001b[39;00m\n\u001b[0;32m----> 2\u001b[0m \u001b[43mdatadrift_report\u001b[49m\u001b[38;5;241m.\u001b[39mcalculate(df_test, df_train, column_mapping\u001b[38;5;241m=\u001b[39m\u001b[38;5;28;01mNone\u001b[39;00m)\n",
      "\u001b[0;31mNameError\u001b[0m: name 'datadrift_report' is not defined"
     ]
    }
   ],
   "source": [
    "# Calcul du datadrift entre les deux versions du jeu de données\n",
    "datadrift_report.calculate(df_test, df_train, column_mapping=None)"
   ]
  },
  {
   "cell_type": "code",
   "execution_count": 13,
   "id": "0065d571",
   "metadata": {},
   "outputs": [
    {
     "ename": "NameError",
     "evalue": "name 'datadrift_report' is not defined",
     "output_type": "error",
     "traceback": [
      "\u001b[0;31m---------------------------------------------------------------------------\u001b[0m",
      "\u001b[0;31mNameError\u001b[0m                                 Traceback (most recent call last)",
      "Cell \u001b[0;32mIn[13], line 2\u001b[0m\n\u001b[1;32m      1\u001b[0m \u001b[38;5;66;03m# Affichage du rapport de datadrift\u001b[39;00m\n\u001b[0;32m----> 2\u001b[0m \u001b[43mdatadrift_report\u001b[49m\u001b[38;5;241m.\u001b[39mshow()\n",
      "\u001b[0;31mNameError\u001b[0m: name 'datadrift_report' is not defined"
     ]
    }
   ],
   "source": [
    "# Affichage du rapport de datadrift\n",
    "datadrift_report.show()"
   ]
  },
  {
   "cell_type": "markdown",
   "id": "368af955",
   "metadata": {},
   "source": [
    "# Représentations graphiques diverses"
   ]
  },
  {
   "cell_type": "markdown",
   "id": "d2230f80",
   "metadata": {},
   "source": [
    "#### Représentation graphique des âges de la clientèle"
   ]
  },
  {
   "cell_type": "code",
   "execution_count": 159,
   "id": "5f80682e",
   "metadata": {},
   "outputs": [
    {
     "data": {
      "image/png": "[encoded data removed]",
      "text/plain": [
       "<Figure size 2000x500 with 1 Axes>"
      ]
     },
     "metadata": {},
     "output_type": "display_data"
    }
   ],
   "source": [
    "plt.figure(figsize=(20, 5))\n",
    "sns.histplot((df['DAYS_BIRTH'] / -365), bins = 30).set_title('Age of client')\n",
    "plt.show()"
   ]
  },
  {
   "cell_type": "markdown",
   "id": "6ed01f85",
   "metadata": {},
   "source": [
    "#### Représentation de la distribution de la \"Target\" en fonction de l'âge du client"
   ]
  },
  {
   "cell_type": "code",
   "execution_count": 160,
   "id": "4066cff3",
   "metadata": {},
   "outputs": [
    {
     "data": {
      "image/png": "[encoded data removed]",
      "text/plain": [
       "<Figure size 2000x800 with 1 Axes>"
      ]
     },
     "metadata": {},
     "output_type": "display_data"
    }
   ],
   "source": [
    "plt.figure(figsize = (20, 8))\n",
    "sns.kdeplot(df[df['TARGET'] == 0]['DAYS_BIRTH'] / -365, label = 'TARGET 0')\n",
    "sns.kdeplot(df[df['TARGET'] == 1]['DAYS_BIRTH'] / -365, label = 'TARGET 1')\n",
    "\n",
    "plt.legend(), plt.xlabel('Age'), plt.ylabel('Taux'), plt.title('Représentation des âges')\n",
    "plt.show()"
   ]
  },
  {
   "cell_type": "code",
   "execution_count": 161,
   "id": "81f83aea",
   "metadata": {},
   "outputs": [
    {
     "ename": "NameError",
     "evalue": "name 'NAME_INCOME_TYPE_Working' is not defined",
     "output_type": "error",
     "traceback": [
      "\u001b[0;31m---------------------------------------------------------------------------\u001b[0m",
      "\u001b[0;31mNameError\u001b[0m                                 Traceback (most recent call last)",
      "Cell \u001b[0;32mIn[161], line 1\u001b[0m\n\u001b[0;32m----> 1\u001b[0m \u001b[43mNAME_INCOME_TYPE_Working\u001b[49m\n",
      "\u001b[0;31mNameError\u001b[0m: name 'NAME_INCOME_TYPE_Working' is not defined"
     ]
    }
   ],
   "source": [
    "NAME_INCOME_TYPE_Working"
   ]
  },
  {
   "cell_type": "code",
   "execution_count": 162,
   "id": "80d00685",
   "metadata": {},
   "outputs": [
    {
     "data": {
      "text/plain": [
       "<Axes: xlabel='NAME_INCOME_TYPE_Working', ylabel='Density'>"
      ]
     },
     "execution_count": 162,
     "metadata": {},
     "output_type": "execute_result"
    },
    {
     "data": {
      "image/png": "[encoded data removed]",
      "text/plain": [
       "<Figure size 2000x800 with 1 Axes>"
      ]
     },
     "metadata": {},
     "output_type": "display_data"
    }
   ],
   "source": [
    "plt.figure(figsize = (20, 8))\n",
    "sns.kdeplot(df[df['TARGET'] == 0]['NAME_INCOME_TYPE_Working'], label = 'TARGET 0')\n",
    "sns.kdeplot(df[df['TARGET'] == 1]['NAME_INCOME_TYPE_Working'], label = 'TARGET 1')"
   ]
  },
  {
   "cell_type": "code",
   "execution_count": null,
   "id": "a24ff280",
   "metadata": {},
   "outputs": [],
   "source": []
  },
  {
   "cell_type": "code",
   "execution_count": null,
   "id": "9092be13",
   "metadata": {},
   "outputs": [],
   "source": [
    "\"\""
   ]
  }
 ],
 "metadata": {
  "kernelspec": {
   "display_name": "Python 3 (ipykernel)",
   "language": "python",
   "name": "python3"
  },
  "language_info": {
   "codemirror_mode": {
    "name": "ipython",
    "version": 3
   },
   "file_extension": ".py",
   "mimetype": "text/x-python",
   "name": "python",
   "nbconvert_exporter": "python",
   "pygments_lexer": "ipython3",
   "version": "3.9.16"
  }
 },
 "nbformat": 4,
 "nbformat_minor": 5
}
